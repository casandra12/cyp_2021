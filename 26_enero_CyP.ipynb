{
  "nbformat": 4,
  "nbformat_minor": 0,
  "metadata": {
    "colab": {
      "name": "26_enero_CyP.ipynb",
      "provenance": [],
      "authorship_tag": "ABX9TyPNHEdHgTwmMW0X/SRe1Ohm",
      "include_colab_link": true
    },
    "kernelspec": {
      "name": "python3",
      "display_name": "Python 3"
    }
  },
  "cells": [
    {
      "cell_type": "markdown",
      "metadata": {
        "id": "view-in-github",
        "colab_type": "text"
      },
      "source": [
        "<a href=\"https://colab.research.google.com/github/casandra12/cyp_2021/blob/main/26_enero_CyP.ipynb\" target=\"_parent\"><img src=\"https://colab.research.google.com/assets/colab-badge.svg\" alt=\"Open In Colab\"/></a>"
      ]
    },
    {
      "cell_type": "markdown",
      "metadata": {
        "id": "ezbD4ByvJt_K"
      },
      "source": [
        "Listas de Phyton 3\n",
        "Es una estructura de datos lineal de 0 o n elementos.\n",
        "\"Equivalente\" a los arreglo.\n",
        "Pueden ser de idferente tipo de dato. [1,2,32,12] , [1, True, 2.34, \"Hola\"]\n",
        "Puden ser anidaddos, listas de listas. [\"Melon\", manzana roja\", \"manzana amarilla\"]\n",
        "Su selector es de la forma: [ int ],\n",
        "Son mutables."
      ]
    },
    {
      "cell_type": "code",
      "metadata": {
        "colab": {
          "base_uri": "https://localhost:8080/"
        },
        "id": "_zCEGj5ZJmQM",
        "outputId": "979f068f-1674-4c64-c370-eb82b54c3e36"
      },
      "source": [
        "#ejemplos\n",
        "numeros = [4,2,45,7,83,3]\n",
        "print(numeros)\n",
        "print(numeros[2])\n",
        "\n",
        "# una lista de 0 elementos\n",
        "colores=[] # lsit()\n",
        "type(colores) # averiguar de que tipo de dato es una variable con la funcion phyton \n",
        "dias = list()\n",
        "print(colores)\n",
        "print(dias)\n",
        "\n",
        "#puden ser de diferentee tipo de datos\n",
        "\n",
        "mi_lista = [1,2,3, \"Jose\", False, 1.76, [5587596263, 55384593, 5510050140]]\n",
        "print(mi_lista)\n",
        "print(mi_lista[5])\n",
        "print(mi_lista[6][1])\n",
        "print(mi_lista[3][3])\n",
        "print(mi_lista[3][3::])\n",
        "print(mi_lista[3][-1::1])\n",
        "mi_lista = [1,2,3, \"Jose\", False, 1.76, [\"5587596263,\" \"55384593\", \"5510050140\"]]\n",
        "print( str(mi_lista[6][1][2]))"
      ],
      "execution_count": 2,
      "outputs": [
        {
          "output_type": "stream",
          "text": [
            "[4, 2, 45, 7, 83, 3]\n",
            "45\n",
            "[]\n",
            "[]\n",
            "[1, 2, 3, 'Jose', False, 1.76, [5587596263, 55384593, 5510050140]]\n",
            "1.76\n",
            "55384593\n",
            "e\n",
            "e\n",
            "e\n",
            "1\n"
          ],
          "name": "stdout"
        }
      ]
    },
    {
      "cell_type": "code",
      "metadata": {
        "id": "uvC_TA-cJ7uw"
      },
      "source": [
        "fruta = [\"melon\", \"sandia\", \"liwi\", \"aguacate\", \"mango\", \"platano\"]\n",
        "print(fruta)\n",
        "fruta[0] = \"Melòn\"\n",
        "print(fruta)\n",
        "#frutas[1] = \"S\"\n",
        "#print(fruta)\n",
        "#frutas[1][0] = \"S\"\n",
        "fruta[1] = fruta[1].capitalize()\n",
        "print(fruta)\n"
      ],
      "execution_count": null,
      "outputs": []
    },
    {
      "cell_type": "code",
      "metadata": {
        "colab": {
          "base_uri": "https://localhost:8080/"
        },
        "id": "dpqYeNV-KBsj",
        "outputId": "12805e6e-abbd-499e-99e7-20e2e48d0293"
      },
      "source": [
        "# Las listas son clases por lo tanto, tienen métodos.\n",
        "# Ejemplos: Append, agrega un elemneto al final\n",
        "fruta = [\"melon\", \"sandia\", \"liwi\", \"aguacate\", \"mango\", \"platano\"]\n",
        "fruta.append(\"Fresa\")\n",
        "print(fruta)\n",
        "\n",
        "print(\"Ejemplo de copias\")\n",
        "otras_frutas = fruta.copy()\n",
        "print(fruta)\n",
        "print(otras_frutas)\n",
        "otras_frutas[0]=\"Chico zapote\"\n",
        "print(otras_frutas)\n",
        "print(fruta)\n",
        "print(\"----------\")\n",
        "\n",
        "print(\"ejemplo de extend\")\n",
        "\n",
        "colores = [\"rojo\", \"verde\", \"azul\"]\n",
        "fruta.extend(colores)\n",
        "print(fruta)\n",
        "\n",
        "print(\"ejempplo insert\")\n",
        "print(f\"tamaño de la lista = {len(fruta)}\")\n",
        "fruta.insert(3, \"Limon\")\n",
        "print(f\"tamaño de la lista = {len(fruta)}\")\n",
        "print(fruta)\n",
        "\n",
        "print(\"ejemplo remove, eliminar kiwi\")\n",
        "fruta.remove(\"liwi\")\n",
        "print(fruta)\n",
        "\n",
        "print(\"ejemplo con el operador del\")\n",
        "del fruta[2] #operdador de lista\n",
        "print(fruta)\n",
        "\n",
        "fruta.clear()\n",
        "print(fruta)"
      ],
      "execution_count": 3,
      "outputs": [
        {
          "output_type": "stream",
          "text": [
            "['melon', 'sandia', 'liwi', 'aguacate', 'mango', 'platano', 'Fresa']\n",
            "Ejemplo de copias\n",
            "['melon', 'sandia', 'liwi', 'aguacate', 'mango', 'platano', 'Fresa']\n",
            "['melon', 'sandia', 'liwi', 'aguacate', 'mango', 'platano', 'Fresa']\n",
            "['Chico zapote', 'sandia', 'liwi', 'aguacate', 'mango', 'platano', 'Fresa']\n",
            "['melon', 'sandia', 'liwi', 'aguacate', 'mango', 'platano', 'Fresa']\n",
            "----------\n",
            "ejemplo de extend\n",
            "['melon', 'sandia', 'liwi', 'aguacate', 'mango', 'platano', 'Fresa', 'rojo', 'verde', 'azul']\n",
            "ejempplo insert\n",
            "tamaño de la lista = 10\n",
            "tamaño de la lista = 11\n",
            "['melon', 'sandia', 'liwi', 'Limon', 'aguacate', 'mango', 'platano', 'Fresa', 'rojo', 'verde', 'azul']\n",
            "ejemplo remove, eliminar kiwi\n",
            "['melon', 'sandia', 'Limon', 'aguacate', 'mango', 'platano', 'Fresa', 'rojo', 'verde', 'azul']\n",
            "ejemplo con el operador del\n",
            "['melon', 'sandia', 'aguacate', 'mango', 'platano', 'Fresa', 'rojo', 'verde', 'azul']\n",
            "[]\n"
          ],
          "name": "stdout"
        }
      ]
    },
    {
      "cell_type": "code",
      "metadata": {
        "colab": {
          "base_uri": "https://localhost:8080/"
        },
        "id": "ySEaPOMbKGu5",
        "outputId": "53073ac9-496e-4a41-96bf-c2dcaf9107a5"
      },
      "source": [
        "cosas = [\"jose\",True,2,3,4,5,\"pedro\",1.23]\n",
        "indice = 0\n",
        "a_eliminar=[]\n",
        "for elemento in cosas:\n",
        "    if isinstance( elemento , int ) :\n",
        "        print(\"entero\",elemento) # cosas.remove(elemento)\n",
        "        a_eliminar.append(elemento)\n",
        "    indice += 1\n",
        "\n",
        "print(a_eliminar)\n",
        "for indice in a_eliminar:\n",
        "    print( indice)\n",
        "    cosas.remove(indice)\n",
        "print(cosas)"
      ],
      "execution_count": 4,
      "outputs": [
        {
          "output_type": "stream",
          "text": [
            "entero True\n",
            "entero 2\n",
            "entero 3\n",
            "entero 4\n",
            "entero 5\n",
            "[True, 2, 3, 4, 5]\n",
            "True\n",
            "2\n",
            "3\n",
            "4\n",
            "5\n",
            "['jose', 'pedro', 1.23]\n"
          ],
          "name": "stdout"
        }
      ]
    },
    {
      "cell_type": "code",
      "metadata": {
        "colab": {
          "base_uri": "https://localhost:8080/"
        },
        "id": "QEx704-rKWod",
        "outputId": "53fd6488-6400-4aa4-bf56-a90881f5bd50"
      },
      "source": [
        "\n",
        "help(fruta)"
      ],
      "execution_count": 6,
      "outputs": [
        {
          "output_type": "stream",
          "text": [
            "Help on list object:\n",
            "\n",
            "class list(object)\n",
            " |  list() -> new empty list\n",
            " |  list(iterable) -> new list initialized from iterable's items\n",
            " |  \n",
            " |  Methods defined here:\n",
            " |  \n",
            " |  __add__(self, value, /)\n",
            " |      Return self+value.\n",
            " |  \n",
            " |  __contains__(self, key, /)\n",
            " |      Return key in self.\n",
            " |  \n",
            " |  __delitem__(self, key, /)\n",
            " |      Delete self[key].\n",
            " |  \n",
            " |  __eq__(self, value, /)\n",
            " |      Return self==value.\n",
            " |  \n",
            " |  __ge__(self, value, /)\n",
            " |      Return self>=value.\n",
            " |  \n",
            " |  __getattribute__(self, name, /)\n",
            " |      Return getattr(self, name).\n",
            " |  \n",
            " |  __getitem__(...)\n",
            " |      x.__getitem__(y) <==> x[y]\n",
            " |  \n",
            " |  __gt__(self, value, /)\n",
            " |      Return self>value.\n",
            " |  \n",
            " |  __iadd__(self, value, /)\n",
            " |      Implement self+=value.\n",
            " |  \n",
            " |  __imul__(self, value, /)\n",
            " |      Implement self*=value.\n",
            " |  \n",
            " |  __init__(self, /, *args, **kwargs)\n",
            " |      Initialize self.  See help(type(self)) for accurate signature.\n",
            " |  \n",
            " |  __iter__(self, /)\n",
            " |      Implement iter(self).\n",
            " |  \n",
            " |  __le__(self, value, /)\n",
            " |      Return self<=value.\n",
            " |  \n",
            " |  __len__(self, /)\n",
            " |      Return len(self).\n",
            " |  \n",
            " |  __lt__(self, value, /)\n",
            " |      Return self<value.\n",
            " |  \n",
            " |  __mul__(self, value, /)\n",
            " |      Return self*value.\n",
            " |  \n",
            " |  __ne__(self, value, /)\n",
            " |      Return self!=value.\n",
            " |  \n",
            " |  __new__(*args, **kwargs) from builtins.type\n",
            " |      Create and return a new object.  See help(type) for accurate signature.\n",
            " |  \n",
            " |  __repr__(self, /)\n",
            " |      Return repr(self).\n",
            " |  \n",
            " |  __reversed__(...)\n",
            " |      L.__reversed__() -- return a reverse iterator over the list\n",
            " |  \n",
            " |  __rmul__(self, value, /)\n",
            " |      Return value*self.\n",
            " |  \n",
            " |  __setitem__(self, key, value, /)\n",
            " |      Set self[key] to value.\n",
            " |  \n",
            " |  __sizeof__(...)\n",
            " |      L.__sizeof__() -- size of L in memory, in bytes\n",
            " |  \n",
            " |  append(...)\n",
            " |      L.append(object) -> None -- append object to end\n",
            " |  \n",
            " |  clear(...)\n",
            " |      L.clear() -> None -- remove all items from L\n",
            " |  \n",
            " |  copy(...)\n",
            " |      L.copy() -> list -- a shallow copy of L\n",
            " |  \n",
            " |  count(...)\n",
            " |      L.count(value) -> integer -- return number of occurrences of value\n",
            " |  \n",
            " |  extend(...)\n",
            " |      L.extend(iterable) -> None -- extend list by appending elements from the iterable\n",
            " |  \n",
            " |  index(...)\n",
            " |      L.index(value, [start, [stop]]) -> integer -- return first index of value.\n",
            " |      Raises ValueError if the value is not present.\n",
            " |  \n",
            " |  insert(...)\n",
            " |      L.insert(index, object) -- insert object before index\n",
            " |  \n",
            " |  pop(...)\n",
            " |      L.pop([index]) -> item -- remove and return item at index (default last).\n",
            " |      Raises IndexError if list is empty or index is out of range.\n",
            " |  \n",
            " |  remove(...)\n",
            " |      L.remove(value) -> None -- remove first occurrence of value.\n",
            " |      Raises ValueError if the value is not present.\n",
            " |  \n",
            " |  reverse(...)\n",
            " |      L.reverse() -- reverse *IN PLACE*\n",
            " |  \n",
            " |  sort(...)\n",
            " |      L.sort(key=None, reverse=False) -> None -- stable sort *IN PLACE*\n",
            " |  \n",
            " |  ----------------------------------------------------------------------\n",
            " |  Data and other attributes defined here:\n",
            " |  \n",
            " |  __hash__ = None\n",
            "\n"
          ],
          "name": "stdout"
        }
      ]
    },
    {
      "cell_type": "code",
      "metadata": {
        "colab": {
          "base_uri": "https://localhost:8080/"
        },
        "id": "IkQIeNwNKdy8",
        "outputId": "7613a5eb-e502-48b4-ef4e-16e758183e0e"
      },
      "source": [
        "# slicing sobre listas\n",
        "fruta = [\"melon\", \"sandia\", \"liwi\", \"aguacate\", \"mango\", \"platano\"]\n",
        "\n",
        "print(fruta[1:4])\n",
        "\n",
        "sistemas_operativos = [\"Windows\", \"mac OS\", \"Linux\", \"Android\"]\n",
        "autos = [\"Ford\", \"mazda\", \"Honda\"]\n",
        "\n",
        "cosas = [ sistemas_operativos, autos]\n",
        "print(cosas)\n",
        "print(cosas[1])\n",
        "print(cosas[0][2])\n",
        "print(cosas[0][3][2:5:1])\n",
        "print(cosas[1][1][-2:-5:-1])"
      ],
      "execution_count": 7,
      "outputs": [
        {
          "output_type": "stream",
          "text": [
            "['sandia', 'liwi', 'aguacate']\n",
            "[['Windows', 'mac OS', 'Linux', 'Android'], ['Ford', 'mazda', 'Honda']]\n",
            "['Ford', 'mazda', 'Honda']\n",
            "Linux\n",
            "dro\n",
            "dza\n"
          ],
          "name": "stdout"
        }
      ]
    },
    {
      "cell_type": "markdown",
      "metadata": {
        "id": "ch5H-HzUJ0J_"
      },
      "source": [
        ""
      ]
    }
  ]
}