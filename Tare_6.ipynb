{
  "nbformat": 4,
  "nbformat_minor": 0,
  "metadata": {
    "colab": {
      "name": "Tare_6.ipynb",
      "provenance": [],
      "authorship_tag": "ABX9TyNn4BHKLimJ+XsRWSDzK8Cw",
      "include_colab_link": true
    },
    "kernelspec": {
      "name": "python3",
      "display_name": "Python 3"
    }
  },
  "cells": [
    {
      "cell_type": "markdown",
      "metadata": {
        "id": "view-in-github",
        "colab_type": "text"
      },
      "source": [
        "<a href=\"https://colab.research.google.com/github/casandra12/cyp_2021/blob/main/Tare_6.ipynb\" target=\"_parent\"><img src=\"https://colab.research.google.com/assets/colab-badge.svg\" alt=\"Open In Colab\"/></a>"
      ]
    },
    {
      "cell_type": "code",
      "metadata": {
        "colab": {
          "base_uri": "https://localhost:8080/"
        },
        "id": "5gtoEM1Uv1Kl",
        "outputId": "dfe68ede-8a32-43d4-fff8-b5bf178bd9bf"
      },
      "source": [
        "#Problema 3.3\n",
        "dato = int(input(\"Numero final: \"))\n",
        "if dato < 1 :\n",
        "    print(\"Solo numeros positivos mayores a cero.\")\n",
        "else :\n",
        "    i = 1\n",
        "    flag = True\n",
        "    cadenaD = \"\"\n",
        "    cadenaF = \"\"\n",
        "    while i <= dato :\n",
        "        aux = 1/i\n",
        "        cadenaD += (\"{0:.2f}\".format(1/i)) if flag else (\"{0:.2f}\".format(-(1/i)))\n",
        "        cadenaD += (\", \") if i < dato else \"\"\n",
        "        cadenaF += (f\"1/{i}\") if flag else (f\"-1/{i}\")\n",
        "        cadenaF += (\", \") if i < dato else \"\"\n",
        "        flag = not flag\n",
        "        i += 1\n",
        "    print(cadenaD)\n",
        "    print(cadenaF)"
      ],
      "execution_count": 2,
      "outputs": [
        {
          "output_type": "stream",
          "text": [
            "Numero final: 3\n",
            "1.00, -0.50, 0.33\n",
            "1/1, -1/2, 1/3\n"
          ],
          "name": "stdout"
        }
      ]
    },
    {
      "cell_type": "code",
      "metadata": {
        "colab": {
          "base_uri": "https://localhost:8080/"
        },
        "id": "YtP2OzBR1SFQ",
        "outputId": "8e3c307d-b88b-49b8-a967-06a517b1918d"
      },
      "source": [
        "#Problema 3.4\n",
        "sueldo = 1\n",
        "nomina = 0\n",
        "while sueldo > 0 :\n",
        "    sueldo = float(input(\"Sueldo: $\"))\n",
        "    sueldo = (sueldo * 1.15) if sueldo < 1000 else (sueldo * 1.12)\n",
        "    if sueldo > 0 :\n",
        "        print(\"El sueldo total es: ${0:.2f}\".format(sueldo))\n",
        "        nomina += sueldo\n",
        "    else :\n",
        "        break\n",
        "print(\"La nomina total es: ${0:.2f}\".format(nomina))"
      ],
      "execution_count": 3,
      "outputs": [
        {
          "output_type": "stream",
          "text": [
            "Sueldo: $855\n",
            "El sueldo total es: $983.25\n",
            "Sueldo: $760\n",
            "El sueldo total es: $874.00\n",
            "Sueldo: $1110.20\n",
            "El sueldo total es: $1243.42\n",
            "Sueldo: $2600\n",
            "El sueldo total es: $2912.00\n",
            "Sueldo: $817\n",
            "El sueldo total es: $939.55\n",
            "Sueldo: $-1\n",
            "La nomina total es: $6952.22\n"
          ],
          "name": "stdout"
        }
      ]
    },
    {
      "cell_type": "code",
      "metadata": {
        "colab": {
          "base_uri": "https://localhost:8080/"
        },
        "id": "fpJLyvwA3BEF",
        "outputId": "bbd15523-8a5b-4cce-e29b-1203017fc99c"
      },
      "source": [
        "sumaNumerosPos = 0\n",
        "sumaTodosNumeros = 0\n",
        "cantidadNumerosPos = 0\n",
        "i = 1\n",
        "cantidadDatos = int(input(\"¿Cuantos datos ingresaras? -:\"))\n",
        "while i <= cantidadDatos :\n",
        "    aux = int(input(\"Numero: \"))\n",
        "    sumaTodosNumeros += aux\n",
        "    if aux > 0 :\n",
        "        sumaNumerosPos += aux\n",
        "        cantidadNumerosPos += 1\n",
        "    i += 1\n",
        "print(f\"El total de numeros positivos fue: {cantidadNumerosPos}\")\n",
        "print(\"El promedio de los numeros positivos es: {0:.2f}\".format(sumaNumerosPos/cantidadNumerosPos))\n",
        "print(\"El promedio de todos los numeros fue: {0:.2f}\".format(sumaTodosNumeros/cantidadDatos))"
      ],
      "execution_count": 5,
      "outputs": [
        {
          "output_type": "stream",
          "text": [
            "¿Cuantos datos ingresaras? -:7\n",
            "Numero: 8\n",
            "Numero: 2\n",
            "Numero: 9\n",
            "Numero: 2\n",
            "Numero: 8\n",
            "Numero: 4\n",
            "Numero: 7\n",
            "El total de numeros positivos fue: 7\n",
            "El promedio de los numeros positivos es: 5.71\n",
            "El promedio de todos los numeros fue: 5.71\n"
          ],
          "name": "stdout"
        }
      ]
    },
    {
      "cell_type": "code",
      "metadata": {
        "colab": {
          "base_uri": "https://localhost:8080/"
        },
        "id": "mNsHEZ5u3zji",
        "outputId": "fe0f2282-3882-4cfc-9028-3dfd0f0e4519"
      },
      "source": [
        "#Problema 3.6\n",
        "cantidadDatos = int(input(\"¿Cuantos datos ingresaras? -:\"))\n",
        "if cantidadDatos < 1 :\n",
        "    print(\"Cantidad de datos no permitida.\")\n",
        "else :\n",
        "    listaNumeros = []\n",
        "    i = 1\n",
        "    while i <=  cantidadDatos :\n",
        "        listaNumeros.append(int(input(\"Numero: \")))\n",
        "        i += 1\n",
        "    for i in range(cantidadDatos) :\n",
        "        for j in range(cantidadDatos - 1) :\n",
        "            if listaNumeros[j] > listaNumeros[j+1] :\n",
        "                aux = listaNumeros[j+1]\n",
        "                listaNumeros[j+1] = listaNumeros[j]\n",
        "                listaNumeros[j] = aux\n",
        "    print(f\"El numero mas pequeño es: {listaNumeros[0]}\")\n",
        "    print(f\"El numero mas grande es: {listaNumeros[cantidadDatos - 1]}\")"
      ],
      "execution_count": 6,
      "outputs": [
        {
          "output_type": "stream",
          "text": [
            "¿Cuantos datos ingresaras? -:8\n",
            "Numero: 7\n",
            "Numero: 1\n",
            "Numero: 2\n",
            "Numero: 3\n",
            "Numero: 5\n",
            "Numero: 7\n",
            "Numero: 9\n",
            "Numero: 21\n",
            "El numero mas pequeño es: 1\n",
            "El numero mas grande es: 21\n"
          ],
          "name": "stdout"
        }
      ]
    },
    {
      "cell_type": "code",
      "metadata": {
        "colab": {
          "base_uri": "https://localhost:8080/"
        },
        "id": "XuEtrsop4HOQ",
        "outputId": "02e066a7-6949-4b4c-eb60-9abc0f6e53e2"
      },
      "source": [
        "#Problema 3.7\n",
        "cantidadVentas = int(input(\"Cantidad de ventas: \"))\n",
        "if cantidadVentas < 1 :\n",
        "    print(\"Cantidad no admitida.\")\n",
        "else :\n",
        "    i = 1\n",
        "    venta_0_200 = 0\n",
        "    venta_200_400 = 0\n",
        "    venta_400 = 0\n",
        "    while i <= cantidadVentas :\n",
        "        venta = float(input(\"Total de venta: \"))\n",
        "        if venta < 0:\n",
        "            print(\"No se admiten ventas negativas.\")\n",
        "            break\n",
        "        else :\n",
        "            if venta >= 0 and venta < 200 :\n",
        "                venta_0_200 += 1\n",
        "            elif venta >= 200 and venta < 400 :\n",
        "                venta_200_400 += 1\n",
        "            else :\n",
        "                venta_400 += 1\n",
        "        i += 1\n",
        "    print(f\"Total de ventas de $200 o menos: {venta_0_200}\")\n",
        "    print(f\"Total de ventas de $200 a $400: {venta_200_400}\")\n",
        "    print(f\"Total de ventas de mas de $400: {venta_400}\")"
      ],
      "execution_count": 10,
      "outputs": [
        {
          "output_type": "stream",
          "text": [
            "Cantidad de ventas: 10\n",
            "Total de venta: 34.6\n",
            "Total de venta: 234.9\n",
            "Total de venta: 1298.4\n",
            "Total de venta: 10.7\n",
            "Total de venta: 363.00\n",
            "Total de venta: 46.0\n",
            "Total de venta: 453.0\n",
            "Total de venta: 245.\n",
            "Total de venta: 2345\n",
            "Total de venta: 345.2\n",
            "Total de ventas de $200 o menos: 3\n",
            "Total de ventas de $200 a $400: 4\n",
            "Total de ventas de mas de $400: 3\n"
          ],
          "name": "stdout"
        }
      ]
    },
    {
      "cell_type": "code",
      "metadata": {
        "colab": {
          "base_uri": "https://localhost:8080/"
        },
        "id": "wV3-ON8t4sVf",
        "outputId": "d1ef3a9d-04c4-4166-dad4-06c115752876"
      },
      "source": [
        "#Problema 3.8\n",
        "numero = int(input(\"Numero: \"))\n",
        "if numero < 1 :\n",
        "    print(\"Solo numeros positivos.\")\n",
        "else :\n",
        "    cadena = f\"{numero}, \"\n",
        "    while numero != 1 :\n",
        "        numero = (int(numero/2)) if numero%2 == 0 else ((numero * 3) + 1)\n",
        "        cadena += (f\"{numero}, \") if numero != 1 else (f\"{numero}\")\n",
        "print(cadena)"
      ],
      "execution_count": 11,
      "outputs": [
        {
          "output_type": "stream",
          "text": [
            "Numero: 65\n",
            "65, 196, 98, 49, 148, 74, 37, 112, 56, 28, 14, 7, 22, 11, 34, 17, 52, 26, 13, 40, 20, 10, 5, 16, 8, 4, 2, 1\n"
          ],
          "name": "stdout"
        }
      ]
    },
    {
      "cell_type": "code",
      "metadata": {
        "colab": {
          "base_uri": "https://localhost:8080/"
        },
        "id": "9FdbVwB75ADk",
        "outputId": "3b6cec95-09e9-46c8-d213-d6c3f139440a"
      },
      "source": [
        "#Problema 3.9\n",
        "numero = int(input(\"Numero: \"))\n",
        "if numero < 1 :\n",
        "    print(\"Solo numeros positivos.\")\n",
        "else :\n",
        "    cont = 0\n",
        "    i = 1\n",
        "    while i <= numero :\n",
        "        cont += i ** i\n",
        "        i += 1\n",
        "    print(f\"Total: {cont}\")\n",
        "    "
      ],
      "execution_count": 13,
      "outputs": [
        {
          "output_type": "stream",
          "text": [
            "Numero: 9\n",
            "Total: 405071317\n"
          ],
          "name": "stdout"
        }
      ]
    },
    {
      "cell_type": "code",
      "metadata": {
        "colab": {
          "base_uri": "https://localhost:8080/"
        },
        "id": "Egy3429f5LLl",
        "outputId": "c97f55b3-614a-4efb-f932-9084005d863b"
      },
      "source": [
        "#Problema 3.10\n",
        "i = 3\n",
        "primero = 0\n",
        "segundo = 1\n",
        "cadena = \"0, 1, \"\n",
        "while i <= 180 :\n",
        "    proximo = primero + segundo\n",
        "    primero = segundo\n",
        "    segundo = proximo\n",
        "    cadena += (f\"{proximo}, \") if i < 180 else (f\"{proximo}\")\n",
        "    i += 1\n",
        "print(cadena)"
      ],
      "execution_count": 17,
      "outputs": [
        {
          "output_type": "stream",
          "text": [
            "0, 1, 1, 2, 3, 5, 8, 13, 21, 34, 55, 89, 144, 233, 377, 610, 987, 1597, 2584, 4181, 6765, 10946, 17711, 28657, 46368, 75025, 121393, 196418, 317811, 514229, 832040, 1346269, 2178309, 3524578, 5702887, 9227465, 14930352, 24157817, 39088169, 63245986, 102334155, 165580141, 267914296, 433494437, 701408733, 1134903170, 1836311903, 2971215073, 4807526976, 7778742049, 12586269025, 20365011074, 32951280099, 53316291173, 86267571272, 139583862445, 225851433717, 365435296162, 591286729879, 956722026041, 1548008755920, 2504730781961, 4052739537881, 6557470319842, 10610209857723, 17167680177565, 27777890035288, 44945570212853, 72723460248141, 117669030460994, 190392490709135, 308061521170129, 498454011879264, 806515533049393, 1304969544928657, 2111485077978050, 3416454622906707, 5527939700884757, 8944394323791464, 14472334024676221, 23416728348467685, 37889062373143906, 61305790721611591, 99194853094755497, 160500643816367088, 259695496911122585, 420196140727489673, 679891637638612258, 1100087778366101931, 1779979416004714189, 2880067194370816120, 4660046610375530309, 7540113804746346429, 12200160415121876738, 19740274219868223167, 31940434634990099905, 51680708854858323072, 83621143489848422977, 135301852344706746049, 218922995834555169026, 354224848179261915075, 573147844013817084101, 927372692193078999176, 1500520536206896083277, 2427893228399975082453, 3928413764606871165730, 6356306993006846248183, 10284720757613717413913, 16641027750620563662096, 26925748508234281076009, 43566776258854844738105, 70492524767089125814114, 114059301025943970552219, 184551825793033096366333, 298611126818977066918552, 483162952612010163284885, 781774079430987230203437, 1264937032042997393488322, 2046711111473984623691759, 3311648143516982017180081, 5358359254990966640871840, 8670007398507948658051921, 14028366653498915298923761, 22698374052006863956975682, 36726740705505779255899443, 59425114757512643212875125, 96151855463018422468774568, 155576970220531065681649693, 251728825683549488150424261, 407305795904080553832073954, 659034621587630041982498215, 1066340417491710595814572169, 1725375039079340637797070384, 2791715456571051233611642553, 4517090495650391871408712937, 7308805952221443105020355490, 11825896447871834976429068427, 19134702400093278081449423917, 30960598847965113057878492344, 50095301248058391139327916261, 81055900096023504197206408605, 131151201344081895336534324866, 212207101440105399533740733471, 343358302784187294870275058337, 555565404224292694404015791808, 898923707008479989274290850145, 1454489111232772683678306641953, 2353412818241252672952597492098, 3807901929474025356630904134051, 6161314747715278029583501626149, 9969216677189303386214405760200, 16130531424904581415797907386349, 26099748102093884802012313146549, 42230279526998466217810220532898, 68330027629092351019822533679447, 110560307156090817237632754212345, 178890334785183168257455287891792, 289450641941273985495088042104137, 468340976726457153752543329995929, 757791618667731139247631372100066, 1226132595394188293000174702095995, 1983924214061919432247806074196061, 3210056809456107725247980776292056, 5193981023518027157495786850488117, 8404037832974134882743767626780173, 13598018856492162040239554477268290, 22002056689466296922983322104048463, 35600075545958458963222876581316753, 57602132235424755886206198685365216, 93202207781383214849429075266681969, 150804340016807970735635273952047185, 244006547798191185585064349218729154, 394810887814999156320699623170776339, 638817435613190341905763972389505493, 1033628323428189498226463595560281832, 1672445759041379840132227567949787325, 2706074082469569338358691163510069157, 4378519841510949178490918731459856482, 7084593923980518516849609894969925639, 11463113765491467695340528626429782121\n"
          ],
          "name": "stdout"
        }
      ]
    },
    {
      "cell_type": "code",
      "metadata": {
        "colab": {
          "base_uri": "https://localhost:8080/"
        },
        "id": "SXTGJyin5UnS",
        "outputId": "3fca5955-fcf8-45dc-b00f-d03c5b19f089"
      },
      "source": [
        "#Problema 3.11\n",
        "voto = 1\n",
        "totalVotos = 0\n",
        "votos_1 = 0\n",
        "votos_2 = 0\n",
        "votos_3 = 0\n",
        "votos_4 = 0\n",
        "while voto > 0 and voto < 5 :\n",
        "    voto = int(input(\"Voto: \"))\n",
        "    totalVotos = (totalVotos + 1) if voto > 0 and voto < 5 else totalVotos\n",
        "    if voto == 1 :\n",
        "        votos_1 += 1\n",
        "    elif voto == 2 :\n",
        "        votos_2 += 1\n",
        "    elif voto == 3 :\n",
        "        votos_3 += 1\n",
        "    elif voto == 4 :\n",
        "        votos_4 += 1\n",
        "    else :\n",
        "        break\n",
        "print(f\"Fueron registrados {totalVotos} votos.\")\n",
        "print(f\"Candidato 1: {votos_1} votos obtenidos para un {(votos_1/totalVotos) * 100}% de los votos\")\n",
        "print(f\"Candidato 2: {votos_2} votos obtenidos para un {(votos_2/totalVotos) * 100}% de los votos\")\n",
        "print(f\"Candidato 3: {votos_3} votos obtenidos para un {(votos_3/totalVotos) * 100}% de los votos\")\n",
        "print(f\"Candidato 4: {votos_4} votos obtenidos para un {(votos_4/totalVotos) * 100}% de los votos\")2"
      ],
      "execution_count": 21,
      "outputs": [
        {
          "output_type": "stream",
          "text": [
            "Voto: 1\n",
            "Voto: 3\n",
            "Voto: 2\n",
            "Voto: 4\n",
            "Voto: 1\n",
            "Voto: 2\n",
            "Voto: 4\n",
            "Voto: 3\n",
            "Voto: 2\n",
            "Voto: 4\n",
            "Voto: 1\n",
            "Voto: 4\n",
            "Voto: 2\n",
            "Voto: 3\n",
            "Voto: 4\n",
            "Voto: 1\n",
            "Voto: 23\n",
            "Fueron registrados 16 votos.\n",
            "Candidato 1: 4 votos obtenidos para un 25.0% de los votos\n",
            "Candidato 2: 4 votos obtenidos para un 25.0% de los votos\n",
            "Candidato 3: 3 votos obtenidos para un 18.75% de los votos\n",
            "Candidato 4: 5 votos obtenidos para un 31.25% de los votos\n"
          ],
          "name": "stdout"
        }
      ]
    },
    {
      "cell_type": "code",
      "metadata": {
        "colab": {
          "base_uri": "https://localhost:8080/"
        },
        "id": "JeWMbZ-V7o4G",
        "outputId": "6405e2bf-4614-453d-e3f7-36328bbe37cb"
      },
      "source": [
        "#Problema 3.12\n",
        "sueldo = 1\n",
        "id = 0\n",
        "idMax = 0\n",
        "sueldoMax = 0\n",
        "empleados = int(input(\"Numero de empleados: \"))\n",
        "i = 0\n",
        "while i < empleados :\n",
        "    id = int(input(\"Id: \"))\n",
        "    sueldo = float(input(\"Sueldo: \"))\n",
        "    if sueldo > sueldoMax :\n",
        "        sueldoMax = sueldo\n",
        "        idMax = id\n",
        "    i += 1\n",
        "print(f\"El id del empleado con el sueldo mas alto es: {idMax}\")\n",
        "print(f\"Sueldo: {sueldoMax}\")"
      ],
      "execution_count": 22,
      "outputs": [
        {
          "output_type": "stream",
          "text": [
            "Numero de empleados: 4\n",
            "Id: 1432\n",
            "Sueldo: 1653\n",
            "Id: 344444\n",
            "Sueldo: 123.8\n",
            "Id: 2345\n",
            "Sueldo: 12654.8\n",
            "Id: 74625\n",
            "Sueldo: 090720\n",
            "El id del empleado con el sueldo mas alto es: 74625\n",
            "Sueldo: 90720.0\n"
          ],
          "name": "stdout"
        }
      ]
    },
    {
      "cell_type": "code",
      "metadata": {
        "colab": {
          "base_uri": "https://localhost:8080/"
        },
        "id": "ipWj_oQe75Kk",
        "outputId": "ca407aa4-11df-4fa5-aca6-9dbd5b8540af"
      },
      "source": [
        "#Problema 3.13\n",
        "i = 0\n",
        "mes = [\"Enero\", \"Febrero\", \"Marzo\", \"Abril\", \"Mayo\", \"Junio\", \"Julio\", \"Agosto\", \"Septiembre\", \"Octubre\", \"Noviembre\", \"Diciembre\"]\n",
        "menorRS = 1000\n",
        "menorMS = 0\n",
        "totalRN = 0\n",
        "totalRC = 0\n",
        "totalRS = 0\n",
        "while i < 12 :\n",
        "    print(f\"Registros {mes[i]}\")\n",
        "    registroN = float(input(\"Region Norte: \"))\n",
        "    registroC = float(input(\"Region Centro: \"))\n",
        "    registroS = float(input(\"Region Sur: \"))\n",
        "    if menorRS > registroS :\n",
        "        menorRS = registroS\n",
        "        menorMS = i\n",
        "    totalRN = (totalRN + registroN) if registroN > 0 else totalRN\n",
        "    totalRC = (totalRC + registroC) if registroC > 0 else totalRC\n",
        "    totalRS = (totalRS + registroS) if registroS > 0 else totalRS\n",
        "    i += 1\n",
        "if totalRN == totalRC and totalRN == totalRS :\n",
        "    print(\"Todas las regiones tuvieron un promedio de lluvia anual igual ({0:.3f}).\".format(totalRN/12))\n",
        "    print(\"El promedio de lluvia anual de la region central es : {0:.3f}\".format(totalRC/12))\n",
        "elif totalRN > totalRC and totalRN > totalRS :\n",
        "    print(\"La region norte tuvo un mayor promedio de lluvia anual ({0:.3f})\".format(totalRN/12))\n",
        "    print(\"El promedio de lluvia anual de la region central es : {0:.3f}\".format(totalRC/12))\n",
        "elif totalRC > totalRS :\n",
        "    print(\"La region centro tuvo un mayor promedio de lluvia anual ({0:.3f})\".format(totalRC/12))\n",
        "else :\n",
        "    print(\"La region sur tuvo un mayor promedio de lluvia anual ({0:.3f})\".format(totalRS/12))\n",
        "    print(\"El promedio de lluvia anual de la region central es : {0:.3f}\".format(totalRC/12))\n",
        "print(f\"{mes[menorMS]} fue el mes con menor registro de lluvia ({menorRS})\")"
      ],
      "execution_count": 23,
      "outputs": [
        {
          "output_type": "stream",
          "text": [
            "Registros Enero\n",
            "Region Norte: 76\n",
            "Region Centro: 95\n",
            "Region Sur: 245\n",
            "Registros Febrero\n",
            "Region Norte: 35\n",
            "Region Centro: 47\n",
            "Region Sur: 65\n",
            "Registros Marzo\n",
            "Region Norte: 358\n",
            "Region Centro: 154\n",
            "Region Sur: 237\n",
            "Registros Abril\n",
            "Region Norte: 54\n",
            "Region Centro: 163\n",
            "Region Sur: 16\n",
            "Registros Mayo\n",
            "Region Norte: 675\n",
            "Region Centro: 35\n",
            "Region Sur: 46\n",
            "Registros Junio\n",
            "Region Norte: 165\n",
            "Region Centro: 764\n",
            "Region Sur: 642\n",
            "Registros Julio\n",
            "Region Norte: 73\n",
            "Region Centro: 85\n",
            "Region Sur: 368\n",
            "Registros Agosto\n",
            "Region Norte: 46\n",
            "Region Centro: 837\n",
            "Region Sur: 124\n",
            "Registros Septiembre\n",
            "Region Norte: 65\n",
            "Region Centro: 46\n",
            "Region Sur: 645\n",
            "Registros Octubre\n",
            "Region Norte: 76\n",
            "Region Centro: 56\n",
            "Region Sur: 73\n",
            "Registros Noviembre\n",
            "Region Norte: 24\n",
            "Region Centro: 65\n",
            "Region Sur: 83\n",
            "Registros Diciembre\n",
            "Region Norte: 96\n",
            "Region Centro: 167\n",
            "Region Sur: 46\n",
            "La region sur tuvo un mayor promedio de lluvia anual (215.833)\n",
            "El promedio de lluvia anual de la region central es : 209.500\n",
            "Abril fue el mes con menor registro de lluvia (16.0)\n"
          ],
          "name": "stdout"
        }
      ]
    },
    {
      "cell_type": "code",
      "metadata": {
        "colab": {
          "base_uri": "https://localhost:8080/"
        },
        "id": "Pz8SVgMe84xM",
        "outputId": "37f81a2d-33a7-4c64-b71e-aa687506b6da"
      },
      "source": [
        "#Problema 3.14\n",
        "precios = []\n",
        "contBoletos = [0, 0, 0, 0, 0]\n",
        "recaudacionTotal = 0\n",
        "venta = 1\n",
        "for i in range(5) :\n",
        "    precios.append(float(input(f\"Precio Categoria {i+1}: $\")))\n",
        "while i >= 1 :\n",
        "    categoria = int(input(\"Categoria: \"))\n",
        "    cantidad = int(input(\"Cantidad: \"))\n",
        "    if categoria > 0 and categoria < 6 and cantidad > 0 :\n",
        "        total = cantidad * precios[categoria - 1]\n",
        "        print(\"Ticket\")\n",
        "        print(f\"Categoria de los boletos: {categoria}\")\n",
        "        print(f\"Total de boletos: {cantidad}\")\n",
        "        print(\"Total a pagar: ${0:.2f}\".format(total))\n",
        "        recaudacionTotal += total\n",
        "        contBoletos[categoria - 1] += cantidad\n",
        "        print(\"_______________________\")\n",
        "    else :\n",
        "        break\n",
        "for index, i in enumerate(contBoletos) :\n",
        "    print(f\"Boletos vendidos (Categoria {index + 1}): {i}\")\n",
        "print(\"Recaudacion total: ${0:.2f}\".format(recaudacionTotal))"
      ],
      "execution_count": 27,
      "outputs": [
        {
          "output_type": "stream",
          "text": [
            "Precio Categoria 1: $7.25\n",
            "Precio Categoria 2: $15.80\n",
            "Precio Categoria 3: $25.00\n",
            "Precio Categoria 4: $50.00\n",
            "Precio Categoria 5: $75.00\n",
            "Categoria: 2\n",
            "Cantidad: 3\n",
            "Ticket\n",
            "Categoria de los boletos: 2\n",
            "Total de boletos: 3\n",
            "Total a pagar: $47.40\n",
            "_______________________\n",
            "Categoria: 3\n",
            "Cantidad: 8\n",
            "Ticket\n",
            "Categoria de los boletos: 3\n",
            "Total de boletos: 8\n",
            "Total a pagar: $200.00\n",
            "_______________________\n",
            "Categoria: 2\n",
            "Cantidad: 4\n",
            "Ticket\n",
            "Categoria de los boletos: 2\n",
            "Total de boletos: 4\n",
            "Total a pagar: $63.20\n",
            "_______________________\n",
            "Categoria: 1\n",
            "Cantidad: 6\n",
            "Ticket\n",
            "Categoria de los boletos: 1\n",
            "Total de boletos: 6\n",
            "Total a pagar: $43.50\n",
            "_______________________\n",
            "Categoria: 4\n",
            "Cantidad: 5\n",
            "Ticket\n",
            "Categoria de los boletos: 4\n",
            "Total de boletos: 5\n",
            "Total a pagar: $250.00\n",
            "_______________________\n",
            "Categoria: 1\n",
            "Cantidad: 12\n",
            "Ticket\n",
            "Categoria de los boletos: 1\n",
            "Total de boletos: 12\n",
            "Total a pagar: $87.00\n",
            "_______________________\n",
            "Categoria: 2\n",
            "Cantidad: 8\n",
            "Ticket\n",
            "Categoria de los boletos: 2\n",
            "Total de boletos: 8\n",
            "Total a pagar: $126.40\n",
            "_______________________\n",
            "Categoria: -1\n",
            "Cantidad: 7\n",
            "Boletos vendidos (Categoria 1): 18\n",
            "Boletos vendidos (Categoria 2): 15\n",
            "Boletos vendidos (Categoria 3): 8\n",
            "Boletos vendidos (Categoria 4): 5\n",
            "Boletos vendidos (Categoria 5): 0\n",
            "Recaudacion total: $817.50\n"
          ],
          "name": "stdout"
        }
      ]
    },
    {
      "cell_type": "code",
      "metadata": {
        "colab": {
          "base_uri": "https://localhost:8080/"
        },
        "id": "dJQvp0Mp-h1D",
        "outputId": "5b2dc9d4-04bf-45d3-9046-bc3bd2bdbd9e"
      },
      "source": [
        "#Problema 3.15\n",
        "contL = 0\n",
        "costeL = 0\n",
        "costeN = 0\n",
        "costeI = 0\n",
        "tipo = 1\n",
        "print(\"1. Internacional \\n2. Nacional \\n3. Local\")\n",
        "while tipo == 1 or tipo == 2 or tipo == 3 :\n",
        "    tipo = int(input(\"Tipo de llamada (Ingresa el numero): \"))\n",
        "    minutos = 0\n",
        "    if tipo == 3 :\n",
        "        contL += 1\n",
        "    elif tipo == 2 :\n",
        "        minutos = int(input(\"Minutos usados: \"))\n",
        "        coste = (1.2 * minutos) if minutos > 0 and minutos < 4 else ((1.2 * 3) + (0.48 * (minutos - 3)))\n",
        "        costeN += coste\n",
        "    elif tipo == 1 :\n",
        "        minutos = int(input(\"Minutos usados: \"))\n",
        "        coste = (7.59 * minutos) if minutos > 0 and minutos < 4 else ((7.59 * 3) + (3.03 * (minutos - 3)))\n",
        "        costeI += coste\n",
        "    else :\n",
        "        break\n",
        "costeL = ((contL - 50) * 0.6) if contL > 50 else costeL\n",
        "print(\"Coste total llamada internacional: ${0:.2f}\".format(costeI))\n",
        "print(\"Coste total llamada nacional: ${0:.2f}\".format(costeN))\n",
        "print(\"Coste total llamada local: ${0:.2f}\".format(costeL))\n",
        "print(f\"Total: {costeI + costeN + costeL}\")"
      ],
      "execution_count": 30,
      "outputs": [
        {
          "output_type": "stream",
          "text": [
            "1. Internacional \n",
            "2. Nacional \n",
            "3. Local\n",
            "Tipo de llamada (Ingresa el numero): 3\n",
            "Tipo de llamada (Ingresa el numero): 3\n",
            "Tipo de llamada (Ingresa el numero): 1\n",
            "Minutos usados: 23\n",
            "Tipo de llamada (Ingresa el numero): 3\n",
            "Tipo de llamada (Ingresa el numero): 3\n",
            "Tipo de llamada (Ingresa el numero): 2\n",
            "Minutos usados: 14\n",
            "Tipo de llamada (Ingresa el numero): 3\n",
            "Tipo de llamada (Ingresa el numero): 1\n",
            "Minutos usados: 23\n",
            "Tipo de llamada (Ingresa el numero): 2\n",
            "Minutos usados: 54\n",
            "Tipo de llamada (Ingresa el numero): 1\n",
            "Minutos usados: -1\n",
            "Tipo de llamada (Ingresa el numero): 2\n",
            "Minutos usados: -1\n",
            "Tipo de llamada (Ingresa el numero): -1\n",
            "Coste total llamada internacional: $177.39\n",
            "Coste total llamada nacional: $38.64\n",
            "Coste total llamada local: $0.00\n",
            "Total: 216.02999999999997\n"
          ],
          "name": "stdout"
        }
      ]
    },
    {
      "cell_type": "code",
      "metadata": {
        "colab": {
          "base_uri": "https://localhost:8080/"
        },
        "id": "lenzqO_pAPQo",
        "outputId": "43a823b1-b304-4051-a97f-0b502f778fa4"
      },
      "source": [
        "#Problema 3.16\n",
        "inicio = int(input(\"Año de inicio: \"))\n",
        "inicioAux = inicio\n",
        "tipo = [0, 0, 0, 0, 0]\n",
        "produccionAnual = []\n",
        "produccionTipo_2 = 0\n",
        "produccionAnual_2 = 0\n",
        "produccionTipo_3 = []\n",
        "while inicio <= 2020 :\n",
        "    print(f\"Año {inicio}\")\n",
        "    produccion = 0\n",
        "    for index, i in enumerate(tipo) :\n",
        "        aux = float(input(f\"Cantidad producida de vino tipo {index + 1} (l): \"))\n",
        "        if aux < 0 :\n",
        "            break\n",
        "        tipo[index] += aux\n",
        "        produccion += aux\n",
        "        if index == 1 and aux > produccionTipo_2:\n",
        "            produccionTipo_2 = aux\n",
        "            produccionAnual_2 = inicio\n",
        "        if index == 2 and aux == 0:\n",
        "            produccionTipo_3.append(inicio)\n",
        "    produccionAnual.append(produccion)\n",
        "    inicio += 1\n",
        "for index, i in enumerate(tipo) :\n",
        "    print(f\"Vino producido tipo {index + 1}: {i} l\")\n",
        "for index, i in enumerate(produccionAnual) :\n",
        "    print(f\"Produccion del año {inicioAux + index}: {i} l\")\n",
        "print(f\"El año {produccionAnual_2} se produjo mas vino tipo de 2. ({produccionTipo_2})\")\n",
        "for i in produccionTipo_3 :\n",
        "    print(f\"El año {i} no se produjo vino tipo 3\")"
      ],
      "execution_count": 31,
      "outputs": [
        {
          "output_type": "stream",
          "text": [
            "Año de inicio: 2019\n",
            "Año 2019\n",
            "Cantidad producida de vino tipo 1 (l): 2\n",
            "Cantidad producida de vino tipo 2 (l): 3\n",
            "Cantidad producida de vino tipo 3 (l): 4\n",
            "Cantidad producida de vino tipo 4 (l): 5\n",
            "Cantidad producida de vino tipo 5 (l): 4\n",
            "Año 2020\n",
            "Cantidad producida de vino tipo 1 (l): 2\n",
            "Cantidad producida de vino tipo 2 (l): 4\n",
            "Cantidad producida de vino tipo 3 (l): 3\n",
            "Cantidad producida de vino tipo 4 (l): 0\n",
            "Cantidad producida de vino tipo 5 (l): 2\n",
            "Vino producido tipo 1: 4.0 l\n",
            "Vino producido tipo 2: 7.0 l\n",
            "Vino producido tipo 3: 7.0 l\n",
            "Vino producido tipo 4: 5.0 l\n",
            "Vino producido tipo 5: 6.0 l\n",
            "Produccion del año 2019: 18.0 l\n",
            "Produccion del año 2020: 11.0 l\n",
            "El año 2020 se produjo mas vino tipo de 2. (4.0)\n"
          ],
          "name": "stdout"
        }
      ]
    },
    {
      "cell_type": "code",
      "metadata": {
        "colab": {
          "base_uri": "https://localhost:8080/"
        },
        "id": "AJTIMh2sB75h",
        "outputId": "b3b041fc-1a7a-46c1-91df-48d83359577e"
      },
      "source": [
        "#Problema 3.17\n",
        "limite = int(input(\"Numero limite: \"))\n",
        "if limite < 1 :\n",
        "    print(\"Entrada no valida.\")\n",
        "else :\n",
        "    i = 1\n",
        "    cadena = \"1, \"\n",
        "    while i <= limite :\n",
        "        if i+2 > limite :\n",
        "            break\n",
        "        else :\n",
        "            i += 2\n",
        "            cont = 0\n",
        "            for e in range(1, i, 2) :\n",
        "                cont = (cont + 1) if i%e == 0 else cont\n",
        "            cadena = (cadena + str(i) + \", \") if cont == 1 else cadena\n",
        "    print(cadena)"
      ],
      "execution_count": 32,
      "outputs": [
        {
          "output_type": "stream",
          "text": [
            "Numero limite: 40\n",
            "1, 3, 5, 7, 11, 13, 17, 19, 23, 29, 31, 37, \n"
          ],
          "name": "stdout"
        }
      ]
    },
    {
      "cell_type": "code",
      "metadata": {
        "colab": {
          "base_uri": "https://localhost:8080/"
        },
        "id": "jMo0fsBWCH28",
        "outputId": "90d3e100-2130-44ee-b822-cf81d223a12e"
      },
      "source": [
        "#Problema 3.18\n",
        "empresas = int(input(\"Numero de empresas: \"))\n",
        "mes = [\"Enero\", \"Febrero\", \"Marzo\", \"Abril\", \"Mayo\", \"Junio\", \"Julio\", \"Agosto\", \"Septiembre\", \"Octubre\", \"Noviembre\", \"Diciembre\"]\n",
        "produccion = []\n",
        "totalProduccion = []\n",
        "mayorProduccion = 0\n",
        "idMayorProduccion = 0\n",
        "for i in range(empresas) :\n",
        "    aux = []\n",
        "    cont = 0\n",
        "    aux.append(int(input(\"ID: \")))\n",
        "    for j in mes :\n",
        "        print(f\"Mes de {j}\")\n",
        "        producto = float(input(\"Produccion: $\"))\n",
        "        if producto < 0 :\n",
        "            break\n",
        "        aux.append(producto)\n",
        "        cont += producto\n",
        "    produccion.append(aux)\n",
        "    totalProduccion.append(cont)\n",
        "for i in range(empresas) :\n",
        "    if produccion[i][7] > 3000000 :\n",
        "        print(f\"La empresa con el ID {produccion[i][0]} produjo mas de $3,000,000 en julio\")\n",
        "for index, i in enumerate(totalProduccion) :\n",
        "    print(f\"La empresa con el ID {produccion[index][0]} produjo ${i}\")\n",
        "    if i > mayorProduccion :\n",
        "        mayorProduccion = i\n",
        "        idMayorProduccion = index\n",
        "print(f\"La empresa con mayor produccion tiene el ID {produccion[idMayorProduccion][0]}, produjo ${mayorProduccion}\")"
      ],
      "execution_count": 34,
      "outputs": [
        {
          "output_type": "stream",
          "text": [
            "Numero de empresas: 2\n",
            "ID: 1\n",
            "Mes de Enero\n",
            "Produccion: $76\n",
            "Mes de Febrero\n",
            "Produccion: $57\n",
            "Mes de Marzo\n",
            "Produccion: $39\n",
            "Mes de Abril\n",
            "Produccion: $26\n",
            "Mes de Mayo\n",
            "Produccion: $48\n",
            "Mes de Junio\n",
            "Produccion: $29\n",
            "Mes de Julio\n",
            "Produccion: $52\n",
            "Mes de Agosto\n",
            "Produccion: $83\n",
            "Mes de Septiembre\n",
            "Produccion: $3\n",
            "Mes de Octubre\n",
            "Produccion: $85\n",
            "Mes de Noviembre\n",
            "Produccion: $9\n",
            "Mes de Diciembre\n",
            "Produccion: $31\n",
            "ID: 2\n",
            "Mes de Enero\n",
            "Produccion: $23\n",
            "Mes de Febrero\n",
            "Produccion: $56\n",
            "Mes de Marzo\n",
            "Produccion: $87\n",
            "Mes de Abril\n",
            "Produccion: $98\n",
            "Mes de Mayo\n",
            "Produccion: $46\n",
            "Mes de Junio\n",
            "Produccion: $54\n",
            "Mes de Julio\n",
            "Produccion: $3\n",
            "Mes de Agosto\n",
            "Produccion: $24\n",
            "Mes de Septiembre\n",
            "Produccion: $54\n",
            "Mes de Octubre\n",
            "Produccion: $275\n",
            "Mes de Noviembre\n",
            "Produccion: $27\n",
            "Mes de Diciembre\n",
            "Produccion: $464\n",
            "La empresa con el ID 1 produjo $538.0\n",
            "La empresa con el ID 2 produjo $1211.0\n",
            "La empresa con mayor produccion tiene el ID 2, produjo $1211.0\n"
          ],
          "name": "stdout"
        }
      ]
    },
    {
      "cell_type": "code",
      "metadata": {
        "colab": {
          "base_uri": "https://localhost:8080/"
        },
        "id": "8022iVChCodu",
        "outputId": "0de03e04-65e2-448b-9364-df306cbf6a4a"
      },
      "source": [
        "#Problema 3.19\n",
        "numero = int(input(\"Numero: \"))\n",
        "print(\"El numero 1 es un numero perfecto.\")\n",
        "for i in range(1, numero) :\n",
        "    cont = 0\n",
        "    j = 1\n",
        "    while j <= int(i/2) :\n",
        "        if i%j == 0 :\n",
        "            cont += j\n",
        "        j += 1\n",
        "    if cont == i :\n",
        "        print(f\"El numero {i} es un numero perfecto.\")"
      ],
      "execution_count": 36,
      "outputs": [
        {
          "output_type": "stream",
          "text": [
            "Numero: 654\n",
            "El numero 1 es un numero perfecto.\n",
            "El numero 6 es un numero perfecto.\n",
            "El numero 28 es un numero perfecto.\n",
            "El numero 496 es un numero perfecto.\n"
          ],
          "name": "stdout"
        }
      ]
    }
  ]
}