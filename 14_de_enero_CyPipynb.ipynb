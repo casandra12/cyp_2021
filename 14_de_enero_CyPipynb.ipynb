{
  "nbformat": 4,
  "nbformat_minor": 0,
  "metadata": {
    "colab": {
      "name": "14_de enero_CyPipynb",
      "provenance": [],
      "authorship_tag": "ABX9TyMadSvx9ZeD8YIzHsn0AKLq",
      "include_colab_link": true
    },
    "kernelspec": {
      "name": "python3",
      "display_name": "Python 3"
    }
  },
  "cells": [
    {
      "cell_type": "markdown",
      "metadata": {
        "id": "view-in-github",
        "colab_type": "text"
      },
      "source": [
        "<a href=\"https://colab.research.google.com/github/casandra12/cyp_2021/blob/main/14_de_enero_CyPipynb.ipynb\" target=\"_parent\"><img src=\"https://colab.research.google.com/assets/colab-badge.svg\" alt=\"Open In Colab\"/></a>"
      ]
    },
    {
      "cell_type": "markdown",
      "metadata": {
        "id": "9sOLBG_A5CfR"
      },
      "source": [
        "#palabras resevrvadas en python\n",
        "1 False\n",
        "1 None\n",
        "1 True\n",
        "1 and\n",
        "1 as\n",
        "1 assert\n",
        "1 break\n",
        "1 class\n",
        "1 continue\n",
        "1 def\n",
        "1 del\n",
        "1 elif\n",
        "1 else\n",
        "1 except\n",
        "1 finally\n",
        "1 for\n",
        "1 from\n",
        "1 global\n",
        "1 if\n",
        "1 import\n",
        "1 in\n",
        "1 is\n",
        "1 lambda\n",
        "1 nonlocal\n",
        "1 not\n",
        "1 or\n",
        "1 pass\n",
        "1 raise\n",
        "1 return\n",
        "1 try\n",
        "1 while\n",
        "1 with\n",
        "1 yield "
      ]
    },
    {
      "cell_type": "markdown",
      "metadata": {
        "id": "GoT377kF61ky"
      },
      "source": [
        ""
      ]
    },
    {
      "cell_type": "code",
      "metadata": {
        "colab": {
          "base_uri": "https://localhost:8080/"
        },
        "id": "11KRfNUB5Yf_",
        "outputId": "da2979a9-e9c6-4fb7-895a-31d86e8493c2"
      },
      "source": [
        "import keyword\n",
        "pr= keyword.kwlist\n",
        "print(len(pr))\n",
        "for palabra in pr:\n",
        "  print(\"1\",palabra )"
      ],
      "execution_count": 7,
      "outputs": [
        {
          "output_type": "stream",
          "text": [
            "33\n",
            "1 False\n",
            "1 None\n",
            "1 True\n",
            "1 and\n",
            "1 as\n",
            "1 assert\n",
            "1 break\n",
            "1 class\n",
            "1 continue\n",
            "1 def\n",
            "1 del\n",
            "1 elif\n",
            "1 else\n",
            "1 except\n",
            "1 finally\n",
            "1 for\n",
            "1 from\n",
            "1 global\n",
            "1 if\n",
            "1 import\n",
            "1 in\n",
            "1 is\n",
            "1 lambda\n",
            "1 nonlocal\n",
            "1 not\n",
            "1 or\n",
            "1 pass\n",
            "1 raise\n",
            "1 return\n",
            "1 try\n",
            "1 while\n",
            "1 with\n",
            "1 yield\n"
          ],
          "name": "stdout"
        }
      ]
    },
    {
      "cell_type": "markdown",
      "metadata": {
        "id": "NskctUF065aB"
      },
      "source": [
        "Variable\n",
        "Es un espacio de memoria de la computadora para almacenar valores que cambian a lo largo de la ejecucion del programa. Este espacio de memoria esta referenciado por un identificador, el cual tiene ciertas reglas de nombrado.\n",
        "\n",
        "No puede iniciar con numero\n",
        "No debe ser igual a alguna de las palabras reservadas\n",
        "Pued iniciar con \"_\"\n",
        "Evitar nombres de variables largos\n",
        "Evitar muy cortos, ejemplo x, y, i.\n",
        "Usar notacion snake_case"
      ]
    },
    {
      "cell_type": "code",
      "metadata": {
        "id": "XVnk6zKO7rx2"
      },
      "source": [
        "_2edad = 12\n",
        "print(_2edad)\n",
        "\"\"\"\n",
        "no se puede usar una palabra reseervada como identificador de variable:\n",
        "\n",
        "for = 12\n",
        "print(for)\n",
        "'\\nno se puede usar una palabra reseervada como identificador de variable:\\n\\nfor = 12\\nprint(for)\\n\\n'\n",
        "\"\"\""
      ],
      "execution_count": null,
      "outputs": []
    },
    {
      "cell_type": "code",
      "metadata": {
        "id": "uoqbzSqHAGN9"
      },
      "source": [
        "\"\"\" \n",
        "la notacion snake case consta de formar el identificador de vairbale separando las palabras del mismo con un guion bajo.\n",
        "Se recomiendda de los identificadores se escriban en minusculas para las variables y en mayusucla para las constantes\n",
        "Es decir si tenemos una variable para los dias de la semana, se escribiria a\n",
        "\n",
        "dias_de_la_demana =7\n",
        "dias_mes = 31\n",
        "limite_maximo = 100\n",
        "\"\"\"\n",
        "_2 edad\n",
        "dias_de_la_demana = 7\n",
        "print(dias_de_la_demana)\n",
        "\n",
        "diasdelasemna = 7\n",
        "print(diasdelasemna)\n",
        "\n",
        "#lower camel case\n",
        "diasDeLaSemana =7e\n",
        "#lower caml case\n",
        "diasDeLaSemanda= 7\n",
        "#upper camel case\n",
        "SemanaSanta=7 "
      ],
      "execution_count": null,
      "outputs": []
    },
    {
      "cell_type": "markdown",
      "metadata": {
        "id": "j328vTpqVk6p"
      },
      "source": [
        "\n",
        "Tipos de datos\n",
        ".Numericos\n",
        "\n",
        "  -int 4 bytes (1, 2, 2345, etc.)\n",
        "\n",
        "  -float 4 bytes (1.14, 3.1416, 1.0)\n",
        "\n",
        "  -long 8 bytes (1, 2, 2344, etc)\n",
        "\n",
        "  -complex 3+2j (raices complejas)\n",
        "  \n",
        "  -Boolean: True o False\n",
        "\n",
        ". String cadenas de caracteres (\"cad\", 'cad', \"\"\"cad\"\"\")\n",
        "listas ([1,2,3,4] , [a,b,1,2])\n",
        "conjuntos\n",
        "diccionarios ( {\"nombre\":\"Diego\"})\n",
        "Tipo de dato Sttring\n",
        "Este tipo de dato permite almacenar cadenas de caracteristicas, como por ejemplo:\n",
        "\n",
        "nomnre = 'Ely'\n",
        "lugar_nacimiento= \"Mexico D.F, Tacuba\"\n",
        "frase_favorita = \"\"\"\n",
        "El conocimiento \n",
        "me persigue,\n",
        "pero...\n",
        "yo soy mas rapido!!!\n",
        "\"\"\""
      ]
    },
    {
      "cell_type": "code",
      "metadata": {
        "colab": {
          "base_uri": "https://localhost:8080/"
        },
        "id": "q8vKtLYJWCDV",
        "outputId": "19c51643-e997-4e56-8b0d-ca5948d1d6c6"
      },
      "source": [
        "nombre = 'Cas'\n",
        "lugar_nacimiento= \"ecatepec\"\n",
        "frase_favorita = \"\"\"\n",
        "la coca del desierto\n",
        "\"\"\"\n",
        "print(nombre)\n",
        "print(lugar_nacimiento)\n",
        "print(frase_favorita)"
      ],
      "execution_count": 9,
      "outputs": [
        {
          "output_type": "stream",
          "text": [
            "Cas\n",
            "ecatepec\n",
            "\n",
            "la coca del desierto\n",
            "\n"
          ],
          "name": "stdout"
        }
      ]
    },
    {
      "cell_type": "markdown",
      "metadata": {
        "id": "fXXPOcY7Wk9Q"
      },
      "source": [
        "String como arreglo\n",
        "\n",
        "un String en phyton es almacneado como el tipo de dato (estructura de datos) arreglo. por ejemplo la declaracion:\n",
        "\n",
        "nombre = 'Cuellar'\n",
        "el elemento 'J? es almacenado de la posicion 0. La 'e' en la 1 y asi sucesivamente.\n",
        "\n",
        "Selector\n",
        "la notacion para seleccionar un elemento del arreglo es:\n",
        "\n",
        "[ 1 ]\n",
        "Donde el valor inerno debe ser un valor entero"
      ]
    },
    {
      "cell_type": "code",
      "metadata": {
        "colab": {
          "base_uri": "https://localhost:8080/"
        },
        "id": "V2R9_ohjWn_r",
        "outputId": "fb4203e0-a7b9-45c4-c8cb-881b2d040732"
      },
      "source": [
        "nombre = 'Casandra'\n",
        "print(len(nombre))\n",
        "print(nombre)\n",
        "print( nombre[0])\n",
        "print( nombre[3])\n"
      ],
      "execution_count": 12,
      "outputs": [
        {
          "output_type": "stream",
          "text": [
            "8\n",
            "Casandra\n",
            "C\n",
            "a\n"
          ],
          "name": "stdout"
        }
      ]
    },
    {
      "cell_type": "markdown",
      "metadata": {
        "id": "oT4FsJ_6W23n"
      },
      "source": [
        "Iterar sobre un String\n",
        "se puede iterar sobre un String con un for de forma:\n",
        "\n",
        "for letra in range ( len(nombre)):\n",
        " print(letra)"
      ]
    },
    {
      "cell_type": "code",
      "metadata": {
        "colab": {
          "base_uri": "https://localhost:8080/"
        },
        "id": "Mb-xOIjvW9t4",
        "outputId": "aae73548-bc2a-4c1a-da6f-1b9dbac3a003"
      },
      "source": [
        "for indice in range( len(nombre)): #0 , 1, 2, 3, 4\n",
        " print(indice, end = \" \")\n",
        " print(nombre[indice])\n"
      ],
      "execution_count": 13,
      "outputs": [
        {
          "output_type": "stream",
          "text": [
            "0 C\n",
            "1 a\n",
            "2 s\n",
            "3 a\n",
            "4 n\n",
            "5 d\n",
            "6 r\n",
            "7 a\n"
          ],
          "name": "stdout"
        }
      ]
    },
    {
      "cell_type": "markdown",
      "metadata": {
        "id": "ZpT8nUwqXDLo"
      },
      "source": [
        "Funcion range(inicio, stop, incremento)\n",
        "El inicio es iocional y por defecto tiene el valor 0\n",
        "\n",
        "El incremento ees opcional y por defecto es 1"
      ]
    },
    {
      "cell_type": "code",
      "metadata": {
        "colab": {
          "base_uri": "https://localhost:8080/"
        },
        "id": "H-G4SZa9XHMk",
        "outputId": "54ac44c9-09dd-48a0-af4c-c05b24576b66"
      },
      "source": [
        "for indice in range(1, len(nombre), 1):\n",
        "  print(nombre[indice])\n"
      ],
      "execution_count": 14,
      "outputs": [
        {
          "output_type": "stream",
          "text": [
            "a\n",
            "s\n",
            "a\n",
            "n\n",
            "d\n",
            "r\n",
            "a\n"
          ],
          "name": "stdout"
        }
      ]
    },
    {
      "cell_type": "code",
      "metadata": {
        "colab": {
          "base_uri": "https://localhost:8080/"
        },
        "id": "kz8xNgZxXOX0",
        "outputId": "7793d3c5-e92c-40b2-de00-0666a3dd53d4"
      },
      "source": [
        "for indice in range(6, -1, -1): #6,5,4,3,2,1,0\n",
        "\n",
        "  print(nombre[indice])"
      ],
      "execution_count": 15,
      "outputs": [
        {
          "output_type": "stream",
          "text": [
            "r\n",
            "d\n",
            "n\n",
            "a\n",
            "s\n",
            "a\n",
            "C\n"
          ],
          "name": "stdout"
        }
      ]
    },
    {
      "cell_type": "markdown",
      "metadata": {
        "id": "bFOCRloQXU6O"
      },
      "source": [
        "En phyton 3 se agrega una nueva caracteristica a los arreglos de las cadenas de caracteres, esta conta de la capacidad de indexar de forma negativa.\n",
        "\n",
        "La llogica es la sig.\n",
        "\n",
        "El ultimo elemento se le considera como indice (ALTERNATIVO) -11, con lo cual se podria referencial el final de la cadena sin la necesidad de saber la cadrena de la misma\n",
        "\n",
        "nombre = 'Casandra\n",
        "\n",
        "indice normal  0  1  2  3  4  5  6 7\n",
        "\n",
        "               C  A  S A  N  D  R  A\n",
        "\n",
        "indice alter. -7 -6 -5 -4 -3 -2 -1"
      ]
    },
    {
      "cell_type": "code",
      "metadata": {
        "colab": {
          "base_uri": "https://localhost:8080/"
        },
        "id": "rLp33tiqXlQd",
        "outputId": "4572d485-f544-48d4-9f3d-d73c0e699c68"
      },
      "source": [
        "nombre = \"Casandra\"\n",
        "print(nombre[0])   #indexado normal\n",
        "print( nombre[-1]) #indexado alternativo (negativos)\n",
        "print(\"\")\n",
        "for indice_alter in range(-1, -8, -1):\n",
        "  print( nombre[indice_alter])"
      ],
      "execution_count": 16,
      "outputs": [
        {
          "output_type": "stream",
          "text": [
            "C\n",
            "a\n",
            "\n",
            "a\n",
            "r\n",
            "d\n",
            "n\n",
            "a\n",
            "s\n",
            "a\n"
          ],
          "name": "stdout"
        }
      ]
    },
    {
      "cell_type": "markdown",
      "metadata": {
        "id": "CDkA60rHXi9X"
      },
      "source": [
        "Silicing de cadena de caracteres.\n",
        "Esta caracteristia permite sacar selecciones de una cadena con la sig. sintaxis:\n",
        "\n",
        "[inicio : stop : incremento]\n",
        "donde inicio e incremento son opcionales y tambien soportan indexado alternativo(negativos)\n",
        "\n"
      ]
    },
    {
      "cell_type": "code",
      "metadata": {
        "colab": {
          "base_uri": "https://localhost:8080/"
        },
        "id": "2gpt67CYXwY9",
        "outputId": "712e043d-9867-447d-9768-807a08d41384"
      },
      "source": [
        "facultad = \"Facultad de Estudios Superiores Àragon (La mejor)\"\n",
        "print(facultad)\n",
        "\n",
        "for indice in range(12, 20, 1):\n",
        "  print(facultad[indice], end=\"\")\n",
        "  #hacer esto mismo con la caracteritica Slicing se logra asi:\n",
        "print(\"\\nCon Slicing\")\n",
        "print(facultad[12:20:1])\n",
        "\n",
        "#la palabra 'de' con Slicing\n",
        "print(facultad[9:11:1])\n",
        "\n",
        "#la frase '(Lamejor)' con incexado alternativo y slicing"
      ],
      "execution_count": 17,
      "outputs": [
        {
          "output_type": "stream",
          "text": [
            "Facultad de Estudios Superiores Àragon (La mejor)\n",
            "Estudios\n",
            "Con Slicing\n",
            "Estudios\n",
            "de\n"
          ],
          "name": "stdout"
        }
      ]
    }
  ]
}