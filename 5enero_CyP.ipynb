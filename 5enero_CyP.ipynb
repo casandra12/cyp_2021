{
  "nbformat": 4,
  "nbformat_minor": 0,
  "metadata": {
    "colab": {
      "name": "5enero_CyP.ipynb",
      "provenance": [],
      "authorship_tag": "ABX9TyMithXqJo6yjEtDF4+MI7VR",
      "include_colab_link": true
    },
    "kernelspec": {
      "name": "python3",
      "display_name": "Python 3"
    }
  },
  "cells": [
    {
      "cell_type": "markdown",
      "metadata": {
        "id": "view-in-github",
        "colab_type": "text"
      },
      "source": [
        "<a href=\"https://colab.research.google.com/github/casandra12/cyp_2021/blob/main/5enero_CyP.ipynb\" target=\"_parent\"><img src=\"https://colab.research.google.com/assets/colab-badge.svg\" alt=\"Open In Colab\"/></a>"
      ]
    },
    {
      "cell_type": "code",
      "metadata": {
        "colab": {
          "base_uri": "https://localhost:8080/"
        },
        "id": "jDyWY9wejFKa",
        "outputId": "c41f6bfc-5fea-4bf3-f5de-45cb9a3c9861"
      },
      "source": [
        "#ejemplo 1\n",
        "sueldos=[0.0 for x in range (7)]\n",
        "print(sueldos)\n",
        "sueldos[0]=12.3\n",
        "sueldos[1]=12.3\n",
        "sueldos[2]=12.3\n",
        "sueldos[3]=12.3\n",
        "sueldos[4]=12.3\n",
        "sueldos[5]=12.3\n",
        "sueldos[6]=12.3\n",
        "print(sueldos)\n",
        "#como le hacemos para adiganr valor de 1.0 al 7.0 y estructura for \n",
        "for j in range(7):\n",
        "  sueldos[j]=float(input(\"introduce un sueldo:\"))\n",
        "print(sueldos)\n",
        "#otra solucion\n",
        "sueldo=[float(x)for x in range(7)]\n",
        "for i in range(0,7):\n",
        "  sueldos[i]=float(i)+1.0\n",
        "print(sueldo)\n",
        "#automatizar el recorridos de los elemntetos\n",
        "for in range (7):\n",
        "  print(f\"el trabajor {int(i)+1} gana {sueldo [i]}\")"
      ],
      "execution_count": 5,
      "outputs": [
        {
          "output_type": "stream",
          "text": [
            "[0.0, 0.0, 0.0, 0.0, 0.0, 0.0, 0.0]\n",
            "[12.3, 12.3, 12.3, 12.3, 12.3, 12.3, 12.3]\n"
          ],
          "name": "stdout"
        }
      ]
    },
    {
      "cell_type": "code",
      "metadata": {
        "colab": {
          "base_uri": "https://localhost:8080/"
        },
        "id": "IiATc6vvokUs",
        "outputId": "03e2f7a6-fcd0-4ab4-c161-68f7407f0767"
      },
      "source": [
        "#problema 4.1\n",
        "\n",
        "MAXIMO  = 7\n",
        "sueldos = [0.0 for x in range(MAXIMO)]\n",
        "SUMA = 0.0\n",
        "PROM = 0.0\n",
        "\n",
        "for i in range(MAXIMO):\n",
        "  sueldos[i] = float (input(\"Dame el sueldo: \"))\n",
        "\n",
        "for i in range(MAXIMO):\n",
        "  print(f\"Trabajador {i + 1}, gana {sueldos[i]}\") \n",
        "\n",
        "for i in range(MAXIMO):\n",
        "  SUMA = SUMA + sueldos[i]\n",
        "PROM = SUMA / MAXIMO\n",
        "print(f\"El promedio de sueldo es {PROM}\")\n",
        "\n",
        "for i in range(MAXIMO):\n",
        "  if sueldos[i] > PROM:\n",
        "    print(f\"El trabajador {i + 1} tiene un sueldo mayor al promedio\")"
      ],
      "execution_count": 13,
      "outputs": [
        {
          "output_type": "stream",
          "text": [
            "Dame el sueldo: 4\n",
            "Dame el sueldo: 5\n",
            "Dame el sueldo: 4\n",
            "Dame el sueldo: 5\n",
            "Dame el sueldo: 4\n",
            "Dame el sueldo: 5\n",
            "Dame el sueldo: 4\n",
            "Trabajador 1, gana 4.0\n",
            "Trabajador 2, gana 5.0\n",
            "Trabajador 3, gana 4.0\n",
            "Trabajador 4, gana 5.0\n",
            "Trabajador 5, gana 4.0\n",
            "Trabajador 6, gana 5.0\n",
            "Trabajador 7, gana 4.0\n",
            "El promedio de sueldo es 4.428571428571429\n",
            "El trabajador 2 tiene un sueldo mayor al promedio\n",
            "El trabajador 4 tiene un sueldo mayor al promedio\n",
            "El trabajador 6 tiene un sueldo mayor al promedio\n"
          ],
          "name": "stdout"
        }
      ]
    },
    {
      "cell_type": "code",
      "metadata": {
        "colab": {
          "base_uri": "https://localhost:8080/"
        },
        "id": "qb7jXGQQs6cR",
        "outputId": "597ee90f-405d-42bc-ea52-204873e5352c"
      },
      "source": [
        "max=5\n",
        "mayor=0.0\n",
        "menor=10000000000\n",
        "prom=0.0\n",
        "valor=[0.0 for x in range(max)]\n",
        "suma=0\n",
        "for i in range(max):\n",
        "  valor[i] = float(input(\"indica el valor:\"))\n",
        "  if (valor[i] > mayor):\n",
        "    mayor = valor [i]\n",
        "  elif (valor[i] < menor):\n",
        "    men = valor [i]\n",
        "for i in range(max):\n",
        "  sum= suma+ valor[i]\n",
        "promedio = sum/max\n",
        "\n",
        "print(f\"el valor mayor es: {mayor}\")\n",
        "print(f\"el valor menor es: {menor}\")\n",
        "print(f\"el promedio es: {promedio}\")\n",
        "  \n"
      ],
      "execution_count": 17,
      "outputs": [
        {
          "output_type": "stream",
          "text": [
            "indica el valor:5\n",
            "indica el valor:2\n",
            "indica el valor:3\n",
            "indica el valor:4\n",
            "indica el valor:1\n",
            "el valor mayor es: 5.0\n",
            "el valor menor es: 10000000000\n",
            "el promedio es: 0.2\n"
          ],
          "name": "stdout"
        }
      ]
    },
    {
      "cell_type": "code",
      "metadata": {
        "colab": {
          "base_uri": "https://localhost:8080/"
        },
        "id": "LPtq2mn3w9wM",
        "outputId": "8f6404ec-29c3-48f5-d609-016e516567db"
      },
      "source": [
        "N = int(input(\"Ingrese el numero de elementos del arreglo: \"))\n",
        "VEC = []\n",
        "if 1 <= N and N <=500:\n",
        "  VEC = [0 for x in range(N)]\n",
        "  for I in range(N):\n",
        "    VEC[I]=int(input(\"Ingrese valor\" + str(I+1) + \":\"))\n",
        "  print(\"Lista de numero sin repeticiones: \")\n",
        "\n",
        "  I =0\n",
        "  while I<N:\n",
        "    print(VEC[I])\n",
        "    REPET = VEC[I]\n",
        "    while I < N and REPET == VEC[I]:\n",
        "      I = I +1\n",
        "    I = I + 1\n",
        "else: \n",
        "  print(\"EL numero de elementos del arreglo es incorrecto\")"
      ],
      "execution_count": 26,
      "outputs": [
        {
          "output_type": "stream",
          "text": [
            "Ingrese el numero de elementos del arreglo: 10\n",
            "Ingrese valor1:2\n",
            "Ingrese valor2:2\n",
            "Ingrese valor3:3\n",
            "Ingrese valor4:5\n",
            "Ingrese valor5:1\n",
            "Ingrese valor6:5\n",
            "Ingrese valor7:3\n",
            "Ingrese valor8:8\n",
            "Ingrese valor9:7\n",
            "Ingrese valor10:6\n",
            "Lista de numero sin repeticiones: \n",
            "2\n",
            "5\n",
            "5\n",
            "8\n",
            "6\n"
          ],
          "name": "stdout"
        }
      ]
    }
  ]
}