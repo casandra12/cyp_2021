{
  "nbformat": 4,
  "nbformat_minor": 0,
  "metadata": {
    "colab": {
      "name": "Tarea_4.ipynb",
      "provenance": [],
      "authorship_tag": "ABX9TyMoNRiHffwn2N9VAoDtJ54L",
      "include_colab_link": true
    },
    "kernelspec": {
      "name": "python3",
      "display_name": "Python 3"
    }
  },
  "cells": [
    {
      "cell_type": "markdown",
      "metadata": {
        "id": "view-in-github",
        "colab_type": "text"
      },
      "source": [
        "<a href=\"https://colab.research.google.com/github/casandra12/cyp_2021/blob/main/Tarea_4.ipynb\" target=\"_parent\"><img src=\"https://colab.research.google.com/assets/colab-badge.svg\" alt=\"Open In Colab\"/></a>"
      ]
    },
    {
      "cell_type": "code",
      "metadata": {
        "colab": {
          "base_uri": "https://localhost:8080/"
        },
        "id": "NK_x1ap5t0qF",
        "outputId": "1d766502-fb10-4f74-e407-ab29594f2c36"
      },
      "source": [
        "#Examen selectiva doble \n",
        "sueldo=0\n",
        "sueldo=float(input(\"indique su sueldo:\"))\n",
        "if sueldo<1000:\n",
        "  nsueldo=sueldo*1.15\n",
        "  print(\"su sueldo es de $\", nsueldo)\n",
        "elif sueldo>1000:\n",
        "  nsueldo=sueldo*1.12\n",
        "  print(\"su sueldo es de $\", nsueldo)\n"
      ],
      "execution_count": null,
      "outputs": [
        {
          "output_type": "stream",
          "text": [
            "indique su sueldo:840.50\n",
            "su sueldo es de $ 966.5749999999999\n"
          ],
          "name": "stdout"
        }
      ]
    },
    {
      "cell_type": "code",
      "metadata": {
        "colab": {
          "base_uri": "https://localhost:8080/"
        },
        "id": "oV2bHCYE-Gb_",
        "outputId": "572513c0-1dbd-4235-9067-c21896a1baa8"
      },
      "source": [
        "#salarios\n",
        "\n",
        "cate=int(input(\"ingrese su categoria:\"))\n",
        "\n",
        "sueldo=float(input(\"ingrese su sueldo:\"))\n",
        "\n",
        "if cate==1:\n",
        "  nsueldo=sueldo*1.15\n",
        "  print(\"su sueldo es de $\",nsueldo)\n",
        "elif cate==2:\n",
        "  nsueldo=sueldo*1.10\n",
        "  print(\"su nuevo sueldo es de $\",nsueldo)\n",
        "\n",
        "elif cate==3:\n",
        "  nsueldo=sueldo*1.08\n",
        "  print(\"su sueldo es de $\", nsueldo )\n",
        "elif cate==4:\n",
        "  nsueldo=sueldo*1.07\n",
        "  print(\"su sueldo es de $\", nsueldo)\n",
        "\n"
      ],
      "execution_count": 41,
      "outputs": [
        {
          "output_type": "stream",
          "text": [
            "ingrese su categoria:4\n",
            "ingrese su sueldo:6200\n",
            "su sueldo es de $ 6634.0\n"
          ],
          "name": "stdout"
        }
      ]
    }
  ]
}