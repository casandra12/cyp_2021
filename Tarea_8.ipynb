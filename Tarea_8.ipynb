{
  "nbformat": 4,
  "nbformat_minor": 0,
  "metadata": {
    "colab": {
      "name": "Tarea_8.ipynb",
      "provenance": [],
      "authorship_tag": "ABX9TyM0S5AJBnysorrQc/V3XHXl",
      "include_colab_link": true
    },
    "kernelspec": {
      "name": "python3",
      "display_name": "Python 3"
    }
  },
  "cells": [
    {
      "cell_type": "markdown",
      "metadata": {
        "id": "view-in-github",
        "colab_type": "text"
      },
      "source": [
        "<a href=\"https://colab.research.google.com/github/casandra12/cyp_2021/blob/main/Tarea_8.ipynb\" target=\"_parent\"><img src=\"https://colab.research.google.com/assets/colab-badge.svg\" alt=\"Open In Colab\"/></a>"
      ]
    },
    {
      "cell_type": "code",
      "metadata": {
        "colab": {
          "base_uri": "https://localhost:8080/"
        },
        "id": "nRfFY8AXBNP2",
        "outputId": "afd652fa-87a5-461c-b497-a5fcb3afacfd"
      },
      "source": [
        "print(\"\\u10E6\\u10E6\\u10E6\\u10E6\\u10E6\\u10E6\\u10E6\\u10E6\\u10E6\\u10E6\\u10E6\\u10E6\\u10E6\\u10E6\\u10E6\\u10E6\\u10E6\\u10E6\\u10E6\\u10E6\\u10E6\\u10E6\\u10E6\\u10E6\\u10E6\\u10E6\\u10E6\\u10E6\\u10E6\\u10E6\\u10E6\\u10E6\\u10E6\\u10E6\\u10E6\\u10E6\\u10E6\\u10E6\\u10E6\\u10E6\\u10E6\\u10E6\\u10E6\\u10E6\\u10E6\\u10E6\\u10E6\\u10E6\\u10E6\\u10E6\\u10E6\\u10E6\\u10E6\\u10E6\\u10E6\\u10E6\\u10E6\\u10E6\\u10E6\\u10E6\\u10E6\\u10E6\\u10E6\\u10E6\\u10E6\\u10E6\\u10E6\\u10E6\\u10E6\\u10E6\\u10E6\\u10E6\\u10E6\\u10E6\\u10E6\\u10E6\\u10E6\\u10E6\\u10E6\\u10E6\\u10E6\\u10E6\\u10E6\\u10E6\\u10E6\\u10E6\\u10E6\\u10E6\\u10E6\")\n",
        "print(\"\\u10E6                                                                                       \\u10E6\")                                                                                                                                                                                                                                                                                                                                                                                                                                   \n",
        "print(\"\\u10E6              \\u27B3\\u27B3\\u27B3\\u27B3.                        \\u27B3                        \\u27B3 \\u27B3 \\u27B3 \\u27B3 \\u27B3 \\u27B3        \\u10E6\")                                                                                                                                                                                                                                                                                                                                                                                              \n",
        "print(\"\\u10E6           \\u27B3\\u27B3                            \\u27B3   \\u27B3                   \\u27B3 \\u27B3                   \\u10E6\")                                                                                                                                                                                                                                                                                                                                                                                                       \n",
        "print(\"\\u10E6        \\u27B3\\u27B3                              \\u27B3      \\u27B3                \\u27B3 \\u27B3                    \\u10E6\")                                                                                                                                                                                                                                                                                                                                                                                                             \n",
        "print(\"\\u10E6       \\u27B3\\u27B3                            \\u27B3          \\u27B3                   \\u27B3 \\u27B3                \\u10E6\")                                                                                                                                                                                                                                                                                                                                                                                                         \n",
        "print(\"\\u10E6       \\u27B3\\u27B3                          \\u27B3  \\u27B3   \\u27B3   \\u27B3  \\u27B3                   \\u27B3 \\u27B3  \\u27B3 \\u27B3          \\u10E6\")                                                                                                                                                                                                                                                                                                                                                                                       \n",
        "print(\"\\u10E6       \\u27B3\\u27B3                          \\u27B3              \\u27B3                       \\u27B3 \\u27B3          \\u10E6\")                                                                                                                                                                                                                                                                                                                                                                                           \n",
        "print(\"\\u10E6       \\u27B3\\u27B3                         \\u27B3              \\u27B3                          \\u27B3 \\u27B3        \\u10E6\")                                                                                                                                                                                                                                                                                                                                                                                        \n",
        "print(\"\\u10E6         \\u27B3\\u27B3                        \\u27B3              \\u27B3                           \\u27B3 \\u27B3      \\u10E6\")                                                                                                                                                                                                                                                                                                                                                                                                                         \n",
        "print(\"\\u10E6         \\u27B3\\u27B3                       \\u27B3              \\u27B3                        \\u27B3 \\u27B3          \\u10E6\")            \n",
        "print(\"\\u10E6             \\u27B3\\u27B3\\u27B3\\u27B3                 \\u27B3              \\u27B3                     \\u27B3 \\u27B3             \\u10E6\")      \n",
        "print(\"\\u10E6\\u10E6\\u10E6\\u10E6\\u10E6\\u10E6\\u10E6\\u10E6\\u10E6\\u10E6\\u10E6\\u10E6\\u10E6\\u10E6\\u10E6\\u10E6\\u10E6\\u10E6\\u10E6\\u10E6\\u10E6\\u10E6\\u10E6\\u10E6\\u10E6\\u10E6\\u10E6\\u10E6\\u10E6\\u10E6\\u10E6\\u10E6\\u10E6\\u10E6\\u10E6\\u10E6\\u10E6\\u10E6\\u10E6\\u10E6\\u10E6\\u10E6\\u10E6\\u10E6\\u10E6\\u10E6\\u10E6\\u10E6\\u10E6\\u10E6\\u10E6\\u10E6\\u10E6\\u10E6\\u10E6\\u10E6\\u10E6\\u10E6\\u10E6\\u10E6\\u10E6\\u10E6\\u10E6\\u10E6\\u10E6\\u10E6\\u10E6\\u10E6\\u10E6\\u10E6\\u10E6\\u10E6\\u10E6\\u10E6\\u10E6\\u10E6\\u10E6\\u10E6\\u10E6\\u10E6\\u10E6\\u10E6\\u10E6\\u10E6\\u10E6\\u10E6\\u10E6\\u10E6\\u10E6\")\n"
      ],
      "execution_count": 132,
      "outputs": [
        {
          "output_type": "stream",
          "text": [
            "ღღღღღღღღღღღღღღღღღღღღღღღღღღღღღღღღღღღღღღღღღღღღღღღღღღღღღღღღღღღღღღღღღღღღღღღღღღღღღღღღღღღღღღღღღ\n",
            "ღ                                                                                       ღ\n",
            "ღ              ➳➳➳➳.                        ➳                        ➳ ➳ ➳ ➳ ➳ ➳        ღ\n",
            "ღ           ➳➳                            ➳   ➳                   ➳ ➳                   ღ\n",
            "ღ        ➳➳                              ➳      ➳                ➳ ➳                    ღ\n",
            "ღ       ➳➳                            ➳          ➳                   ➳ ➳                ღ\n",
            "ღ       ➳➳                          ➳  ➳   ➳   ➳  ➳                   ➳ ➳  ➳ ➳          ღ\n",
            "ღ       ➳➳                          ➳              ➳                       ➳ ➳          ღ\n",
            "ღ       ➳➳                         ➳              ➳                          ➳ ➳        ღ\n",
            "ღ         ➳➳                        ➳              ➳                           ➳ ➳      ღ\n",
            "ღ         ➳➳                       ➳              ➳                        ➳ ➳          ღ\n",
            "ღ             ➳➳➳➳                 ➳              ➳                     ➳ ➳             ღ\n",
            "ღღღღღღღღღღღღღღღღღღღღღღღღღღღღღღღღღღღღღღღღღღღღღღღღღღღღღღღღღღღღღღღღღღღღღღღღღღღღღღღღღღღღღღღღღ\n"
          ],
          "name": "stdout"
        }
      ]
    }
  ]
}