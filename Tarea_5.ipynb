{
  "nbformat": 4,
  "nbformat_minor": 0,
  "metadata": {
    "colab": {
      "name": "Tarea_5.ipynb",
      "provenance": [],
      "authorship_tag": "ABX9TyOFqLxH7aS/MfdY29EA6+9B",
      "include_colab_link": true
    },
    "kernelspec": {
      "name": "python3",
      "display_name": "Python 3"
    }
  },
  "cells": [
    {
      "cell_type": "markdown",
      "metadata": {
        "id": "view-in-github",
        "colab_type": "text"
      },
      "source": [
        "<a href=\"https://colab.research.google.com/github/casandra12/cyp_2021/blob/main/Tarea_5.ipynb\" target=\"_parent\"><img src=\"https://colab.research.google.com/assets/colab-badge.svg\" alt=\"Open In Colab\"/></a>"
      ]
    },
    {
      "cell_type": "code",
      "metadata": {
        "id": "QpgMN4NgsC1A",
        "colab": {
          "base_uri": "https://localhost:8080/"
        },
        "outputId": "da190470-cb3d-4ebd-aa67-9cecccdfc00c"
      },
      "source": [
        "#ejercicio 3.1 \n",
        "sueldo=\"sueldo: $\"\n",
        "salario1=float(input(\"ingrese su sueldo1:\"))\n",
        "salario2=float(input(\"ingrese su sueldo2:\"))\n",
        "salario3=float(input(\"ingrese su sueldo3:\"))\n",
        "salario4=float(input(\"ingrese su sueldo4:\"))\n",
        "salario5=float(input(\"ingrese su sueldo5:\"))\n",
        "salario6=float(input(\"ingrese su sueldo6:\"))\n",
        "salario7=float(input(\"ingrese su sueldo7:\"))\n",
        "salario8=float(input(\"ingrese su sueldo8:\"))\n",
        "salario9=float(input(\"ingrese su sueldo9:\"))\n",
        "salario10=float(input(\"ingrese su sueldo10:\"))\n",
        "nomina=salario1+salario2+salario3+salario4+salario5+salario6+salario7+salario8+salario9+salario10\n",
        "print(\"nomina total es de:\", nomina)\n"
      ],
      "execution_count": 10,
      "outputs": [
        {
          "output_type": "stream",
          "text": [
            "ingrese su sueldo1:10\n",
            "ingrese su sueldo2:20\n",
            "ingrese su sueldo3:30\n",
            "ingrese su sueldo4:40\n",
            "ingrese su sueldo5:50\n",
            "ingrese su sueldo6:60\n",
            "ingrese su sueldo7:70\n",
            "ingrese su sueldo8:80\n",
            "ingrese su sueldo9:90\n",
            "ingrese su sueldo10:100\n",
            "nomina total es de: 550.0\n"
          ],
          "name": "stdout"
        }
      ]
    },
    {
      "cell_type": "code",
      "metadata": {
        "colab": {
          "base_uri": "https://localhost:8080/"
        },
        "id": "lVWD3rK-bjmK",
        "outputId": "1ece20b8-30e9-47f0-ad00-837414471ced"
      },
      "source": [
        "#ejercicio 3.1 \n",
        "salario=[]\n",
        "cont=0\n",
        "for i in range (10):\n",
        "  salario.append(float(input(f\"salario:$\")))\n",
        "for i in salario:\n",
        "  cont+=i\n",
        "print(f\"nomina total: \", cont)\n",
        "\n"
      ],
      "execution_count": 16,
      "outputs": [
        {
          "output_type": "stream",
          "text": [
            "salario:$10\n",
            "salario:$30\n",
            "salario:$50\n",
            "salario:$79\n",
            "salario:$56\n",
            "salario:$45\n",
            "salario:$23\n",
            "salario:$76\n",
            "salario:$98\n",
            "salario:$98\n",
            "nomina total:  565.0\n"
          ],
          "name": "stdout"
        }
      ]
    },
    {
      "cell_type": "code",
      "metadata": {
        "colab": {
          "base_uri": "https://localhost:8080/"
        },
        "id": "xH9yuusTejQD",
        "outputId": "d0c9fa04-1d52-4210-a5e6-972ee6989a56"
      },
      "source": [
        "#ejercicio 3.4\n",
        "gastototal=0\n",
        "gastoi=1\n",
        "while gastoi >0:\n",
        "  aux=float(input(\"total:\"))\n",
        "  gastototal+=(aux if aux >0 else 0.0)\n",
        "  gastoi=aux\n",
        "print(f\" el total es de:\", gastototal)\n",
        "\n"
      ],
      "execution_count": 21,
      "outputs": [
        {
          "output_type": "stream",
          "text": [
            "total:2528\n",
            "total:3500\n",
            "total:1600\n",
            "total:1850\n",
            "total:150\n",
            "total:-1\n",
            " el total es de: 9628.0\n"
          ],
          "name": "stdout"
        }
      ]
    }
  ]
}