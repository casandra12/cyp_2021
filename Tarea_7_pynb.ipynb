{
  "nbformat": 4,
  "nbformat_minor": 0,
  "metadata": {
    "colab": {
      "name": "Tarea_7.pynb",
      "provenance": [],
      "authorship_tag": "ABX9TyPhaby11+WMnojmc7lj17ai",
      "include_colab_link": true
    },
    "kernelspec": {
      "name": "python3",
      "display_name": "Python 3"
    }
  },
  "cells": [
    {
      "cell_type": "markdown",
      "metadata": {
        "id": "view-in-github",
        "colab_type": "text"
      },
      "source": [
        "<a href=\"https://colab.research.google.com/github/casandra12/cyp_2021/blob/main/Tarea_7_pynb.ipynb\" target=\"_parent\"><img src=\"https://colab.research.google.com/assets/colab-badge.svg\" alt=\"Open In Colab\"/></a>"
      ]
    },
    {
      "cell_type": "code",
      "metadata": {
        "colab": {
          "base_uri": "https://localhost:8080/"
        },
        "id": "nPIawRQH_aV1",
        "outputId": "2948260c-1a06-49e4-8d5e-678ebf22db7c"
      },
      "source": [
        "#Problema 4.11\n",
        "total = int(input(\"¿Cuántos países en total serán?: \"))\n",
        "\n",
        "qnorte, qcentro, qsur, aux, aux2 = 0, 0, 0, 0, 0\n",
        "while True:\n",
        "  qnorte = int(input(\"¿Cuántos países serán para el Norte de América?: \"))\n",
        "  qcentro = int(input(\"¿Cuántos países serán para el Centro de América?: \"))\n",
        "  qsur = int(input(\"¿Cuántos países serán para el Sur de América?: \"))\n",
        "  aux = qnorte + qcentro + qsur\n",
        "\n",
        "  if aux == total:\n",
        "    break;\n",
        "  elif aux < total:\n",
        "    print(\"La cantidad de países ingresada por regiones es menor a la total.\")\n",
        "  elif aux > total:\n",
        "    print(\"La cantidad de países ingresada por regiones es mayor a la total.\")\n",
        "\n",
        "lpaises = [\"Norte\", \"Centro\", \"Sur\"]\n",
        "aux = 0\n",
        "pnorte = [str(0) for x in range(qnorte)]\n",
        "pcentro = [str(0) for x in range(qcentro)]\n",
        "psur = [str(0) for x in range(qsur)]\n",
        "ptotal = [str(0) for x in range(total)]\n",
        "\n",
        "for i in range(total):\n",
        "  ptotal[i] = str(input(f\"Ingresa el nombre del país n°{aux+1} para la región del {lpaises[aux2]} de América: \"))\n",
        "  aux += 1\n",
        "  if aux2 == 0:\n",
        "    if aux >= qnorte:\n",
        "      aux = 0\n",
        "      aux2 = 1\n",
        "    pnorte[aux] = ptotal[i]\n",
        "  elif aux2 == 1:\n",
        "    if aux >= qcentro:\n",
        "      aux = 0\n",
        "      aux2 = 2\n",
        "    +pcentro[aux] = ptotal[i]\n",
        "  elif aux2 == 2:\n",
        "    if aux >= qsur:\n",
        "      aux = 0\n",
        "    psur[aux] = ptotal[i]\n",
        "\n",
        "print(f\"Norte: {sorted(pnorte)}\")\n",
        "print(f\"Centro: {sorted(pcentro)}\")\n",
        "print(f\"Sur: {sorted(psur)}\")\n",
        "print(f\"Todos: {sorted(ptotal)}\")\n"
      ],
      "execution_count": 5,
      "outputs": [
        {
          "output_type": "stream",
          "text": [
            "¿Cuántos países en total serán?: 10\n",
            "¿Cuántos países serán para el Norte de América?: 4\n",
            "¿Cuántos países serán para el Centro de América?: 4\n",
            "¿Cuántos países serán para el Sur de América?: 7\n",
            "La cantidad de países ingresada por regiones es mayor a la total.\n",
            "¿Cuántos países serán para el Norte de América?: 6\n",
            "¿Cuántos países serán para el Centro de América?: 8\n",
            "¿Cuántos países serán para el Sur de América?: 9\n",
            "La cantidad de países ingresada por regiones es mayor a la total.\n",
            "¿Cuántos países serán para el Norte de América?: 3\n",
            "¿Cuántos países serán para el Centro de América?: 2\n",
            "¿Cuántos países serán para el Sur de América?: 1\n",
            "La cantidad de países ingresada por regiones es menor a la total.\n",
            "¿Cuántos países serán para el Norte de América?: 3\n",
            "¿Cuántos países serán para el Centro de América?: 2\n",
            "¿Cuántos países serán para el Sur de América?: 5\n",
            "Ingresa el nombre del país n°1 para la región del Norte de América: panama\n",
            "Ingresa el nombre del país n°2 para la región del Norte de América: canada\n",
            "Ingresa el nombre del país n°3 para la región del Norte de América: estados unidos\n",
            "Ingresa el nombre del país n°1 para la región del Centro de América: ecuador\n",
            "Ingresa el nombre del país n°2 para la región del Centro de América: guatemala\n",
            "Ingresa el nombre del país n°1 para la región del Sur de América: belice\n",
            "Ingresa el nombre del país n°2 para la región del Sur de América: hinduras\n",
            "Ingresa el nombre del país n°3 para la región del Sur de América: argentina\n",
            "Ingresa el nombre del país n°4 para la región del Sur de América: chile\n",
            "Ingresa el nombre del país n°5 para la región del Sur de América: brasil\n",
            "Norte: ['canada', 'estados unidos', 'panama']\n",
            "Centro: ['ecuador', 'guatemala']\n",
            "Sur: ['argentina', 'belice', 'brasil', 'chile', 'hinduras']\n",
            "Todos: ['argentina', 'belice', 'brasil', 'canada', 'chile', 'ecuador', 'estados unidos', 'guatemala', 'hinduras', 'panama']\n"
          ],
          "name": "stdout"
        }
      ]
    }
  ]
}