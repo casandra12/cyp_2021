{
  "nbformat": 4,
  "nbformat_minor": 0,
  "metadata": {
    "colab": {
      "name": "01-dic-2020.ipynb",
      "provenance": [],
      "authorship_tag": "ABX9TyNFcnTLPnjPpsmuqe5kgJgv",
      "include_colab_link": true
    },
    "kernelspec": {
      "name": "python3",
      "display_name": "Python 3"
    }
  },
  "cells": [
    {
      "cell_type": "markdown",
      "metadata": {
        "id": "view-in-github",
        "colab_type": "text"
      },
      "source": [
        "<a href=\"https://colab.research.google.com/github/casandra12/cyp_2021/blob/main/01_dic_2020.ipynb\" target=\"_parent\"><img src=\"https://colab.research.google.com/assets/colab-badge.svg\" alt=\"Open In Colab\"/></a>"
      ]
    },
    {
      "cell_type": "code",
      "metadata": {
        "colab": {
          "base_uri": "https://localhost:8080/"
        },
        "id": "L8GJbqoSTL3T",
        "outputId": "27a85b66-989f-4609-b5c3-b28fd67889b7"
      },
      "source": [
        "#Ejemplo 1\n",
        "#Pedir 3 numeros enteros y se debe de mostrar el mayor de los tres\n",
        "\n",
        "num1 = int(input(\"Dame el numero 1: \"))\n",
        "num2 = int(input(\"Dame el numero 2: \"))\n",
        "num3 = int(input(\"Dame el numero 3: \"))\n",
        "\n",
        "if num1 > num2 and num1 > num3:\n",
        "  print(\"El numero mayor es: \", num1)\n",
        "elif num2 > num3:\n",
        "  print(\"El numero mayor es: \", num2)\n",
        "else:\n",
        "  print(\"El numero mayor es: \", num3)\n",
        "\n"
      ],
      "execution_count": 1,
      "outputs": [
        {
          "output_type": "stream",
          "text": [
            "Dame el numero 1: 9\n",
            "Dame el numero 2: 3\n",
            "Dame el numero 3: 4\n",
            "El numero mayor es:  9\n"
          ],
          "name": "stdout"
        }
      ]
    },
    {
      "cell_type": "code",
      "metadata": {
        "colab": {
          "base_uri": "https://localhost:8080/"
        },
        "id": "WOWmwHo8Vtep",
        "outputId": "3c28a382-fe3a-4d54-f090-b37ac3e2863f"
      },
      "source": [
        "#Ejemplo 2\n",
        "print(\"Ingrese el nombre del trabajador\")\n",
        "nombre=str (input())\n",
        "print(\"¿Cuantas horas trabajo esta semana?\",nombre,\":\" )\n",
        "horas=int (input())\n",
        "print(\"¿Cuanto se le paga por hora?:\")\n",
        "sueldoH= float (input())\n",
        "\n",
        "#Evaluar su sueldo\n",
        "\n",
        "if (horas<=40):\n",
        "  pago = horas*sueldoH\n",
        "  print(nombre,\"Su pago total es de $\",pago)\n",
        "\n",
        "else:\n",
        "  extras = horas - 40\n",
        "  pago = 40*sueldoH\n",
        "  pagoFinal = pago + ((extras * sueldoH)*2)\n",
        "  print(nombre,\"Su pago total es de $\",pagoFinal)\n",
        "  "
      ],
      "execution_count": 9,
      "outputs": [
        {
          "output_type": "stream",
          "text": [
            "Ingrese el nombre del trabajador\n",
            "maria\n",
            "¿Cuantas horas trabajo esta semana? maria :\n",
            "39\n",
            "¿Cuanto se le paga por hora?:\n",
            "65\n",
            "maria Su pago total es de $ 2535.0\n"
          ],
          "name": "stdout"
        }
      ]
    },
    {
      "cell_type": "code",
      "metadata": {
        "colab": {
          "base_uri": "https://localhost:8080/"
        },
        "id": "LvXxEhgQZIcq",
        "outputId": "aa0f3b76-b605-489d-cf54-4382bb7de90b"
      },
      "source": [
        "#Ejemplo 3\n",
        "#Calcular el salario semanal de x trabajador\n",
        "#El salario semanal se calcula en base a las horas semanales trabajadas\n",
        "#El pago por hora es variable (se pide por teclado)\n",
        "#Si las horas trabajadas superan las 40 horas, el pago por hora extra es:\n",
        "#Doble en el rango de 41horas a 50horas\n",
        "#Triple en el rango de 51horas a 60 horas\n",
        "#Incentivo de $2000 si rebasa las 60 horas.\n",
        "print(\"Ingrese el nombre del trabjador\")\n",
        "nombre=input()\n",
        "print(\"Cuantas horas trabajo esta semana\", nombre, \":\")\n",
        "horas=int(input())\n",
        "print(\"Cuanto se paga por hora?:\")\n",
        "sueldoH=float(input())\n",
        "\n",
        "#Evaluar el sueldo\n",
        "\n",
        "if(horas<=40):\n",
        "  pago=horas*sueldoH\n",
        "  print(\"El sueldo de\",nombre,\"es $\", pago)\n",
        "\n",
        "elif(horas>40 and horas <=50):\n",
        "  extrasDobles=horas-40\n",
        "  print(\"Horas extras:\",extrasDobles)\n",
        "  pago=40*sueldoH\n",
        "  print(\"Sueldo $\", pago)\n",
        "  pagoDoble=extrasDobles*sueldoH*2\n",
        "  print(\"pago de horas dobles $\", pagoDoble)\n",
        "  pagoFinal=pago+pagoDoble\n",
        "  print(\"El sueldo de\",nombre,\"es $\", pagoFinal)\n",
        "\n",
        "elif ((horas>=50 and horas <=60 )):\n",
        "    extrasTriples=horas-50\n",
        "    print(\"horas extra dobles:10\")\n",
        "    print(\"horas extra triples:\", extrasTriples)\n",
        "    pago=40*sueldoH\n",
        "    print(\"sueldo base: $\", pago)\n",
        "    pagoDoble=10*sueldoH*2\n",
        "    print(\"pago de horas extras dobles:\", pagoDoble)\n",
        "    pagoTriple=extrasTriples*sueldoH*3\n",
        "    print(\"pago de horas extra triples:\" ,pagoTriple)\n",
        "    pagoFinal=pago+pagoDoble+pagoTriple\n",
        "    print(\"El sueldo de\",nombre,\"es $\", pagoFinal)\n",
        "else:\n",
        "  extrasTriples=10\n",
        "  print(\"Horas extras dobles 10\")\n",
        "  print(\"horas extra triples 10\")\n",
        "  pago=40*sueldoH\n",
        "  print(\"sueldo Base:$\", pago)\n",
        "  pagoDoble=10*sueldoH*2\n",
        "  print(\"Pago de horas extra Dobles:\", pagoDoble)\n",
        "  pagoTriple=extrasTriples * sueldoH*3\n",
        "  print(\"pago de horas extra triples:\", pagoTriple)\n",
        "  print(\"Incentivo por trabajar más de 60 horas:$ $2000\")\n",
        "  pagoFinal= pago+pagoDoble+pagoTriple+2000\n",
        "  print(\"El sueldo Final de : \" ,nombre , \"Es $\", pagoFinal\n",
        "  \n",
        "\n"
      ],
      "execution_count": 6,
      "outputs": [
        {
          "output_type": "stream",
          "text": [
            "Ingrese el nombre del trabjador\n",
            "javier\n",
            "Cuantas horas trabajo esta semana javier :\n",
            "39\n",
            "Cuanto se paga por hora?:\n",
            "40\n",
            "El sueldo de javier es $ 1560.0\n"
          ],
          "name": "stdout"
        }
      ]
    },
    {
      "cell_type": "code",
      "metadata": {
        "colab": {
          "base_uri": "https://localhost:8080/"
        },
        "id": "3hoM9NTbnw0L",
        "outputId": "eecd11d0-71e8-42cf-b321-f745d759f14e"
      },
      "source": [
        "#estructura for\n",
        "#ejemplo 1\n",
        "for estaciones_año in[\"primavera\",\"verano\", \"otoño\", \"invierno\"]: #elemento a recorres, palabra reservada in\n",
        "  print(estaciones_año)\n",
        "#varaiables que suelen forma parte de FOR son \"i\"\n",
        "\n"
      ],
      "execution_count": 8,
      "outputs": [
        {
          "output_type": "stream",
          "text": [
            "primavera\n",
            "verano\n",
            "otoño\n",
            "invierno\n"
          ],
          "name": "stdout"
        }
      ]
    }
  ]
}