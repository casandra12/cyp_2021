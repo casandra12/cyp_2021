{
  "nbformat": 4,
  "nbformat_minor": 0,
  "metadata": {
    "colab": {
      "name": "08_dic_CyP.ipynb",
      "provenance": [],
      "authorship_tag": "ABX9TyNQO981TgzXjSNY7aDJ2Skn",
      "include_colab_link": true
    },
    "kernelspec": {
      "name": "python3",
      "display_name": "Python 3"
    }
  },
  "cells": [
    {
      "cell_type": "markdown",
      "metadata": {
        "id": "view-in-github",
        "colab_type": "text"
      },
      "source": [
        "<a href=\"https://colab.research.google.com/github/casandra12/cyp_2021/blob/main/08_dic_CyP.ipynb\" target=\"_parent\"><img src=\"https://colab.research.google.com/assets/colab-badge.svg\" alt=\"Open In Colab\"/></a>"
      ]
    },
    {
      "cell_type": "code",
      "metadata": {
        "colab": {
          "base_uri": "https://localhost:8080/"
        },
        "id": "jAzj-fqTWuXc",
        "outputId": "4fd97124-77ef-4d1a-bf0f-e1a70e54355c"
      },
      "source": [
        "a=20\n",
        "while(a>10):\n",
        "  print(f\"a es igual\", a)\n",
        "  a=a-1"
      ],
      "execution_count": 1,
      "outputs": [
        {
          "output_type": "stream",
          "text": [
            "a es igual 20\n",
            "a es igual 19\n",
            "a es igual 18\n",
            "a es igual 17\n",
            "a es igual 16\n",
            "a es igual 15\n",
            "a es igual 14\n",
            "a es igual 13\n",
            "a es igual 12\n",
            "a es igual 11\n"
          ],
          "name": "stdout"
        }
      ]
    },
    {
      "cell_type": "code",
      "metadata": {
        "colab": {
          "base_uri": "https://localhost:8080/"
        },
        "id": "CSir6y_CZtMK",
        "outputId": "58974ae7-4618-4512-8972-5c5dfb5d4984"
      },
      "source": [
        "suma_gas = 0\n",
        "gasto = float(input( \"Introduce un gasto: \"))\n",
        "while( gasto != -1 ):\n",
        "  suma_gas = suma_gas + gasto #suma_gas += gasto\n",
        "  gasto = float(input(\" Introduce un gasto: \"))\n",
        "print(f\"La suma total es { suma_gas } pesos\")"
      ],
      "execution_count": 8,
      "outputs": [
        {
          "output_type": "stream",
          "text": [
            "Introduce un gasto: 7\n",
            " Introduce un gasto: 8\n",
            " Introduce un gasto: 4\n",
            " Introduce un gasto: 5\n",
            " Introduce un gasto: -1\n",
            "La suma total es 24.0 pesos\n"
          ],
          "name": "stdout"
        }
      ]
    },
    {
      "cell_type": "code",
      "metadata": {
        "id": "AzIgAYMScGLL"
      },
      "source": [
        "cub = 0\n",
        "num = float(input(\"Ingrese el numero\"))\n",
        "\n",
        "while num != -1:\n",
        "  cub = num ** 3\n",
        "  print(f\"el cubo del numero {num} es: {cub}\")\n",
        "  num = float(input(\"Ingrese el numero\"))\n",
        "  print(\"fin del programa\")\n"
      ],
      "execution_count": null,
      "outputs": []
    },
    {
      "cell_type": "code",
      "metadata": {
        "colab": {
          "base_uri": "https://localhost:8080/"
        },
        "id": "YLkDLDtsfUUu",
        "outputId": "a9b2d30a-f120-4d6c-a25f-9449f1ecbe4b"
      },
      "source": [
        "# Problema 3.1\n",
        "\n",
        "sumpar = 0\n",
        "sumimp = 0\n",
        "cuepar = 0\n",
        "I = 1\n",
        "while I <= 5:\n",
        "  num = int(input(\" Introduce un numero entero: \"))\n",
        "  if num != 0:\n",
        "    if ((-1) ** num) > 0: # num % 2\n",
        "      sumpar = sumpar + num\n",
        "      cuepar = cuepar + 1\n",
        "    else:\n",
        "       sumimp = sumimp + num \n",
        "  I = I + 1\n",
        "propar= sumpar / cuepar\n",
        "print(f\" El promedio de los pares es: {propar} \") \n",
        "print(f\" La suma de los impares es: {sumimp}\")"
      ],
      "execution_count": 14,
      "outputs": [
        {
          "output_type": "stream",
          "text": [
            " Introduce un numero entero: 1\n",
            " Introduce un numero entero: 2\n",
            " Introduce un numero entero: 3\n",
            " Introduce un numero entero: 4\n",
            " Introduce un numero entero: 5\n",
            " El promedio de los pares es: 3.0 \n",
            " La suma de los impares es: 9\n"
          ],
          "name": "stdout"
        }
      ]
    },
    {
      "cell_type": "code",
      "metadata": {
        "id": "8RsbhifDeIjj"
      },
      "source": [
        "band= True\n",
        "sumser=0\n",
        "I=2\n",
        "while I <= 1800:\n",
        "  sumser=sumser+I\n",
        "  print(f\"{I},\", end=\"\")\n",
        "  if band==True:\n",
        "    band=False\n",
        "    I=I+3\n",
        "  else:\n",
        "    band=True\n",
        "    I=I+2\n",
        "print(\"\\nla suma de la serie es\", sumser)\n"
      ],
      "execution_count": null,
      "outputs": []
    },
    {
      "cell_type": "code",
      "metadata": {
        "colab": {
          "base_uri": "https://localhost:8080/",
          "height": 147
        },
        "id": "IUOan85DrJc2",
        "outputId": "c7f8eb26-eb07-47b2-ffed-16074caed186"
      },
      "source": [
        "#ejemplos de arreglos\n",
        "#en python no existe el tipo de dato esepecial arreglo existe el dato nativo vista que fucniona de manera semejante\n",
        "#delcarar un arreglo de 70 elemtos de tipo float para alamacenar sueldos\n",
        "sueldos =[0.0 for x in range (7)] \n",
        "print(sueldos)\n",
        "sueldos[0]=200.5\n",
        "print(sueldos)\n",
        "\"\"\"\n",
        "en lenguaje c un arreglo se declara de la forma\n",
        "float sueldos[7]={0.0};\n",
        "en java seria float[]= new int[7]={0.0};\n",
        "amnos, cambiar el valor dle primer elemento "
      ],
      "execution_count": 23,
      "outputs": [
        {
          "output_type": "error",
          "ename": "SyntaxError",
          "evalue": "ignored",
          "traceback": [
            "\u001b[0;36m  File \u001b[0;32m\"<ipython-input-23-0a92efe0f83f>\"\u001b[0;36m, line \u001b[0;32m12\u001b[0m\n\u001b[0;31m    amnos, cambiar el valor dle primer elemento\u001b[0m\n\u001b[0m                                                \n^\u001b[0m\n\u001b[0;31mSyntaxError\u001b[0m\u001b[0;31m:\u001b[0m EOF while scanning triple-quoted string literal\n"
          ]
        }
      ]
    },
    {
      "cell_type": "code",
      "metadata": {
        "colab": {
          "base_uri": "https://localhost:8080/"
        },
        "id": "8IGEs5zxuGwX",
        "outputId": "44c394d7-16c2-4cc4-abb6-950bb1b5a977"
      },
      "source": [
        "s=[0.0 for x in range(7)]\n",
        "for j in range (7):\n",
        "  s[j]=float(input(\"introduce un sueldo)\"))\n",
        "print(s)\n",
        "for j in range (7):\n",
        "  print(s[j])"
      ],
      "execution_count": 26,
      "outputs": [
        {
          "output_type": "stream",
          "text": [
            "introduce un sueldo)1\n",
            "introduce un sueldo)2\n",
            "introduce un sueldo)3\n",
            "introduce un sueldo)4\n",
            "introduce un sueldo)5\n",
            "introduce un sueldo)6\n",
            "introduce un sueldo)7\n",
            "[1.0, 2.0, 3.0, 4.0, 5.0, 6.0, 7.0]\n",
            "1.0\n",
            "2.0\n",
            "3.0\n",
            "4.0\n",
            "5.0\n",
            "6.0\n",
            "7.0\n"
          ],
          "name": "stdout"
        }
      ]
    }
  ]
}