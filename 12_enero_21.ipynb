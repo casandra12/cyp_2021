{
  "nbformat": 4,
  "nbformat_minor": 0,
  "metadata": {
    "colab": {
      "name": "12_enero_21.ipynb",
      "provenance": [],
      "authorship_tag": "ABX9TyOFX41QQa8jUsJbrNbMR0Bv",
      "include_colab_link": true
    },
    "kernelspec": {
      "name": "python3",
      "display_name": "Python 3"
    }
  },
  "cells": [
    {
      "cell_type": "markdown",
      "metadata": {
        "id": "view-in-github",
        "colab_type": "text"
      },
      "source": [
        "<a href=\"https://colab.research.google.com/github/casandra12/cyp_2021/blob/main/12_enero_21.ipynb\" target=\"_parent\"><img src=\"https://colab.research.google.com/assets/colab-badge.svg\" alt=\"Open In Colab\"/></a>"
      ]
    },
    {
      "cell_type": "code",
      "metadata": {
        "id": "HJVOmXD1lyHp"
      },
      "source": [
        "#introduccion a python \n"
      ],
      "execution_count": null,
      "outputs": []
    },
    {
      "cell_type": "markdown",
      "metadata": {
        "id": "uD-vMmGopa1p"
      },
      "source": [
        "# Introducción a Python\n",
        "- Creado en los 90's por Guido Ban R. \n",
        "- En el 2000 Python mejora y tienen nuevas características.\n",
        "- 2020 Deja de ser la versión oficial Python 2.7 y solo se dará soporte a Python 3 en adelante.\n",
        "\n",
        "## Características de Python\n",
        "1. Lenguaje de propósito general\n",
        "2. Interpretado y no-compilado\n",
        "3. Tipos de datos dinámicos. (Numéricos, de cadena, bool, entre otros).\n",
        "4. Multiplataforma\n",
        "5. Lenguaje multi-paradigma. (Imperativa, POO y funcional).\n",
        "6. Código es estructurado por identación\n",
        "\n",
        "\n",
        "```if a > 10 :\n",
        "    print( \"Hola\" )\n",
        "print(\"hola dos\")\n",
        "````\n",
        "\n",
        "##principios zen\n",
        "son las caracterixtcas que gual el diseño de lenguajes de programacion Python \n",
        "\n",
        "\n",
        "\n",
        "\n",
        "\n",
        "\n"
      ]
    },
    {
      "cell_type": "code",
      "metadata": {
        "colab": {
          "base_uri": "https://localhost:8080/"
        },
        "id": "6gMIMHRMu_i2",
        "outputId": "57816cb7-8896-4984-c05e-e8f89b9d3fd4"
      },
      "source": [
        "#primer programa en python\n",
        "\n",
        "nombre=\"jose\"\n",
        "edad=18\n",
        "print(\"hola\", nombre, edad)"
      ],
      "execution_count": 1,
      "outputs": [
        {
          "output_type": "stream",
          "text": [
            "hola jose 18\n"
          ],
          "name": "stdout"
        }
      ]
    },
    {
      "cell_type": "markdown",
      "metadata": {
        "id": "MXLJwXgjvn9m"
      },
      "source": [
        "#Lafuncion print()\n",
        "esuna de las funciones más empleadas en programacion y busca enviar datos estdandar(monitor) \n",
        "###formas de uso\n",
        "1.Con comas \n",
        "1.con signos +\n",
        "1..format()\n",
        "1.el operador f \"\"\n",
        "\n",
        "### con comas\n",
        "conecta los argumentos a print y les agrega un esapcio \n",
        "\n",
        "### con signo más\n",
        "conecta los valores sin espacio y sin hacer concersion de tipos\n",
        "\n",
        "### con la funcion format()\n",
        "permite darle fromato a la salida de la impresion de varibales. Emplea la funcion format en el tipo de dato string\n",
        "```\n",
        "\"cadena {} a {}forma{}tear\".format(v1,v2,vn)\n",
        "emplea como comidines para sustituir valores los signos {}\n",
        "```\n",
        "\n",
        "###con el operador f \"\"\n",
        "Es un variable de lo anterior pero enmascarando la funcion format().\n",
        "print(f\" jsjjdjs {var} jjdajawe{variable 2} dhsb{varn}\")\n",
        "\n"
      ]
    },
    {
      "cell_type": "code",
      "metadata": {
        "colab": {
          "base_uri": "https://localhost:8080/"
        },
        "id": "SDRMfiG-wS95",
        "outputId": "cb725449-fe64-40bd-ac76-4f17b4dd29d1"
      },
      "source": [
        "print(\"hola\", nombre, edad) \n",
        "print(\"hola \" + nombre + \" \" + str(edad) )\n",
        "#nombre: Jose, con una edad de: 18 años. \n",
        "print(\"nombre:\",nombre, \"con una edad de:\", edad, \"años\")\n",
        "print(\"nombre: \"+ nombre +  \" con una edad de:\" + str(edad)+ \"años\")\n",
        "\n",
        "#con format\n",
        "print(\"nombre: {1} con una edad de: {1} años\".format(nombre,edad))\n",
        "#operador f\"\"\n",
        "print(f\"nombre: {nombre} con una edad de: {edad} años\")"
      ],
      "execution_count": 14,
      "outputs": [
        {
          "output_type": "stream",
          "text": [
            "hola jose 18\n",
            "hola jose 18\n",
            "nombre: jose con una edad de: 18 años\n",
            "nombre: jose con una edad de:18años\n",
            "nombre: 18 con una edad de: 18 años\n",
            "nombre: jose con una edad de: 18 años\n"
          ],
          "name": "stdout"
        }
      ]
    },
    {
      "cell_type": "markdown",
      "metadata": {
        "id": "X75bT6Jj2LKc"
      },
      "source": [
        "#funcion print() y los caracteres de escape\n",
        "-\\n salto de linea\n",
        "-\\t tabulador \n",
        "-\\\\imprimir la diagonal \\\n",
        "-\\apostofe y \\\"\n",
        "-\\uxxx\n",
        "-\\uxxxxxxxx"
      ]
    },
    {
      "cell_type": "code",
      "metadata": {
        "colab": {
          "base_uri": "https://localhost:8080/"
        },
        "id": "VGj-GcTp28Qh",
        "outputId": "53bf9f78-b72f-4940-ddb2-49ac36d1d0fe"
      },
      "source": [
        "print('\"')\n",
        "print(\"\\\"\")\n",
        "print(\"nombre: jose\\n\\tcon una edad 18 años\")\n",
        "print(\"hola \\u2661\")"
      ],
      "execution_count": 20,
      "outputs": [
        {
          "output_type": "stream",
          "text": [
            "\"\n",
            "\"\n",
            "nombre: jose\n",
            "\tcon una edad 18 años\n",
            "hola ♡\n"
          ],
          "name": "stdout"
        }
      ]
    },
    {
      "cell_type": "markdown",
      "metadata": {
        "id": "OelJ1tau8IFs"
      },
      "source": [
        "##print y salto de linea en el argumebto \n",
        "print([lista de variables], end=\"\\n\")\n"
      ]
    },
    {
      "cell_type": "code",
      "metadata": {
        "colab": {
          "base_uri": "https://localhost:8080/"
        },
        "id": "pWsmk_xO8eHI",
        "outputId": "cfee1681-31bc-410a-ab43-c74c51fdeb34"
      },
      "source": [
        "print(\"hola \" , end =\"\\-----\")\n",
        "print(\"mundo \" , end=\"++++\")\n",
        "print(\"fin \" , end=\"\\n\")"
      ],
      "execution_count": 21,
      "outputs": [
        {
          "output_type": "stream",
          "text": [
            "hola \n",
            "mundo \n",
            "fin \n"
          ],
          "name": "stdout"
        }
      ]
    },
    {
      "cell_type": "markdown",
      "metadata": {
        "id": "2Sio6JYy9jlB"
      },
      "source": [
        "#comentarios en pyhton\n",
        "un comentario en programacion, es un texto especail que es ignorado por el interprete o compilador segun sea el caso y es empleado para que el programador documente sus algoritmos\n",
        "\n",
        "exiten dos tipos:\n",
        "De linea simple y multiple línea \n",
        "-linea simple emplea con #\n",
        "-linea multiple \n",
        "```\n",
        "\"\"\"\n",
        "esto es un comentario de linea \n",
        "\"\"\"\n",
        "``` "
      ]
    },
    {
      "cell_type": "code",
      "metadata": {
        "id": "cGiGC81x_NZz"
      },
      "source": [
        "print(\"Hola\")\n",
        "# print (\"Hola\")\n",
        "# cualquier cosa \n",
        "print(\"Hola\")\n",
        "print(\"Hola\") # esta liínea imprime hola\n",
        "print(\"Hola\")\n",
        "print(\"Hola\")\n",
        "\"\"\"\n",
        "esto es\n",
        "un comentario de múltiple lunea. Ideal\n",
        "para cuando se desea explicar algo a fondo que requiera mayor detales.\n",
        "\n",
        "\"\"\"\n",
        "\n",
        "print(\"Hola\")\n",
        "print(\"Hola\")\n",
        "print(\"Hola\")\n",
        "print(\"Hola\")"
      ],
      "execution_count": null,
      "outputs": []
    }
  ]
}