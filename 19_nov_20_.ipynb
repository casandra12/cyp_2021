{
  "nbformat": 4,
  "nbformat_minor": 0,
  "metadata": {
    "colab": {
      "name": "19_nov_20_.ipynb",
      "provenance": [],
      "authorship_tag": "ABX9TyP6z56oHMy+ePpYoMwUlTPM",
      "include_colab_link": true
    },
    "kernelspec": {
      "name": "python3",
      "display_name": "Python 3"
    }
  },
  "cells": [
    {
      "cell_type": "markdown",
      "metadata": {
        "id": "view-in-github",
        "colab_type": "text"
      },
      "source": [
        "<a href=\"https://colab.research.google.com/github/casandra12/cyp_2021/blob/main/19_nov_20_.ipynb\" target=\"_parent\"><img src=\"https://colab.research.google.com/assets/colab-badge.svg\" alt=\"Open In Colab\"/></a>"
      ]
    },
    {
      "cell_type": "code",
      "metadata": {
        "colab": {
          "base_uri": "https://localhost:8080/"
        },
        "id": "tBpK0ozUhWuj",
        "outputId": "13f9590a-6ba5-43a3-ce9d-4741bd0c5b55"
      },
      "source": [
        "I=0         #concepto de asignacion\n",
        "I=I+1\n",
        "print(f\"I={I}\")"
      ],
      "execution_count": 2,
      "outputs": [
        {
          "output_type": "stream",
          "text": [
            "I=1\n"
          ],
          "name": "stdout"
        }
      ]
    },
    {
      "cell_type": "code",
      "metadata": {
        "colab": {
          "base_uri": "https://localhost:8080/"
        },
        "id": "nXhkR7XElNjt",
        "outputId": "9d00fccc-654c-49e5-fa7d-22dbc7cd3f0e"
      },
      "source": [
        "J=5**2/3\n",
        "print(f\"J={J}\")\n"
      ],
      "execution_count": 3,
      "outputs": [
        {
          "output_type": "stream",
          "text": [
            "J=8.333333333333334\n"
          ],
          "name": "stdout"
        }
      ]
    },
    {
      "cell_type": "code",
      "metadata": {
        "colab": {
          "base_uri": "https://localhost:8080/"
        },
        "id": "HnL7o0h5lngy",
        "outputId": "2c9b890f-9829-4b3f-b7a3-a3b7809479ef"
      },
      "source": [
        "A=0 #declaracion de varibales(reservando memoria)\n",
        "B=0 \n",
        "C=0\n",
        "D=0\n",
        "\n",
        "A=int(input(\"Dame un valor entero:\"))\n",
        "B=int(input(\"Dame un valor entero:\"))\n",
        "C=int(input(\"Dame un valor entero:\"))\n",
        "D=int(input(\"Dame un valor entero:\"))\n",
        "\n",
        "print(D)\n",
        "print(C)\n",
        "print(B)\n",
        "print(A)"
      ],
      "execution_count": 5,
      "outputs": [
        {
          "output_type": "stream",
          "text": [
            "Dame un valor entero:10\n",
            "Dame un valor entero:20\n",
            "Dame un valor entero:30\n",
            "Dame un valor entero:40\n",
            "40\n",
            "30\n",
            "20\n",
            "10\n"
          ],
          "name": "stdout"
        }
      ]
    },
    {
      "cell_type": "code",
      "metadata": {
        "colab": {
          "base_uri": "https://localhost:8080/"
        },
        "id": "3e4MldWdoBV2",
        "outputId": "ab531dd2-607f-4df1-a3ae-1483266acd77"
      },
      "source": [
        "#Ejemplo 1,7\n",
        "A=0\n",
        "B=0\n",
        "A= int(input(\"dame un entero:\"))\n",
        "B=int(input(\"dame otro entero:\"))\n",
        "RES=(A+B)**2/3\n",
        "print(RES)"
      ],
      "execution_count": 9,
      "outputs": [
        {
          "output_type": "stream",
          "text": [
            "dame un entero:14\n",
            "dame otro entero:-5\n",
            "27.0\n"
          ],
          "name": "stdout"
        }
      ]
    },
    {
      "cell_type": "code",
      "metadata": {
        "colab": {
          "base_uri": "https://localhost:8080/"
        },
        "id": "c472O0iUp_yS",
        "outputId": "2247a932-76de-4089-ced0-d2d8d022fc8a"
      },
      "source": [
        "#ejepmlo 1.8\n",
        "MAT=0\n",
        "cal1=0\n",
        "cal2=0\n",
        "cal3=0\n",
        "cal4=0\n",
        "cal5=0\n",
        "PRO=0.0\n",
        "MAT=(input(\"Dame la matricula\"))\n",
        "cal1 =float(input(\"Dame la calificacion :\"))\n",
        "cal2=float(input(\"Dame la calificacion :\"))\n",
        "cal3=float(input(\"Dame la calificacion :\"))\n",
        "cal4=float(input(\"Dame la calificacion :\"))\n",
        "cal5=float(input(\"Dame la calificacion :\"))\n",
        "PRO= (cal1+cal2+cal3+cal4+cal5)/5\n",
        "print(MAT, PRO)\n"
      ],
      "execution_count": 21,
      "outputs": [
        {
          "output_type": "stream",
          "text": [
            "Dame la matricula16500\n",
            "Dame la calificacion 1:8\n",
            "Dame la calificacion 1:9\n",
            "Dame la calificacion 1:10\n",
            "Dame la calificacion 1:8\n",
            "Dame la calificacion 1:9\n",
            "16500 8.8\n"
          ],
          "name": "stdout"
        }
      ]
    },
    {
      "cell_type": "code",
      "metadata": {
        "colab": {
          "base_uri": "https://localhost:8080/"
        },
        "id": "ThuHnYCcypA8",
        "outputId": "32387fc4-d09c-453e-e93c-d67d09a94d50"
      },
      "source": [
        "num = int(input(\"Number: \"))\n",
        "print(num ** 2)\n",
        "print(num ** 3)\n"
      ],
      "execution_count": 23,
      "outputs": [
        {
          "output_type": "stream",
          "text": [
            "Number: 9\n",
            "81\n",
            "729\n"
          ],
          "name": "stdout"
        }
      ]
    },
    {
      "cell_type": "code",
      "metadata": {
        "colab": {
          "base_uri": "https://localhost:8080/"
        },
        "id": "7Vtdit6l20PD",
        "outputId": "8ade02ac-a3d5-4c56-ebdc-3860c8a0b0aa"
      },
      "source": [
        "base=0\n",
        "altura=0\n",
        "area=0\n",
        "per=0\n",
        "\n",
        "base=float(input(\"Ingresa la base\"))\n",
        "altura=float(input(\"Ingresa la altura\"))\n",
        "area=(base*altura)\n",
        "per=(2*base)+(2*altura)\n",
        "\n",
        "print(f\"el área es {area}\")\n",
        "print(f\"el perímetro es {per}\")"
      ],
      "execution_count": 37,
      "outputs": [
        {
          "output_type": "stream",
          "text": [
            "Ingresa la base7\n",
            "Ingresa la altura6\n",
            "el área es 42.0\n",
            "el perímetro es 26.0\n"
          ],
          "name": "stdout"
        }
      ]
    }
  ]
}