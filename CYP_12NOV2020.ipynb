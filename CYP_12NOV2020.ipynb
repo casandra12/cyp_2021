{
  "nbformat": 4,
  "nbformat_minor": 0,
  "metadata": {
    "colab": {
      "name": "CYP 12NOV2020",
      "provenance": [],
      "collapsed_sections": [],
      "authorship_tag": "ABX9TyPX5We8YKUbWKGYsukbD/KZ",
      "include_colab_link": true
    },
    "kernelspec": {
      "name": "python3",
      "display_name": "Python 3"
    }
  },
  "cells": [
    {
      "cell_type": "markdown",
      "metadata": {
        "id": "view-in-github",
        "colab_type": "text"
      },
      "source": [
        "<a href=\"https://colab.research.google.com/github/casandra12/cyp_2021/blob/main/CYP_12NOV2020.ipynb\" target=\"_parent\"><img src=\"https://colab.research.google.com/assets/colab-badge.svg\" alt=\"Open In Colab\"/></a>"
      ]
    },
    {
      "cell_type": "code",
      "metadata": {
        "id": "atkB2Dn0cFid",
        "outputId": "74e75911-7416-430d-8833-c515f327b879",
        "colab": {
          "base_uri": "https://localhost:8080/"
        }
      },
      "source": [
        "numero=int(input(\"Dame un numero\"))\n",
        "if numero >0:\n",
        "  print(\"el numero es positivo\")\n",
        "\n",
        "print(\"fin del programa\")"
      ],
      "execution_count": null,
      "outputs": [
        {
          "output_type": "stream",
          "text": [
            "Dame un numero5\n",
            "el numero es positivo\n",
            "fin del programa\n"
          ],
          "name": "stdout"
        }
      ]
    },
    {
      "cell_type": "code",
      "metadata": {
        "id": "YhN4kaA0fC8y",
        "outputId": "75a09b33-63c7-42c6-8382-23862c4ea23d",
        "colab": {
          "base_uri": "https://localhost:8080/"
        }
      },
      "source": [
        "numero=int(input(\"digite un numero\"))\n",
        "if numero >0:\n",
        "  print(\"elnumero es positivo\")\n",
        "else:\n",
        "  print(\"el numero es negativo\")\n",
        "  "
      ],
      "execution_count": null,
      "outputs": [
        {
          "output_type": "stream",
          "text": [
            "digite un numero-5\n",
            "el numero es negativo\n"
          ],
          "name": "stdout"
        }
      ]
    },
    {
      "cell_type": "code",
      "metadata": {
        "id": "CLVkBsCbg6y_",
        "outputId": "1e016ac9-f5c9-4e2b-f379-9a9119001fa1",
        "colab": {
          "base_uri": "https://localhost:8080/"
        }
      },
      "source": [
        "numero=int(input(\"digite un numero\"))\n",
        "if numero >0:\n",
        "  print(\"elnumero es positivo\")\n",
        "elif numero==0:\n",
        "  print(\"el numero es cero\")\n",
        "else:\n",
        "  print(\"el numero es negativo\")\n",
        "  "
      ],
      "execution_count": null,
      "outputs": [
        {
          "output_type": "stream",
          "text": [
            "digite un numero-3\n",
            "el numero es negativo\n"
          ],
          "name": "stdout"
        }
      ]
    }
  ]
}