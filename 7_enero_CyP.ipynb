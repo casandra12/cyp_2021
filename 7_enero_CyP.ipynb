{
  "nbformat": 4,
  "nbformat_minor": 0,
  "metadata": {
    "colab": {
      "name": "7_enero_CyP.ipynb",
      "provenance": [],
      "authorship_tag": "ABX9TyPtIJfiANm+34I8VvvufnZj",
      "include_colab_link": true
    },
    "kernelspec": {
      "name": "python3",
      "display_name": "Python 3"
    }
  },
  "cells": [
    {
      "cell_type": "markdown",
      "metadata": {
        "id": "view-in-github",
        "colab_type": "text"
      },
      "source": [
        "<a href=\"https://colab.research.google.com/github/casandra12/cyp_2021/blob/main/7_enero_CyP.ipynb\" target=\"_parent\"><img src=\"https://colab.research.google.com/assets/colab-badge.svg\" alt=\"Open In Colab\"/></a>"
      ]
    },
    {
      "cell_type": "code",
      "metadata": {
        "id": "rhuuFZ0O4p_l",
        "colab": {
          "base_uri": "https://localhost:8080/"
        },
        "outputId": "1f87b10f-5acd-4925-ea72-1f596069fbc1"
      },
      "source": [
        "N = int(input(\"Ingrese el numero de elementos del arreglo: \"))\n",
        "VEC = []\n",
        "if 1 <= N and N <=500:\n",
        "  VEC = [0 for x in range(N)]\n",
        "  for I in range(N):\n",
        "    VEC[I]=int(input(\"Ingrese valor\" + str(I+1) + \":\"))\n",
        "  print(\"Lista de numero sin repeticiones: \")\n",
        "\n",
        "  I =0\n",
        "  while I<N:\n",
        "    print(VEC[I])\n",
        "    REPET = VEC[I]\n",
        "    while I < N and I != N-1 and REPET == VEC[I+1]  :\n",
        "      I=I+1\n",
        "    I = I + 1\n",
        "else: \n",
        "  print(\"EL numero de elementos del arreglo es incorrecto\")"
      ],
      "execution_count": null,
      "outputs": [
        {
          "output_type": "stream",
          "text": [
            "Ingrese el numero de elementos del arreglo: 10\n",
            "Ingrese valor1:2\n",
            "Ingrese valor2:2\n",
            "Ingrese valor3:3\n",
            "Ingrese valor4:4\n",
            "Ingrese valor5:3\n",
            "Ingrese valor6:5\n",
            "Ingrese valor7:6\n",
            "Ingrese valor8:7\n",
            "Ingrese valor9:8\n",
            "Ingrese valor10:2\n",
            "Lista de numero sin repeticiones: \n",
            "2\n",
            "3\n",
            "4\n",
            "3\n",
            "5\n",
            "6\n",
            "7\n",
            "8\n",
            "2\n"
          ],
          "name": "stdout"
        }
      ]
    },
    {
      "cell_type": "code",
      "metadata": {
        "colab": {
          "base_uri": "https://localhost:8080/"
        },
        "id": "TtNMzIWq79WQ",
        "outputId": "1bfecfe1-8f9d-49b3-faa8-4cf5d53e29c2"
      },
      "source": [
        "REN=3\n",
        "COL=5\n",
        "VEC=[[0 for x in range(COL)] for x in range(REN)]\n",
        "print(VEC)\n",
        "VEC[1][2]=15\n",
        "print(VEC)\n",
        "print(\"automatizar el recorrdio del arreglo\")\n",
        "for i in range (REN):\n",
        "  for j in range (COL):\n",
        "    print(f\"{i},{j}={VEC[i][j]}\")\n",
        "    "
      ],
      "execution_count": null,
      "outputs": [
        {
          "output_type": "stream",
          "text": [
            "[[0, 0, 0, 0, 0], [0, 0, 0, 0, 0], [0, 0, 0, 0, 0]]\n",
            "[[0, 0, 0, 0, 0], [0, 0, 15, 0, 0], [0, 0, 0, 0, 0]]\n",
            "automatizar el recorrdio del arreglo\n",
            "0,0=0\n",
            "0,1=0\n",
            "0,2=0\n",
            "0,3=0\n",
            "0,4=0\n",
            "1,0=0\n",
            "1,1=0\n",
            "1,2=15\n",
            "1,3=0\n",
            "1,4=0\n",
            "2,0=0\n",
            "2,1=0\n",
            "2,2=0\n",
            "2,3=0\n",
            "2,4=0\n"
          ],
          "name": "stdout"
        }
      ]
    },
    {
      "cell_type": "code",
      "metadata": {
        "colab": {
          "base_uri": "https://localhost:8080/"
        },
        "id": "x6zEUmqUPjmR",
        "outputId": "d5fae05a-deb7-464e-cddc-1b561b9a995e"
      },
      "source": [
        "estados= int (input(\"¿Cuantos estados son?: \"))\n",
        "lluvias_men_est= [ [0 for x in range(12)] for x in range(estados)]\n",
        "print(lluvias_men_est)\n",
        "for i in range(estados):\n",
        "  for j in range(12):\n",
        "    mensaje = \"Dame el valor del estado\"  + str(i+1) + \"del mes\" + str(j+1),\":\" \n",
        "    aux = int(input(mensaje))\n",
        "    lluvias_men_est[i][j] = aux\n",
        "\n",
        "print(lluvias_men_est)\n",
        "\n",
        "print(\"Promedio de lluvias en los estados: \")\n",
        "suma = 0\n",
        "for i in range(estados):\n",
        "  suma = 0 \n",
        "  for j in range(12):\n",
        "    suma = suma + lluvias_men_est[i][j] \n",
        "  print(f\"El promedio de lluvias en el estado {i+1} es {suma/12}\")\n"
      ],
      "execution_count": 21,
      "outputs": [
        {
          "output_type": "stream",
          "text": [
            "¿Cuantos estados son?: 2\n",
            "[[0, 0, 0, 0, 0, 0, 0, 0, 0, 0, 0, 0], [0, 0, 0, 0, 0, 0, 0, 0, 0, 0, 0, 0]]\n",
            "Dame el valor del estado1del mes1,:50\n",
            "Dame el valor del estado1del mes2,:7\n",
            "Dame el valor del estado1del mes3,:12\n",
            "Dame el valor del estado1del mes4,:15\n",
            "Dame el valor del estado1del mes5,:22\n",
            "Dame el valor del estado1del mes6,:50\n",
            "Dame el valor del estado1del mes7,:85\n",
            "Dame el valor del estado1del mes8,:70\n",
            "Dame el valor del estado1del mes9,:65\n",
            "Dame el valor del estado1del mes10,:28\n",
            "Dame el valor del estado1del mes11,:35\n",
            "Dame el valor del estado1del mes12,:17\n",
            "Dame el valor del estado2del mes1,:45\n",
            "Dame el valor del estado2del mes2,:3\n",
            "Dame el valor del estado2del mes3,:10\n",
            "Dame el valor del estado2del mes4,:5\n",
            "Dame el valor del estado2del mes5,:30\n",
            "Dame el valor del estado2del mes6,:90\n",
            "Dame el valor del estado2del mes7,:130\n",
            "Dame el valor del estado2del mes8,:75\n",
            "Dame el valor del estado2del mes9,:49\n",
            "Dame el valor del estado2del mes10,:37\n",
            "Dame el valor del estado2del mes11,:15\n",
            "Dame el valor del estado2del mes12,:8\n",
            "[[50, 7, 12, 15, 22, 50, 85, 70, 65, 28, 35, 17], [45, 3, 10, 5, 30, 90, 130, 75, 49, 37, 15, 8]]\n",
            "Promedio de lluvias en los estados: \n",
            "El promedio de lluvias en el estado 1 es 38.0\n",
            "El promedio de lluvias en el estado 2 es 41.416666666666664\n"
          ],
          "name": "stdout"
        }
      ]
    }
  ]
}