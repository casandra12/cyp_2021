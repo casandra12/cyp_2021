{
  "nbformat": 4,
  "nbformat_minor": 0,
  "metadata": {
    "colab": {
      "name": "tarea_3.ipynb",
      "provenance": [],
      "authorship_tag": "ABX9TyM5qFDST19E5DXjHtY6vdrx",
      "include_colab_link": true
    },
    "kernelspec": {
      "name": "python3",
      "display_name": "Python 3"
    }
  },
  "cells": [
    {
      "cell_type": "markdown",
      "metadata": {
        "id": "view-in-github",
        "colab_type": "text"
      },
      "source": [
        "<a href=\"https://colab.research.google.com/github/casandra12/cyp_2021/blob/main/tarea_3.ipynb\" target=\"_parent\"><img src=\"https://colab.research.google.com/assets/colab-badge.svg\" alt=\"Open In Colab\"/></a>"
      ]
    },
    {
      "cell_type": "code",
      "metadata": {
        "colab": {
          "base_uri": "https://localhost:8080/"
        },
        "id": "z3fsd3_h3VL9",
        "outputId": "46ed2872-dc1c-43aa-93d0-115e1c39a2a2"
      },
      "source": [
        "#Problema 1.1\n",
        "prepago=0\n",
        "pago=0\n",
        "devo=0\n",
        "prepago=float(input(\"ingrese la cantidad:\"))\n",
        "pago=float(input(\"ingrese la cantidad:\"))\n",
        "devo=(pago-prepago)\n",
        "print(devo)"
      ],
      "execution_count": null,
      "outputs": [
        {
          "output_type": "stream",
          "text": [
            "ingrese la cantidad:86.25\n",
            "ingrese la cantidad:100\n",
            "13.75\n"
          ],
          "name": "stdout"
        }
      ]
    },
    {
      "cell_type": "code",
      "metadata": {
        "colab": {
          "base_uri": "https://localhost:8080/"
        },
        "id": "0KFIIFkxEw_u",
        "outputId": "98e9e1f5-5386-426f-fc04-edc1b55f8bf9"
      },
      "source": [
        "#Probelma 1.2 \n",
        "base=0\n",
        "altura=0\n",
        "superficie=0\n",
        "base=float(input(\"indique la base del triángulo:\"))\n",
        "altura=float(input(\"indique la altura del triángulo:\"))\n",
        "superficie=((base*altura)/2)\n",
        "print(superficie)\n"
      ],
      "execution_count": null,
      "outputs": [
        {
          "output_type": "stream",
          "text": [
            "indique la base del triángulo:8.50\n",
            "indique la altura del triángulo:7.20\n",
            "30.6\n"
          ],
          "name": "stdout"
        }
      ]
    },
    {
      "cell_type": "code",
      "metadata": {
        "colab": {
          "base_uri": "https://localhost:8080/"
        },
        "id": "gZf21mBZHmcL",
        "outputId": "40b8bce6-cb78-46e5-9ac9-fea8f1e10b85"
      },
      "source": [
        "#Problema 1.3\n",
        "nombre=0\n",
        "peso=0\n",
        "longitud=0\n",
        "\n",
        "nombre=input(\"dime el nombre del dinosaurio:\")\n",
        "peso=float(input(\"dime el peso del dinosaurio:\"))\n",
        "longitud=float(input(\"dime la longitud del dinosaurio:\"))\n",
        "peso=(peso*1000)\n",
        "longitud=(longitud*0.3047)\n",
        "print(f\"su peso es {peso}\")\n",
        "print(f\"su longitud es {longitud}\")"
      ],
      "execution_count": null,
      "outputs": [
        {
          "output_type": "stream",
          "text": [
            "dime el nombre del dinosaurio:plateosaurus\n",
            "dime el peso del dinosaurio:6\n",
            "dime la longitud del dinosaurio:30\n",
            "su peso es 6000.0\n",
            "su longitud es 9.141\n"
          ],
          "name": "stdout"
        }
      ]
    },
    {
      "cell_type": "code",
      "metadata": {
        "id": "kKRBXWVCL2ks",
        "colab": {
          "base_uri": "https://localhost:8080/"
        },
        "outputId": "f307687e-4225-4427-d019-79f17b2dfee2"
      },
      "source": [
        "#Probelma 1.4\n",
        "Galon=3.785 \n",
        "precio_por_litro=8.2\n",
        "cantidad_adquirida=0\n",
        "total=0\n",
        "cantidad_adquirida=float(input(\"cantidad de galones adquiridos:\"))\n",
        "total=(cantidad_adquirida*Galon*precio_por_litro)\n",
        "print(f\"el total es de {total}\")\n"
      ],
      "execution_count": null,
      "outputs": [
        {
          "output_type": "stream",
          "text": [
            "cantidad de galones adquiridos:9.66\n",
            "el total es de 299.81741999999997\n"
          ],
          "name": "stdout"
        }
      ]
    },
    {
      "cell_type": "code",
      "metadata": {
        "colab": {
          "base_uri": "https://localhost:8080/"
        },
        "id": "-RIF7QkSPhvq",
        "outputId": "1888cf90-1dac-4ff6-a3c4-10441582876b"
      },
      "source": [
        "#Probelma 1.5\n",
        "radio=0\n",
        "altura=0\n",
        "volumen=0\n",
        "area=0\n",
        "pi=3.141592\n",
        "altura=float(input(\"Cual es la altura?:\"))\n",
        "radio=float(input(\"Cual es el radio?:\"))\n",
        "volumen=(pi*(radio**2)*altura)\n",
        "area=(2*pi*radio*altura)\n",
        "print(f\"su volumen es: {volumen}\")\n",
        "print(f\"su area es de: {area}\")"
      ],
      "execution_count": null,
      "outputs": [
        {
          "output_type": "stream",
          "text": [
            "Cual es la altura?:72.40\n",
            "Cual es el radio?:69.30\n",
            "su volumen es: 1092332.405479392\n",
            "su area es de: 31524.744746880006\n"
          ],
          "name": "stdout"
        }
      ]
    },
    {
      "cell_type": "code",
      "metadata": {
        "colab": {
          "base_uri": "https://localhost:8080/"
        },
        "id": "DPJ3_5MFR3fa",
        "outputId": "7aa579ef-3c56-41a3-cafd-1d707e6d00c6"
      },
      "source": [
        "#problema 1.6\n",
        "dias=0\n",
        "segundos=0\n",
        "horas=24\n",
        "minutos=60\n",
        "segundos=60\n",
        "total=0\n",
        "dias=float(input(\"ingrese la cantidad de dias:\"))\n",
        "total=(dias*horas*minutos*segundos)\n",
        "print(f\"la cantidad de segundos es de {total}\")\n"
      ],
      "execution_count": 1,
      "outputs": [
        {
          "output_type": "stream",
          "text": [
            "ingrese la cantidad de dias:15\n",
            "la cantidad de segundos es de 1296000.0\n"
          ],
          "name": "stdout"
        }
      ]
    }
  ]
}