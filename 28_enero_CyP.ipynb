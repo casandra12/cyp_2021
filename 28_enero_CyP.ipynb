{
  "nbformat": 4,
  "nbformat_minor": 0,
  "metadata": {
    "colab": {
      "name": "28_enero_CyP.ipynb",
      "provenance": [],
      "authorship_tag": "ABX9TyO1exhLh91GqNZyWOXYwa4b",
      "include_colab_link": true
    },
    "kernelspec": {
      "name": "python3",
      "display_name": "Python 3"
    }
  },
  "cells": [
    {
      "cell_type": "markdown",
      "metadata": {
        "id": "view-in-github",
        "colab_type": "text"
      },
      "source": [
        "<a href=\"https://colab.research.google.com/github/casandra12/cyp_2021/blob/main/28_enero_CyP.ipynb\" target=\"_parent\"><img src=\"https://colab.research.google.com/assets/colab-badge.svg\" alt=\"Open In Colab\"/></a>"
      ]
    },
    {
      "cell_type": "code",
      "metadata": {
        "id": "jeDhWxEGcwzw"
      },
      "source": [
        ""
      ],
      "execution_count": null,
      "outputs": []
    },
    {
      "cell_type": "markdown",
      "metadata": {
        "id": "MWiU_BULc4NH"
      },
      "source": [
        "Tuplas\n",
        "Tipo de dato lineal, estructura de datos\n",
        "No mutable\n",
        "Puede contener de 0 a n elementos\n",
        "Se declara con '(' y ')'\n",
        "No puedes agregar ni eliminar elementos\n",
        "Pueden ser anidados\n",
        "Los argumentos a una funcion son enviadas como tuplas"
      ]
    },
    {
      "cell_type": "code",
      "metadata": {
        "colab": {
          "base_uri": "https://localhost:8080/"
        },
        "id": "KsunDkrbc-hC",
        "outputId": "e37db4e5-098f-4c86-c044-229d254f769a"
      },
      "source": [
        "frutas= (\"Sandía\", \"Melón\", \"Limón\", \"Mango\", \"Melón\") \n",
        "print(frutas)\n",
        "print(frutas[1:3:1])\n",
        "print(frutas.count(\"Melón\"))\n",
        "\n",
        "#Son inmutables\n",
        "#frutas[1] = \"manzana\"\n",
        "\n",
        "#pa que se usan\n",
        "conexion= ('132.248.12.12', 3306, 'cyp_bd', 'usr_test', '1234dios')\n",
        "print(f\"usuario: {conexion[3]}, password: {conexion[4]}\")"
      ],
      "execution_count": 1,
      "outputs": [
        {
          "output_type": "stream",
          "text": [
            "('Sandía', 'Melón', 'Limón', 'Mango', 'Melón')\n",
            "('Melón', 'Limón')\n",
            "2\n",
            "usuario: usr_test, password: 1234dios\n"
          ],
          "name": "stdout"
        }
      ]
    },
    {
      "cell_type": "markdown",
      "metadata": {
        "id": "VbuIPJXxc7Ng"
      },
      "source": [
        "Diccionario\n",
        "Estructura de datos semilineal\n",
        "Formada por pares, llave - valor\n",
        "Equivalente al tipo de dato JSON, de Javascript\n",
        "Utiliza organizacion por funcion de dispersion\n",
        "Se declara con los elementos '{' y '}'\n",
        "El selector usa valores de tipo string (llave)\n",
        "No se puede seleccionar por offset {1}\n",
        "Son mutables"
      ]
    },
    {
      "cell_type": "code",
      "metadata": {
        "colab": {
          "base_uri": "https://localhost:8080/"
        },
        "id": "wy4-C-J2dNC5",
        "outputId": "a33c048d-e66b-4d16-e386-ab9da34f3fd6"
      },
      "source": [
        "alumno= {'nombre':'Juan Pérez', \n",
        "         'edad': 18, \n",
        "         'numero de cuenta': 321084613, \n",
        "         'grupo':1157, \n",
        "         'numeros':[\"04455456846\", \"55826456\"],\n",
        "         'Materias':[\"Algebra\", \"Computadoras y Programacion\", \"Calculo Diferencial e Integral\", \"Introduccion a la Ingenieria en Computacion\", \"Geometria Analitica\"]\n",
        "}\n",
        "print(alumno)\n",
        "print(f\"celular del alumno {alumno['numeros'][0]}\")"
      ],
      "execution_count": 2,
      "outputs": [
        {
          "output_type": "stream",
          "text": [
            "{'nombre': 'Juan Pérez', 'edad': 18, 'numero de cuenta': 321084613, 'grupo': 1157, 'numeros': ['04455456846', '55826456'], 'Materias': ['Algebra', 'Computadoras y Programacion', 'Calculo Diferencial e Integral', 'Introduccion a la Ingenieria en Computacion', 'Geometria Analitica']}\n",
            "celular del alumno 04455456846\n"
          ],
          "name": "stdout"
        }
      ]
    },
    {
      "cell_type": "code",
      "metadata": {
        "colab": {
          "base_uri": "https://localhost:8080/"
        },
        "id": "qfjkUB1tdVt9",
        "outputId": "fca8097f-a9d0-4f8b-f86b-0e7b1d62b32b"
      },
      "source": [
        "alumno = {    'nombre'  : 'Juan Pérez'  ,\n",
        "          'edad' : 18, \n",
        "          'Matricula': 312193,\n",
        "          'calificaciones' : {'Mate': 8 , 'ciencias': 9, 'ingles': 8 },\n",
        "          'aprovado' : True,\n",
        "          'direccion': {\n",
        "                        'calle':'Rancho seco',\n",
        "                        'numero': 's/n',\n",
        "                        'colonia': 'impulsora popular avicola',\n",
        "                        'municipio': 'Mi-nezota',\n",
        "                        'estado':{\n",
        "                                   'clave':15,\n",
        "                                   'nombre_clave':'MEX',\n",
        "                                   'nombre':\"Estado de México\"\n",
        "                                  }\n",
        "                       }\n",
        "          }\n",
        "\n",
        "print(alumno)\n",
        "print(alumno['nombre'])\n",
        "print(alumno['calificaciones'])\n",
        "# 9 calificacion en ciencias??????\n",
        "print( alumno['calificaciones']['ciencias'])\n",
        "#Nombre, todo en mayusculas\n",
        "print(alumno['nombre'].upper())\n",
        "print(\"------------------------\")\n",
        "print(alumno)\n",
        "alumno['seguro']=True\n",
        "print(alumno)\n",
        "print(alumno)\n",
        "print(\"---------------\")\n",
        "alumno['direccion']['cp'] = 57150\n",
        "print(alumno)"
      ],
      "execution_count": 3,
      "outputs": [
        {
          "output_type": "stream",
          "text": [
            "{'nombre': 'Juan Pérez', 'edad': 18, 'Matricula': 312193, 'calificaciones': {'Mate': 8, 'ciencias': 9, 'ingles': 8}, 'aprovado': True, 'direccion': {'calle': 'Rancho seco', 'numero': 's/n', 'colonia': 'impulsora popular avicola', 'municipio': 'Mi-nezota', 'estado': {'clave': 15, 'nombre_clave': 'MEX', 'nombre': 'Estado de México'}}}\n",
            "Juan Pérez\n",
            "{'Mate': 8, 'ciencias': 9, 'ingles': 8}\n",
            "9\n",
            "JUAN PÉREZ\n",
            "------------------------\n",
            "{'nombre': 'Juan Pérez', 'edad': 18, 'Matricula': 312193, 'calificaciones': {'Mate': 8, 'ciencias': 9, 'ingles': 8}, 'aprovado': True, 'direccion': {'calle': 'Rancho seco', 'numero': 's/n', 'colonia': 'impulsora popular avicola', 'municipio': 'Mi-nezota', 'estado': {'clave': 15, 'nombre_clave': 'MEX', 'nombre': 'Estado de México'}}}\n",
            "{'nombre': 'Juan Pérez', 'edad': 18, 'Matricula': 312193, 'calificaciones': {'Mate': 8, 'ciencias': 9, 'ingles': 8}, 'aprovado': True, 'direccion': {'calle': 'Rancho seco', 'numero': 's/n', 'colonia': 'impulsora popular avicola', 'municipio': 'Mi-nezota', 'estado': {'clave': 15, 'nombre_clave': 'MEX', 'nombre': 'Estado de México'}}, 'seguro': True}\n",
            "{'nombre': 'Juan Pérez', 'edad': 18, 'Matricula': 312193, 'calificaciones': {'Mate': 8, 'ciencias': 9, 'ingles': 8}, 'aprovado': True, 'direccion': {'calle': 'Rancho seco', 'numero': 's/n', 'colonia': 'impulsora popular avicola', 'municipio': 'Mi-nezota', 'estado': {'clave': 15, 'nombre_clave': 'MEX', 'nombre': 'Estado de México'}}, 'seguro': True}\n",
            "---------------\n",
            "{'nombre': 'Juan Pérez', 'edad': 18, 'Matricula': 312193, 'calificaciones': {'Mate': 8, 'ciencias': 9, 'ingles': 8}, 'aprovado': True, 'direccion': {'calle': 'Rancho seco', 'numero': 's/n', 'colonia': 'impulsora popular avicola', 'municipio': 'Mi-nezota', 'estado': {'clave': 15, 'nombre_clave': 'MEX', 'nombre': 'Estado de México'}, 'cp': 57150}, 'seguro': True}\n"
          ],
          "name": "stdout"
        }
      ]
    },
    {
      "cell_type": "code",
      "metadata": {
        "colab": {
          "base_uri": "https://localhost:8080/"
        },
        "id": "YlHzSqgfddkK",
        "outputId": "8840eb1f-5b98-4ad5-984b-669b5ca10992"
      },
      "source": [
        "alumno = { 'nombre' : 'Juan Pérez' , 'edad' : 18}\n",
        "print( alumno )\n",
        "print( alumno['nombre'] )\n",
        "\n",
        "list_al = [\"Luis\" , \"Eduardo\" , \"Arturo\"]\n",
        "list_ed = [ \"18\" ,\"23\",\"20\"]\n",
        "es = ('aprovado', 'reprovado')\n",
        "\n",
        "\n",
        "print(f\"alumno: {list_al[0]} edad: {list_ed [0]} \\n estado en la matria: {es [0]}\")\n",
        "print(f\"alumno: {list_al[1]} edad: {list_ed [1]} \\n estado en la matria: {es [1]}\")\n",
        "print(f\"alumno: {list_al[2]} edad: {list_ed [2]} \\n estado en la matria: {es [0]}\")"
      ],
      "execution_count": 4,
      "outputs": [
        {
          "output_type": "stream",
          "text": [
            "{'nombre': 'Juan Pérez', 'edad': 18}\n",
            "Juan Pérez\n",
            "alumno: Luis edad: 18 \n",
            " estado en la matria: aprovado\n",
            "alumno: Eduardo edad: 23 \n",
            " estado en la matria: reprovado\n",
            "alumno: Arturo edad: 20 \n",
            " estado en la matria: aprovado\n"
          ],
          "name": "stdout"
        }
      ]
    },
    {
      "cell_type": "code",
      "metadata": {
        "colab": {
          "base_uri": "https://localhost:8080/"
        },
        "id": "tnDCXt2ZdiAi",
        "outputId": "998dc64a-f48e-482c-e47d-fbafd247cbcb"
      },
      "source": [
        "#Juan Miguel\n",
        "\n",
        "alumno = {'nombre':'Juan Pérez','edad':18,'altura':1.71,'estatus':'Aprobado','numeros':[555645902, 55326372]}\n",
        "print(alumno)\n",
        "print( alumno ['numeros'])\n"
      ],
      "execution_count": 5,
      "outputs": [
        {
          "output_type": "stream",
          "text": [
            "{'nombre': 'Juan Pérez', 'edad': 18, 'altura': 1.71, 'estatus': 'Aprobado', 'numeros': [555645902, 55326372]}\n",
            "[555645902, 55326372]\n"
          ],
          "name": "stdout"
        }
      ]
    },
    {
      "cell_type": "code",
      "metadata": {
        "colab": {
          "base_uri": "https://localhost:8080/"
        },
        "id": "TeJtx0hTdlz0",
        "outputId": "f645c159-f384-4eeb-e9eb-401682af4fce"
      },
      "source": [
        "\n",
        "materia = [\"Algebra\", \"Computadoras y Programacion\", \"Calculo Diferencial e Integral\", \"Introduccion a la Ingenieria\", \"Geometria Analitica\"]\n",
        "alumno = {\"ID\" : (123456789), \"Nombre\" : \"Yael\", \"Apellido\" : \"Castillo\", \"Edad\" : 20, \"Escuela\" : \"FES Aragon\", \"Materia\" : materia}\n",
        "for i in alumno:\n",
        "    print(f\"Clave: {i} - Valor: {alumno[i]}\")"
      ],
      "execution_count": 6,
      "outputs": [
        {
          "output_type": "stream",
          "text": [
            "Clave: ID - Valor: 123456789\n",
            "Clave: Nombre - Valor: Yael\n",
            "Clave: Apellido - Valor: Castillo\n",
            "Clave: Edad - Valor: 20\n",
            "Clave: Escuela - Valor: FES Aragon\n",
            "Clave: Materia - Valor: ['Algebra', 'Computadoras y Programacion', 'Calculo Diferencial e Integral', 'Introduccion a la Ingenieria', 'Geometria Analitica']\n"
          ],
          "name": "stdout"
        }
      ]
    },
    {
      "cell_type": "code",
      "metadata": {
        "colab": {
          "base_uri": "https://localhost:8080/"
        },
        "id": "nlqtml5adrLP",
        "outputId": "b239d369-aaad-478c-b694-2c45d1dadfd6"
      },
      "source": [
        "\n",
        "funciones = dir( dict )\n",
        "for funcion in funciones:\n",
        "  print (funciones)"
      ],
      "execution_count": 7,
      "outputs": [
        {
          "output_type": "stream",
          "text": [
            "['__class__', '__contains__', '__delattr__', '__delitem__', '__dir__', '__doc__', '__eq__', '__format__', '__ge__', '__getattribute__', '__getitem__', '__gt__', '__hash__', '__init__', '__init_subclass__', '__iter__', '__le__', '__len__', '__lt__', '__ne__', '__new__', '__reduce__', '__reduce_ex__', '__repr__', '__setattr__', '__setitem__', '__sizeof__', '__str__', '__subclasshook__', 'clear', 'copy', 'fromkeys', 'get', 'items', 'keys', 'pop', 'popitem', 'setdefault', 'update', 'values']\n",
            "['__class__', '__contains__', '__delattr__', '__delitem__', '__dir__', '__doc__', '__eq__', '__format__', '__ge__', '__getattribute__', '__getitem__', '__gt__', '__hash__', '__init__', '__init_subclass__', '__iter__', '__le__', '__len__', '__lt__', '__ne__', '__new__', '__reduce__', '__reduce_ex__', '__repr__', '__setattr__', '__setitem__', '__sizeof__', '__str__', '__subclasshook__', 'clear', 'copy', 'fromkeys', 'get', 'items', 'keys', 'pop', 'popitem', 'setdefault', 'update', 'values']\n",
            "['__class__', '__contains__', '__delattr__', '__delitem__', '__dir__', '__doc__', '__eq__', '__format__', '__ge__', '__getattribute__', '__getitem__', '__gt__', '__hash__', '__init__', '__init_subclass__', '__iter__', '__le__', '__len__', '__lt__', '__ne__', '__new__', '__reduce__', '__reduce_ex__', '__repr__', '__setattr__', '__setitem__', '__sizeof__', '__str__', '__subclasshook__', 'clear', 'copy', 'fromkeys', 'get', 'items', 'keys', 'pop', 'popitem', 'setdefault', 'update', 'values']\n",
            "['__class__', '__contains__', '__delattr__', '__delitem__', '__dir__', '__doc__', '__eq__', '__format__', '__ge__', '__getattribute__', '__getitem__', '__gt__', '__hash__', '__init__', '__init_subclass__', '__iter__', '__le__', '__len__', '__lt__', '__ne__', '__new__', '__reduce__', '__reduce_ex__', '__repr__', '__setattr__', '__setitem__', '__sizeof__', '__str__', '__subclasshook__', 'clear', 'copy', 'fromkeys', 'get', 'items', 'keys', 'pop', 'popitem', 'setdefault', 'update', 'values']\n",
            "['__class__', '__contains__', '__delattr__', '__delitem__', '__dir__', '__doc__', '__eq__', '__format__', '__ge__', '__getattribute__', '__getitem__', '__gt__', '__hash__', '__init__', '__init_subclass__', '__iter__', '__le__', '__len__', '__lt__', '__ne__', '__new__', '__reduce__', '__reduce_ex__', '__repr__', '__setattr__', '__setitem__', '__sizeof__', '__str__', '__subclasshook__', 'clear', 'copy', 'fromkeys', 'get', 'items', 'keys', 'pop', 'popitem', 'setdefault', 'update', 'values']\n",
            "['__class__', '__contains__', '__delattr__', '__delitem__', '__dir__', '__doc__', '__eq__', '__format__', '__ge__', '__getattribute__', '__getitem__', '__gt__', '__hash__', '__init__', '__init_subclass__', '__iter__', '__le__', '__len__', '__lt__', '__ne__', '__new__', '__reduce__', '__reduce_ex__', '__repr__', '__setattr__', '__setitem__', '__sizeof__', '__str__', '__subclasshook__', 'clear', 'copy', 'fromkeys', 'get', 'items', 'keys', 'pop', 'popitem', 'setdefault', 'update', 'values']\n",
            "['__class__', '__contains__', '__delattr__', '__delitem__', '__dir__', '__doc__', '__eq__', '__format__', '__ge__', '__getattribute__', '__getitem__', '__gt__', '__hash__', '__init__', '__init_subclass__', '__iter__', '__le__', '__len__', '__lt__', '__ne__', '__new__', '__reduce__', '__reduce_ex__', '__repr__', '__setattr__', '__setitem__', '__sizeof__', '__str__', '__subclasshook__', 'clear', 'copy', 'fromkeys', 'get', 'items', 'keys', 'pop', 'popitem', 'setdefault', 'update', 'values']\n",
            "['__class__', '__contains__', '__delattr__', '__delitem__', '__dir__', '__doc__', '__eq__', '__format__', '__ge__', '__getattribute__', '__getitem__', '__gt__', '__hash__', '__init__', '__init_subclass__', '__iter__', '__le__', '__len__', '__lt__', '__ne__', '__new__', '__reduce__', '__reduce_ex__', '__repr__', '__setattr__', '__setitem__', '__sizeof__', '__str__', '__subclasshook__', 'clear', 'copy', 'fromkeys', 'get', 'items', 'keys', 'pop', 'popitem', 'setdefault', 'update', 'values']\n",
            "['__class__', '__contains__', '__delattr__', '__delitem__', '__dir__', '__doc__', '__eq__', '__format__', '__ge__', '__getattribute__', '__getitem__', '__gt__', '__hash__', '__init__', '__init_subclass__', '__iter__', '__le__', '__len__', '__lt__', '__ne__', '__new__', '__reduce__', '__reduce_ex__', '__repr__', '__setattr__', '__setitem__', '__sizeof__', '__str__', '__subclasshook__', 'clear', 'copy', 'fromkeys', 'get', 'items', 'keys', 'pop', 'popitem', 'setdefault', 'update', 'values']\n",
            "['__class__', '__contains__', '__delattr__', '__delitem__', '__dir__', '__doc__', '__eq__', '__format__', '__ge__', '__getattribute__', '__getitem__', '__gt__', '__hash__', '__init__', '__init_subclass__', '__iter__', '__le__', '__len__', '__lt__', '__ne__', '__new__', '__reduce__', '__reduce_ex__', '__repr__', '__setattr__', '__setitem__', '__sizeof__', '__str__', '__subclasshook__', 'clear', 'copy', 'fromkeys', 'get', 'items', 'keys', 'pop', 'popitem', 'setdefault', 'update', 'values']\n",
            "['__class__', '__contains__', '__delattr__', '__delitem__', '__dir__', '__doc__', '__eq__', '__format__', '__ge__', '__getattribute__', '__getitem__', '__gt__', '__hash__', '__init__', '__init_subclass__', '__iter__', '__le__', '__len__', '__lt__', '__ne__', '__new__', '__reduce__', '__reduce_ex__', '__repr__', '__setattr__', '__setitem__', '__sizeof__', '__str__', '__subclasshook__', 'clear', 'copy', 'fromkeys', 'get', 'items', 'keys', 'pop', 'popitem', 'setdefault', 'update', 'values']\n",
            "['__class__', '__contains__', '__delattr__', '__delitem__', '__dir__', '__doc__', '__eq__', '__format__', '__ge__', '__getattribute__', '__getitem__', '__gt__', '__hash__', '__init__', '__init_subclass__', '__iter__', '__le__', '__len__', '__lt__', '__ne__', '__new__', '__reduce__', '__reduce_ex__', '__repr__', '__setattr__', '__setitem__', '__sizeof__', '__str__', '__subclasshook__', 'clear', 'copy', 'fromkeys', 'get', 'items', 'keys', 'pop', 'popitem', 'setdefault', 'update', 'values']\n",
            "['__class__', '__contains__', '__delattr__', '__delitem__', '__dir__', '__doc__', '__eq__', '__format__', '__ge__', '__getattribute__', '__getitem__', '__gt__', '__hash__', '__init__', '__init_subclass__', '__iter__', '__le__', '__len__', '__lt__', '__ne__', '__new__', '__reduce__', '__reduce_ex__', '__repr__', '__setattr__', '__setitem__', '__sizeof__', '__str__', '__subclasshook__', 'clear', 'copy', 'fromkeys', 'get', 'items', 'keys', 'pop', 'popitem', 'setdefault', 'update', 'values']\n",
            "['__class__', '__contains__', '__delattr__', '__delitem__', '__dir__', '__doc__', '__eq__', '__format__', '__ge__', '__getattribute__', '__getitem__', '__gt__', '__hash__', '__init__', '__init_subclass__', '__iter__', '__le__', '__len__', '__lt__', '__ne__', '__new__', '__reduce__', '__reduce_ex__', '__repr__', '__setattr__', '__setitem__', '__sizeof__', '__str__', '__subclasshook__', 'clear', 'copy', 'fromkeys', 'get', 'items', 'keys', 'pop', 'popitem', 'setdefault', 'update', 'values']\n",
            "['__class__', '__contains__', '__delattr__', '__delitem__', '__dir__', '__doc__', '__eq__', '__format__', '__ge__', '__getattribute__', '__getitem__', '__gt__', '__hash__', '__init__', '__init_subclass__', '__iter__', '__le__', '__len__', '__lt__', '__ne__', '__new__', '__reduce__', '__reduce_ex__', '__repr__', '__setattr__', '__setitem__', '__sizeof__', '__str__', '__subclasshook__', 'clear', 'copy', 'fromkeys', 'get', 'items', 'keys', 'pop', 'popitem', 'setdefault', 'update', 'values']\n",
            "['__class__', '__contains__', '__delattr__', '__delitem__', '__dir__', '__doc__', '__eq__', '__format__', '__ge__', '__getattribute__', '__getitem__', '__gt__', '__hash__', '__init__', '__init_subclass__', '__iter__', '__le__', '__len__', '__lt__', '__ne__', '__new__', '__reduce__', '__reduce_ex__', '__repr__', '__setattr__', '__setitem__', '__sizeof__', '__str__', '__subclasshook__', 'clear', 'copy', 'fromkeys', 'get', 'items', 'keys', 'pop', 'popitem', 'setdefault', 'update', 'values']\n",
            "['__class__', '__contains__', '__delattr__', '__delitem__', '__dir__', '__doc__', '__eq__', '__format__', '__ge__', '__getattribute__', '__getitem__', '__gt__', '__hash__', '__init__', '__init_subclass__', '__iter__', '__le__', '__len__', '__lt__', '__ne__', '__new__', '__reduce__', '__reduce_ex__', '__repr__', '__setattr__', '__setitem__', '__sizeof__', '__str__', '__subclasshook__', 'clear', 'copy', 'fromkeys', 'get', 'items', 'keys', 'pop', 'popitem', 'setdefault', 'update', 'values']\n",
            "['__class__', '__contains__', '__delattr__', '__delitem__', '__dir__', '__doc__', '__eq__', '__format__', '__ge__', '__getattribute__', '__getitem__', '__gt__', '__hash__', '__init__', '__init_subclass__', '__iter__', '__le__', '__len__', '__lt__', '__ne__', '__new__', '__reduce__', '__reduce_ex__', '__repr__', '__setattr__', '__setitem__', '__sizeof__', '__str__', '__subclasshook__', 'clear', 'copy', 'fromkeys', 'get', 'items', 'keys', 'pop', 'popitem', 'setdefault', 'update', 'values']\n",
            "['__class__', '__contains__', '__delattr__', '__delitem__', '__dir__', '__doc__', '__eq__', '__format__', '__ge__', '__getattribute__', '__getitem__', '__gt__', '__hash__', '__init__', '__init_subclass__', '__iter__', '__le__', '__len__', '__lt__', '__ne__', '__new__', '__reduce__', '__reduce_ex__', '__repr__', '__setattr__', '__setitem__', '__sizeof__', '__str__', '__subclasshook__', 'clear', 'copy', 'fromkeys', 'get', 'items', 'keys', 'pop', 'popitem', 'setdefault', 'update', 'values']\n",
            "['__class__', '__contains__', '__delattr__', '__delitem__', '__dir__', '__doc__', '__eq__', '__format__', '__ge__', '__getattribute__', '__getitem__', '__gt__', '__hash__', '__init__', '__init_subclass__', '__iter__', '__le__', '__len__', '__lt__', '__ne__', '__new__', '__reduce__', '__reduce_ex__', '__repr__', '__setattr__', '__setitem__', '__sizeof__', '__str__', '__subclasshook__', 'clear', 'copy', 'fromkeys', 'get', 'items', 'keys', 'pop', 'popitem', 'setdefault', 'update', 'values']\n",
            "['__class__', '__contains__', '__delattr__', '__delitem__', '__dir__', '__doc__', '__eq__', '__format__', '__ge__', '__getattribute__', '__getitem__', '__gt__', '__hash__', '__init__', '__init_subclass__', '__iter__', '__le__', '__len__', '__lt__', '__ne__', '__new__', '__reduce__', '__reduce_ex__', '__repr__', '__setattr__', '__setitem__', '__sizeof__', '__str__', '__subclasshook__', 'clear', 'copy', 'fromkeys', 'get', 'items', 'keys', 'pop', 'popitem', 'setdefault', 'update', 'values']\n",
            "['__class__', '__contains__', '__delattr__', '__delitem__', '__dir__', '__doc__', '__eq__', '__format__', '__ge__', '__getattribute__', '__getitem__', '__gt__', '__hash__', '__init__', '__init_subclass__', '__iter__', '__le__', '__len__', '__lt__', '__ne__', '__new__', '__reduce__', '__reduce_ex__', '__repr__', '__setattr__', '__setitem__', '__sizeof__', '__str__', '__subclasshook__', 'clear', 'copy', 'fromkeys', 'get', 'items', 'keys', 'pop', 'popitem', 'setdefault', 'update', 'values']\n",
            "['__class__', '__contains__', '__delattr__', '__delitem__', '__dir__', '__doc__', '__eq__', '__format__', '__ge__', '__getattribute__', '__getitem__', '__gt__', '__hash__', '__init__', '__init_subclass__', '__iter__', '__le__', '__len__', '__lt__', '__ne__', '__new__', '__reduce__', '__reduce_ex__', '__repr__', '__setattr__', '__setitem__', '__sizeof__', '__str__', '__subclasshook__', 'clear', 'copy', 'fromkeys', 'get', 'items', 'keys', 'pop', 'popitem', 'setdefault', 'update', 'values']\n",
            "['__class__', '__contains__', '__delattr__', '__delitem__', '__dir__', '__doc__', '__eq__', '__format__', '__ge__', '__getattribute__', '__getitem__', '__gt__', '__hash__', '__init__', '__init_subclass__', '__iter__', '__le__', '__len__', '__lt__', '__ne__', '__new__', '__reduce__', '__reduce_ex__', '__repr__', '__setattr__', '__setitem__', '__sizeof__', '__str__', '__subclasshook__', 'clear', 'copy', 'fromkeys', 'get', 'items', 'keys', 'pop', 'popitem', 'setdefault', 'update', 'values']\n",
            "['__class__', '__contains__', '__delattr__', '__delitem__', '__dir__', '__doc__', '__eq__', '__format__', '__ge__', '__getattribute__', '__getitem__', '__gt__', '__hash__', '__init__', '__init_subclass__', '__iter__', '__le__', '__len__', '__lt__', '__ne__', '__new__', '__reduce__', '__reduce_ex__', '__repr__', '__setattr__', '__setitem__', '__sizeof__', '__str__', '__subclasshook__', 'clear', 'copy', 'fromkeys', 'get', 'items', 'keys', 'pop', 'popitem', 'setdefault', 'update', 'values']\n",
            "['__class__', '__contains__', '__delattr__', '__delitem__', '__dir__', '__doc__', '__eq__', '__format__', '__ge__', '__getattribute__', '__getitem__', '__gt__', '__hash__', '__init__', '__init_subclass__', '__iter__', '__le__', '__len__', '__lt__', '__ne__', '__new__', '__reduce__', '__reduce_ex__', '__repr__', '__setattr__', '__setitem__', '__sizeof__', '__str__', '__subclasshook__', 'clear', 'copy', 'fromkeys', 'get', 'items', 'keys', 'pop', 'popitem', 'setdefault', 'update', 'values']\n",
            "['__class__', '__contains__', '__delattr__', '__delitem__', '__dir__', '__doc__', '__eq__', '__format__', '__ge__', '__getattribute__', '__getitem__', '__gt__', '__hash__', '__init__', '__init_subclass__', '__iter__', '__le__', '__len__', '__lt__', '__ne__', '__new__', '__reduce__', '__reduce_ex__', '__repr__', '__setattr__', '__setitem__', '__sizeof__', '__str__', '__subclasshook__', 'clear', 'copy', 'fromkeys', 'get', 'items', 'keys', 'pop', 'popitem', 'setdefault', 'update', 'values']\n",
            "['__class__', '__contains__', '__delattr__', '__delitem__', '__dir__', '__doc__', '__eq__', '__format__', '__ge__', '__getattribute__', '__getitem__', '__gt__', '__hash__', '__init__', '__init_subclass__', '__iter__', '__le__', '__len__', '__lt__', '__ne__', '__new__', '__reduce__', '__reduce_ex__', '__repr__', '__setattr__', '__setitem__', '__sizeof__', '__str__', '__subclasshook__', 'clear', 'copy', 'fromkeys', 'get', 'items', 'keys', 'pop', 'popitem', 'setdefault', 'update', 'values']\n",
            "['__class__', '__contains__', '__delattr__', '__delitem__', '__dir__', '__doc__', '__eq__', '__format__', '__ge__', '__getattribute__', '__getitem__', '__gt__', '__hash__', '__init__', '__init_subclass__', '__iter__', '__le__', '__len__', '__lt__', '__ne__', '__new__', '__reduce__', '__reduce_ex__', '__repr__', '__setattr__', '__setitem__', '__sizeof__', '__str__', '__subclasshook__', 'clear', 'copy', 'fromkeys', 'get', 'items', 'keys', 'pop', 'popitem', 'setdefault', 'update', 'values']\n",
            "['__class__', '__contains__', '__delattr__', '__delitem__', '__dir__', '__doc__', '__eq__', '__format__', '__ge__', '__getattribute__', '__getitem__', '__gt__', '__hash__', '__init__', '__init_subclass__', '__iter__', '__le__', '__len__', '__lt__', '__ne__', '__new__', '__reduce__', '__reduce_ex__', '__repr__', '__setattr__', '__setitem__', '__sizeof__', '__str__', '__subclasshook__', 'clear', 'copy', 'fromkeys', 'get', 'items', 'keys', 'pop', 'popitem', 'setdefault', 'update', 'values']\n",
            "['__class__', '__contains__', '__delattr__', '__delitem__', '__dir__', '__doc__', '__eq__', '__format__', '__ge__', '__getattribute__', '__getitem__', '__gt__', '__hash__', '__init__', '__init_subclass__', '__iter__', '__le__', '__len__', '__lt__', '__ne__', '__new__', '__reduce__', '__reduce_ex__', '__repr__', '__setattr__', '__setitem__', '__sizeof__', '__str__', '__subclasshook__', 'clear', 'copy', 'fromkeys', 'get', 'items', 'keys', 'pop', 'popitem', 'setdefault', 'update', 'values']\n",
            "['__class__', '__contains__', '__delattr__', '__delitem__', '__dir__', '__doc__', '__eq__', '__format__', '__ge__', '__getattribute__', '__getitem__', '__gt__', '__hash__', '__init__', '__init_subclass__', '__iter__', '__le__', '__len__', '__lt__', '__ne__', '__new__', '__reduce__', '__reduce_ex__', '__repr__', '__setattr__', '__setitem__', '__sizeof__', '__str__', '__subclasshook__', 'clear', 'copy', 'fromkeys', 'get', 'items', 'keys', 'pop', 'popitem', 'setdefault', 'update', 'values']\n",
            "['__class__', '__contains__', '__delattr__', '__delitem__', '__dir__', '__doc__', '__eq__', '__format__', '__ge__', '__getattribute__', '__getitem__', '__gt__', '__hash__', '__init__', '__init_subclass__', '__iter__', '__le__', '__len__', '__lt__', '__ne__', '__new__', '__reduce__', '__reduce_ex__', '__repr__', '__setattr__', '__setitem__', '__sizeof__', '__str__', '__subclasshook__', 'clear', 'copy', 'fromkeys', 'get', 'items', 'keys', 'pop', 'popitem', 'setdefault', 'update', 'values']\n",
            "['__class__', '__contains__', '__delattr__', '__delitem__', '__dir__', '__doc__', '__eq__', '__format__', '__ge__', '__getattribute__', '__getitem__', '__gt__', '__hash__', '__init__', '__init_subclass__', '__iter__', '__le__', '__len__', '__lt__', '__ne__', '__new__', '__reduce__', '__reduce_ex__', '__repr__', '__setattr__', '__setitem__', '__sizeof__', '__str__', '__subclasshook__', 'clear', 'copy', 'fromkeys', 'get', 'items', 'keys', 'pop', 'popitem', 'setdefault', 'update', 'values']\n",
            "['__class__', '__contains__', '__delattr__', '__delitem__', '__dir__', '__doc__', '__eq__', '__format__', '__ge__', '__getattribute__', '__getitem__', '__gt__', '__hash__', '__init__', '__init_subclass__', '__iter__', '__le__', '__len__', '__lt__', '__ne__', '__new__', '__reduce__', '__reduce_ex__', '__repr__', '__setattr__', '__setitem__', '__sizeof__', '__str__', '__subclasshook__', 'clear', 'copy', 'fromkeys', 'get', 'items', 'keys', 'pop', 'popitem', 'setdefault', 'update', 'values']\n",
            "['__class__', '__contains__', '__delattr__', '__delitem__', '__dir__', '__doc__', '__eq__', '__format__', '__ge__', '__getattribute__', '__getitem__', '__gt__', '__hash__', '__init__', '__init_subclass__', '__iter__', '__le__', '__len__', '__lt__', '__ne__', '__new__', '__reduce__', '__reduce_ex__', '__repr__', '__setattr__', '__setitem__', '__sizeof__', '__str__', '__subclasshook__', 'clear', 'copy', 'fromkeys', 'get', 'items', 'keys', 'pop', 'popitem', 'setdefault', 'update', 'values']\n",
            "['__class__', '__contains__', '__delattr__', '__delitem__', '__dir__', '__doc__', '__eq__', '__format__', '__ge__', '__getattribute__', '__getitem__', '__gt__', '__hash__', '__init__', '__init_subclass__', '__iter__', '__le__', '__len__', '__lt__', '__ne__', '__new__', '__reduce__', '__reduce_ex__', '__repr__', '__setattr__', '__setitem__', '__sizeof__', '__str__', '__subclasshook__', 'clear', 'copy', 'fromkeys', 'get', 'items', 'keys', 'pop', 'popitem', 'setdefault', 'update', 'values']\n",
            "['__class__', '__contains__', '__delattr__', '__delitem__', '__dir__', '__doc__', '__eq__', '__format__', '__ge__', '__getattribute__', '__getitem__', '__gt__', '__hash__', '__init__', '__init_subclass__', '__iter__', '__le__', '__len__', '__lt__', '__ne__', '__new__', '__reduce__', '__reduce_ex__', '__repr__', '__setattr__', '__setitem__', '__sizeof__', '__str__', '__subclasshook__', 'clear', 'copy', 'fromkeys', 'get', 'items', 'keys', 'pop', 'popitem', 'setdefault', 'update', 'values']\n",
            "['__class__', '__contains__', '__delattr__', '__delitem__', '__dir__', '__doc__', '__eq__', '__format__', '__ge__', '__getattribute__', '__getitem__', '__gt__', '__hash__', '__init__', '__init_subclass__', '__iter__', '__le__', '__len__', '__lt__', '__ne__', '__new__', '__reduce__', '__reduce_ex__', '__repr__', '__setattr__', '__setitem__', '__sizeof__', '__str__', '__subclasshook__', 'clear', 'copy', 'fromkeys', 'get', 'items', 'keys', 'pop', 'popitem', 'setdefault', 'update', 'values']\n",
            "['__class__', '__contains__', '__delattr__', '__delitem__', '__dir__', '__doc__', '__eq__', '__format__', '__ge__', '__getattribute__', '__getitem__', '__gt__', '__hash__', '__init__', '__init_subclass__', '__iter__', '__le__', '__len__', '__lt__', '__ne__', '__new__', '__reduce__', '__reduce_ex__', '__repr__', '__setattr__', '__setitem__', '__sizeof__', '__str__', '__subclasshook__', 'clear', 'copy', 'fromkeys', 'get', 'items', 'keys', 'pop', 'popitem', 'setdefault', 'update', 'values']\n"
          ],
          "name": "stdout"
        }
      ]
    },
    {
      "cell_type": "markdown",
      "metadata": {
        "id": "83V7VJiHdRWU"
      },
      "source": [
        "Manipulacion de los pares llave valor\n",
        "key() te regresa una tupla con los strings llave del diccionario\n",
        "values() te regresa solo valores\n",
        "items() te regresa los pares"
      ]
    },
    {
      "cell_type": "code",
      "metadata": {
        "colab": {
          "base_uri": "https://localhost:8080/"
        },
        "id": "dHnwT2dYdwFb",
        "outputId": "dd8a6fcf-ef19-41a3-b933-996d6fc7d9bf"
      },
      "source": [
        "llaves = alumno.keys()\n",
        "print(llaves)\n",
        "for elemento in llaves:\n",
        "  print(elemento)\n",
        "  print(alumno[elemento])\n",
        "#print(help(llaves))\n",
        "\n",
        "#manipular los valores\n",
        "valores=  alumno.values()\n",
        "print(valores)\n",
        "for val in valores:\n",
        "  print(val)\n",
        "\n",
        "#manipular pares\n",
        "pares= alumno.items()\n",
        "print(pares)\n",
        "for par in pares:\n",
        "  print(par)"
      ],
      "execution_count": 8,
      "outputs": [
        {
          "output_type": "stream",
          "text": [
            "dict_keys(['ID', 'Nombre', 'Apellido', 'Edad', 'Escuela', 'Materia'])\n",
            "ID\n",
            "123456789\n",
            "Nombre\n",
            "Yael\n",
            "Apellido\n",
            "Castillo\n",
            "Edad\n",
            "20\n",
            "Escuela\n",
            "FES Aragon\n",
            "Materia\n",
            "['Algebra', 'Computadoras y Programacion', 'Calculo Diferencial e Integral', 'Introduccion a la Ingenieria', 'Geometria Analitica']\n",
            "dict_values([123456789, 'Yael', 'Castillo', 20, 'FES Aragon', ['Algebra', 'Computadoras y Programacion', 'Calculo Diferencial e Integral', 'Introduccion a la Ingenieria', 'Geometria Analitica']])\n",
            "123456789\n",
            "Yael\n",
            "Castillo\n",
            "20\n",
            "FES Aragon\n",
            "['Algebra', 'Computadoras y Programacion', 'Calculo Diferencial e Integral', 'Introduccion a la Ingenieria', 'Geometria Analitica']\n",
            "dict_items([('ID', 123456789), ('Nombre', 'Yael'), ('Apellido', 'Castillo'), ('Edad', 20), ('Escuela', 'FES Aragon'), ('Materia', ['Algebra', 'Computadoras y Programacion', 'Calculo Diferencial e Integral', 'Introduccion a la Ingenieria', 'Geometria Analitica'])])\n",
            "('ID', 123456789)\n",
            "('Nombre', 'Yael')\n",
            "('Apellido', 'Castillo')\n",
            "('Edad', 20)\n",
            "('Escuela', 'FES Aragon')\n",
            "('Materia', ['Algebra', 'Computadoras y Programacion', 'Calculo Diferencial e Integral', 'Introduccion a la Ingenieria', 'Geometria Analitica'])\n"
          ],
          "name": "stdout"
        }
      ]
    },
    {
      "cell_type": "code",
      "metadata": {
        "id": "80BFKt9Fd0PV"
      },
      "source": [
        "print(help(dict.keys))"
      ],
      "execution_count": null,
      "outputs": []
    }
  ]
}