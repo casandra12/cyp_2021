{
  "nbformat": 4,
  "nbformat_minor": 0,
  "metadata": {
    "colab": {
      "name": "03_dic_2020.ipynb",
      "provenance": [],
      "authorship_tag": "ABX9TyMWwtRXIPCl36O5eNx34zQW",
      "include_colab_link": true
    },
    "kernelspec": {
      "name": "python3",
      "display_name": "Python 3"
    }
  },
  "cells": [
    {
      "cell_type": "markdown",
      "metadata": {
        "id": "view-in-github",
        "colab_type": "text"
      },
      "source": [
        "<a href=\"https://colab.research.google.com/github/casandra12/cyp_2021/blob/main/03_dic_2020.ipynb\" target=\"_parent\"><img src=\"https://colab.research.google.com/assets/colab-badge.svg\" alt=\"Open In Colab\"/></a>"
      ]
    },
    {
      "cell_type": "code",
      "metadata": {
        "colab": {
          "base_uri": "https://localhost:8080/"
        },
        "id": "oqjenQq7lDhR",
        "outputId": "bcfa98b5-398c-4f15-8563-b7ce7b325fc0"
      },
      "source": [
        "#ejemplo 1\n",
        "for i in[1,2,3,4,5]:\n",
        "  print(f\"el elemnteto:{i}\")"
      ],
      "execution_count": 1,
      "outputs": [
        {
          "output_type": "stream",
          "text": [
            "el elemnteto:1\n",
            "el elemnteto:2\n",
            "el elemnteto:3\n",
            "el elemnteto:4\n",
            "el elemnteto:5\n"
          ],
          "name": "stdout"
        }
      ]
    },
    {
      "cell_type": "code",
      "metadata": {
        "colab": {
          "base_uri": "https://localhost:8080/"
        },
        "id": "V14h66z2nQMQ",
        "outputId": "6cf5c7c9-db9e-4204-edd8-0c6fe78bb286"
      },
      "source": [
        "coleccion=[1,2,3,4,5]\n",
        "for i in coleccion:\n",
        "  print(f\"el elemnteto:{i}\")"
      ],
      "execution_count": 2,
      "outputs": [
        {
          "output_type": "stream",
          "text": [
            "el elemnteto:1\n",
            "el elemnteto:2\n",
            "el elemnteto:3\n",
            "el elemnteto:4\n",
            "el elemnteto:5\n"
          ],
          "name": "stdout"
        }
      ]
    },
    {
      "cell_type": "code",
      "metadata": {
        "colab": {
          "base_uri": "https://localhost:8080/"
        },
        "id": "Bkby6Ry8n7ky",
        "outputId": "989a550f-2110-46b7-8bb9-24bdc98882fa"
      },
      "source": [
        "#ejemplo 2\n",
        "coleccion={\"mario\":20, \"mariana\":19, \"yesica\":14,\"luis\":18}\n",
        "for i in coleccion:\n",
        "  print(f\"elemento:{i}\")\n"
      ],
      "execution_count": 5,
      "outputs": [
        {
          "output_type": "stream",
          "text": [
            "elemento:mario\n",
            "elemento:mariana\n",
            "elemento:yesica\n",
            "elemento:luis\n"
          ],
          "name": "stdout"
        }
      ]
    },
    {
      "cell_type": "code",
      "metadata": {
        "colab": {
          "base_uri": "https://localhost:8080/"
        },
        "id": "0ga3P6zApUCu",
        "outputId": "a1af2d3a-2df4-48b5-8375-f4c9efbd0230"
      },
      "source": [
        "\n",
        "coleccion={\"mario\":20, \"mariana\":19, \"yesica\":14,\"luis\":18}\n",
        "for i in coleccion:\n",
        "  print(f\"{coleccion[i]}\")\n"
      ],
      "execution_count": 8,
      "outputs": [
        {
          "output_type": "stream",
          "text": [
            "20\n",
            "19\n",
            "14\n",
            "18\n"
          ],
          "name": "stdout"
        }
      ]
    },
    {
      "cell_type": "code",
      "metadata": {
        "colab": {
          "base_uri": "https://localhost:8080/"
        },
        "id": "9aPezaFMp0BN",
        "outputId": "c06ff955-1859-4f8a-daaa-b0e8004bf2ad"
      },
      "source": [
        "#ejemplo 2\n",
        "coleccion={\"mario\":20, \"mariana\":19, \"yesica\":14,\"luis\":18}\n",
        "for i in coleccion:\n",
        "  print(f\"{i}->{coleccion[i]}\")"
      ],
      "execution_count": 9,
      "outputs": [
        {
          "output_type": "stream",
          "text": [
            "mario->20\n",
            "mariana->19\n",
            "yesica->14\n",
            "luis->18\n"
          ],
          "name": "stdout"
        }
      ]
    },
    {
      "cell_type": "code",
      "metadata": {
        "colab": {
          "base_uri": "https://localhost:8080/"
        },
        "id": "zmn14zp2rkH0",
        "outputId": "e4462d8a-dfd6-4017-b035-8a0e96d9bec7"
      },
      "source": [
        "#ejemplo 2\n",
        "coleccion={\"mario\":20, \"mariana\":19, \"yesica\":14,\"luis\":18}\n",
        "for clave, valor in coleccion.items():\n",
        " print(f\"{clave}->{valor}\")"
      ],
      "execution_count": 16,
      "outputs": [
        {
          "output_type": "stream",
          "text": [
            "mario->20\n",
            "mariana->19\n",
            "yesica->14\n",
            "luis->18\n"
          ],
          "name": "stdout"
        }
      ]
    },
    {
      "cell_type": "code",
      "metadata": {
        "colab": {
          "base_uri": "https://localhost:8080/"
        },
        "id": "7ZmfvcSYrkL6",
        "outputId": "ece6fdc2-c183-492b-e65a-3912c555c18f"
      },
      "source": [
        "#ejepmlo 3\n",
        "email=False\n",
        "for i in \"ariel@unam.mx\":\n",
        "  if(i==\"@\"):\n",
        "    email=True\n",
        "if email==True:\n",
        "  print(\"el email es correcto\")\n",
        "else:\n",
        "  print(\"el correro no es correcto\")\n",
        "\n"
      ],
      "execution_count": 20,
      "outputs": [
        {
          "output_type": "stream",
          "text": [
            "el email es correcto\n"
          ],
          "name": "stdout"
        }
      ]
    },
    {
      "cell_type": "code",
      "metadata": {
        "colab": {
          "base_uri": "https://localhost:8080/"
        },
        "id": "NLPu0YS_txmr",
        "outputId": "71e64615-bd45-4df3-c666-e104496bf225"
      },
      "source": [
        "\n",
        "email=False\n",
        "miEmail=input(\"introduce tu correo electronico:\")\n",
        "for i in miEmail:\n",
        "  if(i==\"@\"):\n",
        "    email=True\n",
        "    \n",
        "if email==True:\n",
        "  print(\"el email es correcto\")\n",
        "else:\n",
        "  print(\"el correro no es correcto\")\n",
        "\n"
      ],
      "execution_count": 23,
      "outputs": [
        {
          "output_type": "stream",
          "text": [
            "introduce tu correo electronico:casandra@aragon\n",
            "el email es correcto\n"
          ],
          "name": "stdout"
        }
      ]
    },
    {
      "cell_type": "code",
      "metadata": {
        "colab": {
          "base_uri": "https://localhost:8080/"
        },
        "id": "WJi3hADXuvcB",
        "outputId": "1bd10848-fdf5-4a79-bdbd-ea4169c0f13c"
      },
      "source": [
        "#for-range\n",
        "for i in range (5):\n",
        "  print(\"hola\")"
      ],
      "execution_count": 24,
      "outputs": [
        {
          "output_type": "stream",
          "text": [
            "hola\n",
            "hola\n",
            "hola\n",
            "hola\n",
            "hola\n"
          ],
          "name": "stdout"
        }
      ]
    },
    {
      "cell_type": "code",
      "metadata": {
        "colab": {
          "base_uri": "https://localhost:8080/"
        },
        "id": "9HfLcs3jvib4",
        "outputId": "01a9c32d-22e3-49cc-9a13-39b7f72b45ac"
      },
      "source": [
        "#for-range\n",
        "for i in range (5):\n",
        "  print(i)"
      ],
      "execution_count": 25,
      "outputs": [
        {
          "output_type": "stream",
          "text": [
            "0\n",
            "1\n",
            "2\n",
            "3\n",
            "4\n"
          ],
          "name": "stdout"
        }
      ]
    },
    {
      "cell_type": "code",
      "metadata": {
        "colab": {
          "base_uri": "https://localhost:8080/"
        },
        "id": "G5iSq8vlwVCg",
        "outputId": "66072d16-fe72-4a1d-adf1-b92063cd4331"
      },
      "source": [
        "#for-range\n",
        "for i in range (10):\n",
        "  print(f\"valor de la variable {i}\")"
      ],
      "execution_count": 26,
      "outputs": [
        {
          "output_type": "stream",
          "text": [
            "valor de la variable 0\n",
            "valor de la variable 1\n",
            "valor de la variable 2\n",
            "valor de la variable 3\n",
            "valor de la variable 4\n",
            "valor de la variable 5\n",
            "valor de la variable 6\n",
            "valor de la variable 7\n",
            "valor de la variable 8\n",
            "valor de la variable 9\n"
          ],
          "name": "stdout"
        }
      ]
    },
    {
      "cell_type": "code",
      "metadata": {
        "id": "hvXtPeChy_aM"
      },
      "source": [
        "#while\n",
        "i=1\n",
        "while i <=10:\n",
        "  print(\"ejecucion\"+str(i))\n"
      ],
      "execution_count": null,
      "outputs": []
    },
    {
      "cell_type": "code",
      "metadata": {
        "colab": {
          "base_uri": "https://localhost:8080/"
        },
        "id": "4CNBerJ6z18S",
        "outputId": "90f3550b-a05a-4f49-cad7-40e1c4833618"
      },
      "source": [
        "#while\n",
        "i=1\n",
        "while i <=10:\n",
        "  print(\"ejecucion\"+str(i))\n",
        "  i=i+1 #contador, incrementa 1 la variable \n"
      ],
      "execution_count": 28,
      "outputs": [
        {
          "output_type": "stream",
          "text": [
            "ejecucion1\n",
            "ejecucion2\n",
            "ejecucion3\n",
            "ejecucion4\n",
            "ejecucion5\n",
            "ejecucion6\n",
            "ejecucion7\n",
            "ejecucion8\n",
            "ejecucion9\n",
            "ejecucion10\n"
          ],
          "name": "stdout"
        }
      ]
    },
    {
      "cell_type": "code",
      "metadata": {
        "colab": {
          "base_uri": "https://localhost:8080/"
        },
        "id": "URsU4k6m0thi",
        "outputId": "b31fe6bb-52f9-4e22-ab5d-069f12e96243"
      },
      "source": [
        "edad=int(input(\"introduce tu esas:\"))\n",
        "while edad <0:\n",
        "  print(\"has introducido una edad negativa, intentalo de nuevo:\")\n",
        "  edad=int(input(\"introduce tu edad:\"))\n",
        "print(\"gracias por participar. puede pasar\")\n",
        "print(\"edad del aspirante:+\"+ str(edad))"
      ],
      "execution_count": 31,
      "outputs": [
        {
          "output_type": "stream",
          "text": [
            "introduce tu esas:-9\n",
            "has introducido una edad negativa, intentalo de nuevo:\n",
            "introduce tu edad:-6\n",
            "has introducido una edad negativa, intentalo de nuevo:\n",
            "introduce tu edad:18\n",
            "gracias por participar. puede pasar\n",
            "edad del aspirante:18\n"
          ],
          "name": "stdout"
        }
      ]
    },
    {
      "cell_type": "code",
      "metadata": {
        "id": "wzhfux2Z1zxm"
      },
      "source": [
        "edad=int(input(\"introduce tu esas:\"))\n",
        "while edad <10 or <=100:\n",
        "  print(\"has introducido una edad negativa, intentalo de nuevo:\")\n",
        "  edad=int(input(\"introduce tu edad:\"))\n",
        "print(\"gracias por participar. puede pasar\")\n",
        "print(\"edad del aspirante:+\"+ str(edad))"
      ],
      "execution_count": null,
      "outputs": []
    },
    {
      "cell_type": "code",
      "metadata": {
        "id": "VcwhQVNK9c1G"
      },
      "source": [
        ""
      ],
      "execution_count": null,
      "outputs": []
    }
  ]
}